{
 "cells": [
  {
   "cell_type": "markdown",
   "id": "a619245f-eaa8-4c36-9475-649b05686271",
   "metadata": {},
   "source": [
    "Santa"
   ]
  },
  {
   "cell_type": "code",
   "execution_count": 3,
   "id": "248d93f7-d1bf-4fbd-96d2-27d5bf907540",
   "metadata": {},
   "outputs": [
    {
     "name": "stdout",
     "output_type": "stream",
     "text": [
      "5개의 텍스트 블록을 './split_text/santa' 폴더에 저장했습니다.\n"
     ]
    }
   ],
   "source": [
    "text_blocks = [\n",
    "    \"\"\"Denny's, it's always open, proclaimed Scott as he opened the door to the restaurant.\n",
    "His son Charlie grimly shuffled through the door, kicking snow onto the entryway carpet.\n",
    "I don't want to eat here, he mumbled as Scott entered behind him.\n",
    "This wasn't how he had pictured spending his Christmas Eve.\n",
    "What are you talking about? Everybody likes Denny's. It's an American institution.\n",
    "As they approached the hostess stand, they heard a loud commotion from inside the restaurant.\"\"\",\n",
    "\n",
    "    \"\"\"A huge table of Japanese businessmen were excitedly gesturing to one another and erupting in uproars of laughter.\n",
    "Harried waitresses weaved between them to pour refills of coffee.\n",
    "A hostess hurried up to meet them.\n",
    "Are you with Hatsutoshi?\n",
    "No, said Charlie. Dad burnt the turkey.\n",
    "Oh, yeah, this way, come on, said the hostess, motioning them toward a back room.\n",
    "Several other families sat quietly in their booths, and one of the fathers sported a fresh bandage on his hand.\n",
    "\"\"\",\n",
    "\n",
    "    \"\"\"He and Scott nodded to each other in a gesture of solidarity as Scott and Charlie took their seats.\n",
    "The hostess handed them menus, which Charlie reluctantly opened.\n",
    "You know, Neil's a real good cook, he said, eyeing his father above the menu.\n",
    "Scott gave a snort at the mention of his ex-wife's new boyfriend.\n",
    "Yeah, and you should see him walk on water.\n",
    "You don't like him very much, do you, Dad? A tall waitress with frizzy hair approached the table with an order pad. Coffee?\n",
    "The smile returned to Scott's face. No, thank you.\n",
    "Scott paused for a minute as he read her name tag.\"\"\",\n",
    "\n",
    "    \"\"\"Judy, what do you say we start out with cold glasses of that delicious seasonal favorite, eggnog?\n",
    "Charlie had just begun to protest that he didn't like eggnog when Judy interrupted him. We're out.\n",
    "Scott shrugged. Then I'll take a decaf coffee and turkey club.\n",
    "She turned to Charlie. I'll have a chocolate milk and we're out.\n",
    "Judy interrupted again and Charlie sighed. Plain milk's fine and chicken fingers.\n",
    "Judy collected their menus and strode off toward the kitchen.\n",
    "The two sat in silence for a minute.\n",
    "Scott put his palms down on the table. Look, I'm sorry. I was just kidding about Neil. I like him.\n",
    "I'm sure he's a good psychiatrist.\n",
    "You know, there's just something about him that makes me want to, I don't know, lash out irrationally, suggested Charlie.\"\"\",\n",
    "\n",
    "    \"\"\"Where did you hear that? From Neil. I learn a lot from him. He listens to me.\n",
    "Scott shook his head. Yeah, and then he charges you for it.\n",
    "Judy reappeared with their drinks, the sandwich, and chicken fingers.\n",
    "Charlie dove into the french fries on his plate.\n",
    "Merry Christmas, you two.\"\"\"\n",
    "]\n",
    "\n",
    "# 저장 디렉토리 생성\n",
    "import os\n",
    "save_dir = \"./split_text/santa\"\n",
    "os.makedirs(save_dir, exist_ok=True)\n",
    "\n",
    "# 파일 저장\n",
    "for i, block in enumerate(text_blocks):\n",
    "    file_path = os.path.join(save_dir, f\"text_block_{i+1}.txt\")\n",
    "    with open(file_path, \"w\", encoding=\"utf-8\") as f:\n",
    "        f.write(block)\n",
    "\n",
    "print(f\"{len(text_blocks)}개의 텍스트 블록을 '{save_dir}' 폴더에 저장했습니다.\")"
   ]
  },
  {
   "cell_type": "markdown",
   "id": "47214c97-a902-49e2-ab9f-a4bbea5cc223",
   "metadata": {},
   "source": [
    "pieman"
   ]
  },
  {
   "cell_type": "code",
   "execution_count": 15,
   "id": "5ae692b9-255c-4657-85d4-97698fc9c87e",
   "metadata": {},
   "outputs": [
    {
     "name": "stdout",
     "output_type": "stream",
     "text": [
      "14개의 텍스트 블록을 './split_text/pieman' 폴더에 저장했습니다.\n"
     ]
    }
   ],
   "source": [
    "import pandas as pd\n",
    "from math import ceil\n",
    "\n",
    "# 데이터프레임 생성\n",
    "data = [\n",
    "    {\"start\": 15.000, \"end\": 26.220, \"text\": \"I began my illustrious career in journalism in the Bronx, where I toiled as a hard-boiled reporter for The Ram, the student newspaper at Fordham University.\"},\n",
    "    {\"start\": 27.060, \"end\": 41.060, \"text\": \"And one day I'm walking toward the campus center, and out comes the elusive Dean McGowan, architect of a policy to replace Fordham's traditionally working-to-middle-class students with wealthier, more prestigious ones.\"},\n",
    "    {\"start\": 41.920, \"end\": 49.840, \"text\": \"So I whip out my notebook and I go up to him and I say, Dean McGowan, is it true that Fordham University plans to raise tuition substantially above the inflation rate?\"},\n",
    "    {\"start\": 50.120, \"end\": 52.800, \"text\": \"And if so, wouldn't that be a betrayal of its mission?\"},\n",
    "    {\"start\": 54.300, \"end\": 59.480, \"text\": \"And he stops and looks at me and he says, listen up, punk.\"},\n",
    "    {\"start\": 59.780, \"end\": 71.860, \"text\": \"And right then there's a blur in the corner of my eye which becomes this figure holding a cream pie which becomes the guy standing next to me mashing a cream pie into Dean McGowan's face.\"},\n",
    "    {\"start\": 71.860, \"end\": 74.800, \"text\": \"and then runs away.\"},\n",
    "    {\"start\": 77.140, \"end\": 79.960, \"text\": \"And the dean is covered with cream.\"},\n",
    "    {\"start\": 81.960, \"end\": 83.240, \"text\": \"So I give him a moment.\"},\n",
    "    {\"start\": 85.220, \"end\": 88.620, \"text\": \"And then I say, Dean McGowan, would you care to comment on this latest attack?\"},\n",
    "    {\"start\": 91.460, \"end\": 94.460, \"text\": \"And the dean says, yes, I would care to comment.\"},\n",
    "    {\"start\": 95.100, \"end\": 96.040, \"text\": \"Fuck you.\"},\n",
    "    {\"start\": 97.860, \"end\": 100.320, \"text\": \"So I race back to the newsroom with my scoop.\"},\n",
    "    {\"start\": 100.320, \"end\": 106.200, \"text\": \"and I find the editor, Jim Dwyer, who's a senior, and he will go on to win a Pulitzer Prize.\"},\n",
    "    {\"start\": 106.280, \"end\": 106.840, \"text\": \"That is true.\"},\n",
    "    {\"start\": 107.840, \"end\": 109.120, \"text\": \"And he's a big guy.\"},\n",
    "    {\"start\": 109.240, \"end\": 110.080, \"text\": \"I pitch him my story.\"},\n",
    "    {\"start\": 110.180, \"end\": 111.160, \"text\": \"I tell him what I've seen.\"},\n",
    "    {\"start\": 111.680, \"end\": 115.860, \"text\": \"And he says, Dean McGowan, that guy's a dick.\"},\n",
    "    {\"start\": 116.080, \"end\": 116.620, \"text\": \"Write it up.\"},\n",
    "    {\"start\": 117.800, \"end\": 120.060, \"text\": \"So I'm banging out my story and I know it's good.\"},\n",
    "    {\"start\": 120.380, \"end\": 123.120, \"text\": \"And then I start to make it better.\"},\n",
    "    {\"start\": 125.840, \"end\": 128.060, \"text\": \"By adding an element of embellishment.\"},\n",
    "    {\"start\": 128.060, \"end\": 132.360, \"text\": \"But reporters call this making shit up.\"},\n",
    "    {\"start\": 135.080, \"end\": 138.240, \"text\": \"And they recommend against crossing that line.\"},\n",
    "    {\"start\": 139.620, \"end\": 145.520, \"text\": \"But I had just seen the line crossed between a high-powered dean and a salt with a pastry.\"},\n",
    "    {\"start\": 146.400, \"end\": 147.780, \"text\": \"And I kind of liked it.\"},\n",
    "    {\"start\": 148.520, \"end\": 151.640, \"text\": \"So the first thing I did was I gave the figure a name.\"},\n",
    "    {\"start\": 151.640, \"end\": 154.640, \"text\": \"I called him Pie Man, capital P, capital M.\"},\n",
    "    {\"start\": 154.640, \"end\": 158.320, \"text\": \"and I described him as a cape-wearing masked Avenger.\"},\n",
    "    {\"start\": 159.440, \"end\": 161.080, \"text\": \"Though in fact he'd been capeless.\"},\n",
    "    {\"start\": 161.940, \"end\": 165.960, \"text\": \"And I said that as he fled the scene, he clicked his heels in rickish glee.\"},\n",
    "    {\"start\": 168.740, \"end\": 172.180, \"text\": \"And I gave him a catchphrase in Latin.\"},\n",
    "    {\"start\": 175.220, \"end\": 180.280, \"text\": \"I said that he cried out, Ego sum non an bestia.\"},\n",
    "    {\"start\": 181.560, \"end\": 184.600, \"text\": \"Which means I am not an animal.\"},\n",
    "    {\"start\": 184.640, \"end\": 193.400, \"text\": \"which makes no sense. I needed something. I'm Catholic. Latin just comes to me.\"},\n",
    "    {\"start\": 195.080, \"end\": 207.600, \"text\": \"So I finish my story, and I hand it to Dwyer, and he reads it, and he says, pie man, I love it. Page one. And that's how the first line got crossed.\"},\n",
    "    {\"start\": 207.600, \"end\": 210.740, \"text\": \"A few days later, I get a letter.\"},\n",
    "    {\"start\": 211.960, \"end\": 215.240, \"text\": \"It says, Dear Jim, good story, nice details.\"},\n",
    "    {\"start\": 216.080, \"end\": 222.860, \"text\": \"If you want to see me again in action, be on the steps of Duane Library Tuesday at 3 o'clock.\"},\n",
    "    {\"start\": 224.320, \"end\": 225.980, \"text\": \"Signed, Pymat.\"},\n",
    "    {\"start\": 228.720, \"end\": 232.440, \"text\": \"So I was there with a photographer from the RAM.\"},\n",
    "    {\"start\": 233.180, \"end\": 237.000, \"text\": \"And sure enough, out comes Sheila Beale, student body president.\"},\n",
    "    {\"start\": 237.600, \"end\": 245.360, \"text\": \"And now Sheila was different from me and all the other Fordham students who wear flannel shirts and work part-time jobs.\"},\n",
    "    {\"start\": 245.360, \"end\": 247.780, \"text\": \"Sheila was well-bred.\"},\n",
    "    {\"start\": 247.780, \"end\": 252.080, \"text\": \"Sheila had school spirit.\"},\n",
    "    {\"start\": 252.080, \"end\": 255.100, \"text\": \"Sheila was the kind of student that Dean McGowan wanted more of.\"},\n",
    "    {\"start\": 255.100, \"end\": 262.360, \"text\": \"Although rumor had it that he got plenty of her in his office, on his desk.\"},\n",
    "    {\"start\": 262.360, \"end\": 263.360, \"text\": \"But that's just a rumor.\"},\n",
    "    {\"start\": 263.360, \"end\": 266.120, \"text\": \"Please do not spread that outside this room.\"},\n",
    "    {\"start\": 266.120, \"end\": 267.520, \"text\": \"I myself would never say that.\"},\n",
    "    {\"start\": 268.380, \"end\": 274.280, \"text\": \"But the fact was, Sheila had collaborated with the dean to ban outdoor drinking on campus.\"},\n",
    "    {\"start\": 274.800, \"end\": 277.320, \"text\": \"The infamous no more beer at barbecues rule.\"},\n",
    "    {\"start\": 277.520, \"end\": 278.640, \"text\": \"That's right, boo that rule.\"},\n",
    "    {\"start\": 281.100, \"end\": 284.340, \"text\": \"Sheila thought drinking in public was in poor taste.\"},\n",
    "    {\"start\": 285.980, \"end\": 288.400, \"text\": \"I think you know what happened next.\"},\n",
    "    {\"start\": 290.060, \"end\": 301.120, \"text\": \"Pieman emerged from behind the late night library drop box, made his delivery and fled away, crying, Ego sum non albistia!\"},\n",
    "    {\"start\": 303.240, \"end\": 314.440, \"text\": \"Or at least that's what it said in my story in the newspaper the next day, which ran with a photo of him leaving the scene, cape flowing behind him, doing this.\"},\n",
    "    {\"start\": 316.960, \"end\": 320.560, \"text\": \"And that's what made him a sensation on campus.\"},\n",
    "    {\"start\": 320.560, \"end\": 324.320, \"text\": \"people started dressing like him and quoting him in class.\"},\n",
    "    {\"start\": 324.920, \"end\": 328.480, \"text\": \"The Ram ran five major stories about pie man, all of them by me.\"},\n",
    "    {\"start\": 329.860, \"end\": 339.700, \"text\": \"And toward the end of this run, I was out at a bar one night, and I came in, I saw in the corner Angela from my Brit Lit class, drinking with some friends.\"},\n",
    "    {\"start\": 340.300, \"end\": 351.840, \"text\": \"And now Angela and I had been flirting for two months, or I had been flirting with her, and was such nuanced that there was a question about whether she knew I existed.\"},\n",
    "    {\"start\": 354.100, \"end\": 357.420, \"text\": \"So I saw her there and made a mental note to do nothing about it.\"},\n",
    "    {\"start\": 358.580, \"end\": 366.020, \"text\": \"And then I went to the bar to buy a round, and I felt a tap on my shoulder, and it was her.\"},\n",
    "    {\"start\": 367.320, \"end\": 375.880, \"text\": \"And she said, Jim, we were just talking about how you always seem to know when and where pie man will strike.\"},\n",
    "    {\"start\": 376.220, \"end\": 380.920, \"text\": \"And we were wondering, are you Pie Man?\"},\n",
    "    {\"start\": 383.000, \"end\": 389.180, \"text\": \"And I knew by the way she said it, I knew that if I said yes, she would have sex with me.\"},\n",
    "    {\"start\": 391.720, \"end\": 394.620, \"text\": \"And wasn't I really Pie Man?\"},\n",
    "    {\"start\": 398.440, \"end\": 403.080, \"text\": \"For having brought him into being, didn't she only know about him through me?\"},\n",
    "    {\"start\": 403.080, \"end\": 437.060, \"text\": \"but she had asked me a straightforward question that came with a straightforward answer in fact I wasn't pie man as far as I knew I had never seen the guy out of costume so I looked at her and I said yes Angela I am pie man and she said oh good now buy me a beer and tell me all about it Thank you.\"}\n",
    "]\n",
    "n_blocks = 14\n",
    "df = pd.DataFrame(data)\n",
    "total_time = df[\"end\"].max() - df[\"start\"].min()\n",
    "target_block_duration = total_time / n_blocks\n",
    "\n",
    "# 분할\n",
    "text_blocks = []\n",
    "current_block = \"\"\n",
    "current_end = df[\"start\"].min() + target_block_duration\n",
    "\n",
    "for _, row in df.iterrows():\n",
    "    if row[\"end\"] <= current_end:\n",
    "        current_block += \" \" + row[\"text\"]\n",
    "    else:\n",
    "        text_blocks.append(current_block.strip())\n",
    "        current_block = row[\"text\"]\n",
    "        current_end += target_block_duration\n",
    "\n",
    "# 마지막 블록 추가\n",
    "if current_block:\n",
    "    text_blocks.append(current_block.strip())\n",
    "    \n",
    "# 저장 디렉토리 생성\n",
    "import os\n",
    "save_dir = \"./split_text/pieman\"\n",
    "os.makedirs(save_dir, exist_ok=True)\n",
    "\n",
    "# 파일 저장\n",
    "for i, block in enumerate(text_blocks):\n",
    "    file_path = os.path.join(save_dir, f\"text_block_{i+1}.txt\")\n",
    "    with open(file_path, \"w\", encoding=\"utf-8\") as f:\n",
    "        f.write(block)\n",
    "\n",
    "print(f\"{len(text_blocks)}개의 텍스트 블록을 '{save_dir}' 폴더에 저장했습니다.\")"
   ]
  },
  {
   "cell_type": "markdown",
   "id": "10e304c5-2cd7-4f07-8384-a1531eb98ff4",
   "metadata": {},
   "source": [
    "21styear"
   ]
  },
  {
   "cell_type": "code",
   "execution_count": 19,
   "id": "b8c7d306-7e0c-45cf-b37e-99524e0287b1",
   "metadata": {
    "scrolled": true
   },
   "outputs": [
    {
     "name": "stdout",
     "output_type": "stream",
     "text": [
      "111개의 텍스트 블록을 './split_text/21styear' 폴더에 저장했습니다.\n"
     ]
    }
   ],
   "source": [
    "import pandas as pd\n",
    "\n",
    "data_path = \"./timestamp/21styear_timestamp.csv\"\n",
    "df = pd.read_csv(data_path)  # CSV 파일을 읽어옵니다\n",
    "\n",
    "n_blocks = 111\n",
    "total_time = df[\"end\"].max() - df[\"start\"].min()\n",
    "target_block_duration = total_time / n_blocks\n",
    "\n",
    "# 분할\n",
    "text_blocks = []\n",
    "current_block = \"\"\n",
    "current_end = df[\"start\"].min() + target_block_duration\n",
    "\n",
    "for _, row in df.iterrows():\n",
    "    if row[\"end\"] <= current_end:\n",
    "        current_block += \" \" + row[\"text\"]\n",
    "    else:\n",
    "        text_blocks.append(current_block.strip())\n",
    "        current_block = row[\"text\"]\n",
    "        current_end += target_block_duration\n",
    "\n",
    "# 마지막 블록 추가\n",
    "if current_block:\n",
    "    text_blocks.append(current_block.strip())\n",
    "    \n",
    "# 저장 디렉토리 생성\n",
    "import os\n",
    "save_dir = \"./split_text/21styear\"\n",
    "os.makedirs(save_dir, exist_ok=True)\n",
    "\n",
    "# 파일 저장\n",
    "for i, block in enumerate(text_blocks):\n",
    "    file_path = os.path.join(save_dir, f\"text_block_{i+1}.txt\")\n",
    "    with open(file_path, \"w\", encoding=\"utf-8\") as f:\n",
    "        f.write(block)\n",
    "\n",
    "print(f\"{len(text_blocks)}개의 텍스트 블록을 '{save_dir}' 폴더에 저장했습니다.\")\n"
   ]
  },
  {
   "cell_type": "markdown",
   "id": "339b236e-16e5-47a9-a775-e47f86170c6e",
   "metadata": {},
   "source": [
    "bigbang"
   ]
  },
  {
   "cell_type": "code",
   "execution_count": 23,
   "id": "8a4c5841-64c0-4bb0-8f8e-7feef75dde39",
   "metadata": {},
   "outputs": [
    {
     "name": "stdout",
     "output_type": "stream",
     "text": [
      "5개의 텍스트 블록을 './split_text/bigbang' 폴더에 저장했습니다.\n"
     ]
    }
   ],
   "source": [
    "import pandas as pd\n",
    "\n",
    "data_path = \"./timestamp/bigbang_timestamp.csv\"\n",
    "df = pd.read_csv(data_path)  # CSV 파일을 읽어옵니다\n",
    "\n",
    "n_blocks = 5\n",
    "total_time = df[\"end\"].max() - df[\"start\"].min()\n",
    "target_block_duration = total_time / n_blocks\n",
    "\n",
    "# 분할\n",
    "text_blocks = []\n",
    "current_block = \"\"\n",
    "current_end = df[\"start\"].min() + target_block_duration\n",
    "\n",
    "for _, row in df.iterrows():\n",
    "    if row[\"end\"] <= current_end:\n",
    "        current_block += \" \" + row[\"text\"]\n",
    "    else:\n",
    "        text_blocks.append(current_block.strip())\n",
    "        current_block = row[\"text\"]\n",
    "        current_end += target_block_duration\n",
    "\n",
    "# 마지막 블록 추가\n",
    "if current_block:\n",
    "    text_blocks.append(current_block.strip())\n",
    "    \n",
    "# 저장 디렉토리 생성\n",
    "import os\n",
    "save_dir = \"./split_text/bigbang\"\n",
    "os.makedirs(save_dir, exist_ok=True)\n",
    "\n",
    "# 파일 저장\n",
    "for i, block in enumerate(text_blocks):\n",
    "    file_path = os.path.join(save_dir, f\"text_block_{i+1}.txt\")\n",
    "    with open(file_path, \"w\", encoding=\"utf-8\") as f:\n",
    "        f.write(block)\n",
    "\n",
    "print(f\"{len(text_blocks)}개의 텍스트 블록을 '{save_dir}' 폴더에 저장했습니다.\")\n"
   ]
  },
  {
   "cell_type": "markdown",
   "id": "41942a17-9c69-4724-b590-817b36a82d20",
   "metadata": {},
   "source": [
    "black"
   ]
  },
  {
   "cell_type": "code",
   "execution_count": 24,
   "id": "16b2c672-7693-4f71-a462-4cdb2db7cbd2",
   "metadata": {},
   "outputs": [
    {
     "name": "stdout",
     "output_type": "stream",
     "text": [
      "26개의 텍스트 블록을 './split_text/black' 폴더에 저장했습니다.\n"
     ]
    }
   ],
   "source": [
    "import pandas as pd\n",
    "\n",
    "data_path = \"./timestamp/black_timestamp.csv\"\n",
    "df = pd.read_csv(data_path)  # CSV 파일을 읽어옵니다\n",
    "\n",
    "n_blocks =26\n",
    "total_time = df[\"end\"].max() - df[\"start\"].min()\n",
    "target_block_duration = total_time / n_blocks\n",
    "\n",
    "# 분할\n",
    "text_blocks = []\n",
    "current_block = \"\"\n",
    "current_end = df[\"start\"].min() + target_block_duration\n",
    "\n",
    "for _, row in df.iterrows():\n",
    "    if row[\"end\"] <= current_end:\n",
    "        current_block += \" \" + row[\"text\"]\n",
    "    else:\n",
    "        text_blocks.append(current_block.strip())\n",
    "        current_block = row[\"text\"]\n",
    "        current_end += target_block_duration\n",
    "\n",
    "# 마지막 블록 추가\n",
    "if current_block:\n",
    "    text_blocks.append(current_block.strip())\n",
    "    \n",
    "# 저장 디렉토리 생성\n",
    "import os\n",
    "save_dir = \"./split_text/black\"\n",
    "os.makedirs(save_dir, exist_ok=True)\n",
    "\n",
    "# 파일 저장\n",
    "for i, block in enumerate(text_blocks):\n",
    "    file_path = os.path.join(save_dir, f\"text_block_{i+1}.txt\")\n",
    "    with open(file_path, \"w\", encoding=\"utf-8\") as f:\n",
    "        f.write(block)\n",
    "\n",
    "print(f\"{len(text_blocks)}개의 텍스트 블록을 '{save_dir}' 폴더에 저장했습니다.\")"
   ]
  },
  {
   "cell_type": "markdown",
   "id": "d4583226-0031-43ec-87f5-a797856fb441",
   "metadata": {},
   "source": [
    "bronx"
   ]
  },
  {
   "cell_type": "code",
   "execution_count": 26,
   "id": "067996fa-c953-4b71-bcf2-e5c9a975a6e4",
   "metadata": {},
   "outputs": [
    {
     "name": "stdout",
     "output_type": "stream",
     "text": [
      "17개의 텍스트 블록을 './split_text/bronx' 폴더에 저장했습니다.\n"
     ]
    }
   ],
   "source": [
    "import pandas as pd\n",
    "\n",
    "data_path = \"./timestamp/bronx_timestamp.csv\"\n",
    "df = pd.read_csv(data_path)  # CSV 파일을 읽어옵니다\n",
    "\n",
    "n_blocks =17\n",
    "total_time = df[\"end\"].max() - df[\"start\"].min()\n",
    "target_block_duration = total_time / n_blocks\n",
    "\n",
    "# 분할\n",
    "text_blocks = []\n",
    "current_block = \"\"\n",
    "current_end = df[\"start\"].min() + target_block_duration\n",
    "\n",
    "for _, row in df.iterrows():\n",
    "    if row[\"end\"] <= current_end or len(text_blocks) >= n_blocks - 1:\n",
    "        current_block += \" \" + row[\"text\"]\n",
    "    else:\n",
    "        text_blocks.append(current_block.strip())\n",
    "        current_block = row[\"text\"]\n",
    "        current_end += target_block_duration\n",
    "\n",
    "# 마지막 블록 추가\n",
    "if current_block:\n",
    "    text_blocks.append(current_block.strip())\n",
    "    \n",
    "# 저장 디렉토리 생성\n",
    "import os\n",
    "save_dir = \"./split_text/bronx\"\n",
    "os.makedirs(save_dir, exist_ok=True)\n",
    "\n",
    "# 파일 저장\n",
    "for i, block in enumerate(text_blocks):\n",
    "    file_path = os.path.join(save_dir, f\"text_block_{i+1}.txt\")\n",
    "    with open(file_path, \"w\", encoding=\"utf-8\") as f:\n",
    "        f.write(block)\n",
    "\n",
    "print(f\"{len(text_blocks)}개의 텍스트 블록을 '{save_dir}' 폴더에 저장했습니다.\")"
   ]
  },
  {
   "cell_type": "markdown",
   "id": "ae814d6d-1765-46b0-ba0f-c860cbacb57f",
   "metadata": {},
   "source": [
    "forgot"
   ]
  },
  {
   "cell_type": "code",
   "execution_count": 27,
   "id": "5dcb21fd-80d1-413d-a335-920af4485512",
   "metadata": {},
   "outputs": [
    {
     "name": "stdout",
     "output_type": "stream",
     "text": [
      "27개의 텍스트 블록을 './split_text/forgot' 폴더에 저장했습니다.\n"
     ]
    }
   ],
   "source": [
    "import pandas as pd\n",
    "\n",
    "data_path = \"./timestamp/forgot_timestamp.csv\"\n",
    "df = pd.read_csv(data_path)  # CSV 파일을 읽어옵니다\n",
    "\n",
    "n_blocks =27\n",
    "total_time = df[\"end\"].max() - df[\"start\"].min()\n",
    "target_block_duration = total_time / n_blocks\n",
    "\n",
    "# 분할\n",
    "text_blocks = []\n",
    "current_block = \"\"\n",
    "current_end = df[\"start\"].min() + target_block_duration\n",
    "\n",
    "for _, row in df.iterrows():\n",
    "    if row[\"end\"] <= current_end or len(text_blocks) >= n_blocks - 1:\n",
    "        current_block += \" \" + row[\"text\"]\n",
    "    else:\n",
    "        text_blocks.append(current_block.strip())\n",
    "        current_block = row[\"text\"]\n",
    "        current_end += target_block_duration\n",
    "\n",
    "# 마지막 블록 추가\n",
    "if current_block:\n",
    "    text_blocks.append(current_block.strip())\n",
    "    \n",
    "# 저장 디렉토리 생성\n",
    "import os\n",
    "save_dir = \"./split_text/forgot\"\n",
    "os.makedirs(save_dir, exist_ok=True)\n",
    "\n",
    "# 파일 저장\n",
    "for i, block in enumerate(text_blocks):\n",
    "    file_path = os.path.join(save_dir, f\"text_block_{i+1}.txt\")\n",
    "    with open(file_path, \"w\", encoding=\"utf-8\") as f:\n",
    "        f.write(block)\n",
    "\n",
    "print(f\"{len(text_blocks)}개의 텍스트 블록을 '{save_dir}' 폴더에 저장했습니다.\")"
   ]
  },
  {
   "cell_type": "markdown",
   "id": "07159401-3827-42fd-b392-f8ee9c70a8e2",
   "metadata": {},
   "source": [
    "friends"
   ]
  },
  {
   "cell_type": "code",
   "execution_count": 28,
   "id": "5ed6d71a-e301-4a74-82f9-6dd5468374a7",
   "metadata": {},
   "outputs": [
    {
     "name": "stdout",
     "output_type": "stream",
     "text": [
      "5개의 텍스트 블록을 './split_text/friends' 폴더에 저장했습니다.\n"
     ]
    }
   ],
   "source": [
    "import pandas as pd\n",
    "\n",
    "data_path = \"./timestamp/friends_timestamp.csv\"\n",
    "df = pd.read_csv(data_path)  # CSV 파일을 읽어옵니다\n",
    "\n",
    "n_blocks =5\n",
    "total_time = df[\"end\"].max() - df[\"start\"].min()\n",
    "target_block_duration = total_time / n_blocks\n",
    "\n",
    "# 분할\n",
    "text_blocks = []\n",
    "current_block = \"\"\n",
    "current_end = df[\"start\"].min() + target_block_duration\n",
    "\n",
    "for _, row in df.iterrows():\n",
    "    if row[\"end\"] <= current_end or len(text_blocks) >= n_blocks - 1:\n",
    "        current_block += \" \" + row[\"text\"]\n",
    "    else:\n",
    "        text_blocks.append(current_block.strip())\n",
    "        current_block = row[\"text\"]\n",
    "        current_end += target_block_duration\n",
    "\n",
    "# 마지막 블록 추가\n",
    "if current_block:\n",
    "    text_blocks.append(current_block.strip())\n",
    "    \n",
    "# 저장 디렉토리 생성\n",
    "import os\n",
    "save_dir = \"./split_text/friends\"\n",
    "os.makedirs(save_dir, exist_ok=True)\n",
    "\n",
    "# 파일 저장\n",
    "for i, block in enumerate(text_blocks):\n",
    "    file_path = os.path.join(save_dir, f\"text_block_{i+1}.txt\")\n",
    "    with open(file_path, \"w\", encoding=\"utf-8\") as f:\n",
    "        f.write(block)\n",
    "\n",
    "print(f\"{len(text_blocks)}개의 텍스트 블록을 '{save_dir}' 폴더에 저장했습니다.\")"
   ]
  },
  {
   "cell_type": "markdown",
   "id": "044ecd6b-95ba-4391-92a3-00b8fb5a437c",
   "metadata": {},
   "source": [
    "himym"
   ]
  },
  {
   "cell_type": "code",
   "execution_count": 29,
   "id": "bda7d068-e930-4636-a493-8b03d403ceb4",
   "metadata": {},
   "outputs": [
    {
     "name": "stdout",
     "output_type": "stream",
     "text": [
      "5개의 텍스트 블록을 './split_text/himym' 폴더에 저장했습니다.\n"
     ]
    }
   ],
   "source": [
    "import pandas as pd\n",
    "\n",
    "data_path = \"./timestamp/himym_timestamp.csv\"\n",
    "df = pd.read_csv(data_path)  # CSV 파일을 읽어옵니다\n",
    "\n",
    "n_blocks =5\n",
    "total_time = df[\"end\"].max() - df[\"start\"].min()\n",
    "target_block_duration = total_time / n_blocks\n",
    "\n",
    "# 분할\n",
    "text_blocks = []\n",
    "current_block = \"\"\n",
    "current_end = df[\"start\"].min() + target_block_duration\n",
    "\n",
    "for _, row in df.iterrows():\n",
    "    if row[\"end\"] <= current_end or len(text_blocks) >= n_blocks - 1:\n",
    "        current_block += \" \" + row[\"text\"]\n",
    "    else:\n",
    "        text_blocks.append(current_block.strip())\n",
    "        current_block = row[\"text\"]\n",
    "        current_end += target_block_duration\n",
    "\n",
    "# 마지막 블록 추가\n",
    "if current_block:\n",
    "    text_blocks.append(current_block.strip())\n",
    "    \n",
    "# 저장 디렉토리 생성\n",
    "import os\n",
    "save_dir = \"./split_text/himym\"\n",
    "os.makedirs(save_dir, exist_ok=True)\n",
    "\n",
    "# 파일 저장\n",
    "for i, block in enumerate(text_blocks):\n",
    "    file_path = os.path.join(save_dir, f\"text_block_{i+1}.txt\")\n",
    "    with open(file_path, \"w\", encoding=\"utf-8\") as f:\n",
    "        f.write(block)\n",
    "\n",
    "print(f\"{len(text_blocks)}개의 텍스트 블록을 '{save_dir}' 폴더에 저장했습니다.\")"
   ]
  },
  {
   "cell_type": "markdown",
   "id": "ba07527b-d05a-4e26-abdd-b074f460c4c9",
   "metadata": {},
   "source": [
    "lucy"
   ]
  },
  {
   "cell_type": "code",
   "execution_count": 30,
   "id": "73927504-fba3-4303-af6a-3885b0363f28",
   "metadata": {},
   "outputs": [
    {
     "name": "stdout",
     "output_type": "stream",
     "text": [
      "18개의 텍스트 블록을 './split_text/lucy' 폴더에 저장했습니다.\n"
     ]
    }
   ],
   "source": [
    "import pandas as pd\n",
    "\n",
    "data_path = \"./timestamp/lucy_timestamp.csv\"\n",
    "df = pd.read_csv(data_path)  # CSV 파일을 읽어옵니다\n",
    "\n",
    "n_blocks =18\n",
    "total_time = df[\"end\"].max() - df[\"start\"].min()\n",
    "target_block_duration = total_time / n_blocks\n",
    "\n",
    "# 분할\n",
    "text_blocks = []\n",
    "current_block = \"\"\n",
    "current_end = df[\"start\"].min() + target_block_duration\n",
    "\n",
    "for _, row in df.iterrows():\n",
    "    if row[\"end\"] <= current_end or len(text_blocks) >= n_blocks - 1:\n",
    "        current_block += \" \" + row[\"text\"]\n",
    "    else:\n",
    "        text_blocks.append(current_block.strip())\n",
    "        current_block = row[\"text\"]\n",
    "        current_end += target_block_duration\n",
    "\n",
    "# 마지막 블록 추가\n",
    "if current_block:\n",
    "    text_blocks.append(current_block.strip())\n",
    "    \n",
    "# 저장 디렉토리 생성\n",
    "import os\n",
    "save_dir = \"./split_text/lucy\"\n",
    "os.makedirs(save_dir, exist_ok=True)\n",
    "\n",
    "# 파일 저장\n",
    "for i, block in enumerate(text_blocks):\n",
    "    file_path = os.path.join(save_dir, f\"text_block_{i+1}.txt\")\n",
    "    with open(file_path, \"w\", encoding=\"utf-8\") as f:\n",
    "        f.write(block)\n",
    "\n",
    "print(f\"{len(text_blocks)}개의 텍스트 블록을 '{save_dir}' 폴더에 저장했습니다.\")"
   ]
  },
  {
   "cell_type": "markdown",
   "id": "a4ef666b-fba7-42af-9522-f8c13f8cac89",
   "metadata": {},
   "source": [
    "merlin"
   ]
  },
  {
   "cell_type": "code",
   "execution_count": 31,
   "id": "fba59c45-3bf7-42d7-ad29-638864798d5f",
   "metadata": {},
   "outputs": [
    {
     "name": "stdout",
     "output_type": "stream",
     "text": [
      "29개의 텍스트 블록을 './split_text/merlin' 폴더에 저장했습니다.\n"
     ]
    }
   ],
   "source": [
    "import pandas as pd\n",
    "\n",
    "data_path = \"./timestamp/merlin_timestamp.csv\"\n",
    "df = pd.read_csv(data_path)  # CSV 파일을 읽어옵니다\n",
    "\n",
    "n_blocks =29\n",
    "total_time = df[\"end\"].max() - df[\"start\"].min()\n",
    "target_block_duration = total_time / n_blocks\n",
    "\n",
    "# 분할\n",
    "text_blocks = []\n",
    "current_block = \"\"\n",
    "current_end = df[\"start\"].min() + target_block_duration\n",
    "\n",
    "for _, row in df.iterrows():\n",
    "    if row[\"end\"] <= current_end or len(text_blocks) >= n_blocks - 1:\n",
    "        current_block += \" \" + row[\"text\"]\n",
    "    else:\n",
    "        text_blocks.append(current_block.strip())\n",
    "        current_block = row[\"text\"]\n",
    "        current_end += target_block_duration\n",
    "\n",
    "# 마지막 블록 추가\n",
    "if current_block:\n",
    "    text_blocks.append(current_block.strip())\n",
    "    \n",
    "# 저장 디렉토리 생성\n",
    "import os\n",
    "save_dir = \"./split_text/merlin\"\n",
    "os.makedirs(save_dir, exist_ok=True)\n",
    "\n",
    "# 파일 저장\n",
    "for i, block in enumerate(text_blocks):\n",
    "    file_path = os.path.join(save_dir, f\"text_block_{i+1}.txt\")\n",
    "    with open(file_path, \"w\", encoding=\"utf-8\") as f:\n",
    "        f.write(block)\n",
    "\n",
    "print(f\"{len(text_blocks)}개의 텍스트 블록을 '{save_dir}' 폴더에 저장했습니다.\")"
   ]
  },
  {
   "cell_type": "markdown",
   "id": "fd616a07-8e16-4e39-991c-f435c8c25a6d",
   "metadata": {},
   "source": [
    "milkywayoriginal"
   ]
  },
  {
   "cell_type": "code",
   "execution_count": 32,
   "id": "a977dc9a-ecf3-4776-bee4-4c5fc197ec14",
   "metadata": {},
   "outputs": [
    {
     "name": "stdout",
     "output_type": "stream",
     "text": [
      "13개의 텍스트 블록을 './split_text/milkywayoriginal' 폴더에 저장했습니다.\n"
     ]
    }
   ],
   "source": [
    "import pandas as pd\n",
    "\n",
    "data_path = \"./timestamp/milkywayoriginal_timestamp.csv\"\n",
    "df = pd.read_csv(data_path)  # CSV 파일을 읽어옵니다\n",
    "\n",
    "n_blocks =13\n",
    "total_time = df[\"end\"].max() - df[\"start\"].min()\n",
    "target_block_duration = total_time / n_blocks\n",
    "\n",
    "# 분할\n",
    "text_blocks = []\n",
    "current_block = \"\"\n",
    "current_end = df[\"start\"].min() + target_block_duration\n",
    "\n",
    "for _, row in df.iterrows():\n",
    "    if row[\"end\"] <= current_end or len(text_blocks) >= n_blocks - 1:\n",
    "        current_block += \" \" + row[\"text\"]\n",
    "    else:\n",
    "        text_blocks.append(current_block.strip())\n",
    "        current_block = row[\"text\"]\n",
    "        current_end += target_block_duration\n",
    "\n",
    "# 마지막 블록 추가\n",
    "if current_block:\n",
    "    text_blocks.append(current_block.strip())\n",
    "    \n",
    "# 저장 디렉토리 생성\n",
    "import os\n",
    "save_dir = \"./split_text/milkywayoriginal\"\n",
    "os.makedirs(save_dir, exist_ok=True)\n",
    "\n",
    "# 파일 저장\n",
    "for i, block in enumerate(text_blocks):\n",
    "    file_path = os.path.join(save_dir, f\"text_block_{i+1}.txt\")\n",
    "    with open(file_path, \"w\", encoding=\"utf-8\") as f:\n",
    "        f.write(block)\n",
    "\n",
    "print(f\"{len(text_blocks)}개의 텍스트 블록을 '{save_dir}' 폴더에 저장했습니다.\")"
   ]
  },
  {
   "cell_type": "markdown",
   "id": "a0c4313c-9d43-4ba7-8c7f-d787ae5abf43",
   "metadata": {},
   "source": [
    "milkywaysynonyms"
   ]
  },
  {
   "cell_type": "code",
   "execution_count": 33,
   "id": "0e40d69e-80c6-4589-8d0d-6eb608a02147",
   "metadata": {},
   "outputs": [
    {
     "name": "stdout",
     "output_type": "stream",
     "text": [
      "13개의 텍스트 블록을 './split_text/milkywaysynonyms' 폴더에 저장했습니다.\n"
     ]
    }
   ],
   "source": [
    "import pandas as pd\n",
    "\n",
    "data_path = \"./timestamp/milkywaysynonyms_timestamp.csv\"\n",
    "df = pd.read_csv(data_path)  # CSV 파일을 읽어옵니다\n",
    "\n",
    "n_blocks =13\n",
    "total_time = df[\"end\"].max() - df[\"start\"].min()\n",
    "target_block_duration = total_time / n_blocks\n",
    "\n",
    "# 분할\n",
    "text_blocks = []\n",
    "current_block = \"\"\n",
    "current_end = df[\"start\"].min() + target_block_duration\n",
    "\n",
    "for _, row in df.iterrows():\n",
    "    if row[\"end\"] <= current_end or len(text_blocks) >= n_blocks - 1:\n",
    "        current_block += \" \" + row[\"text\"]\n",
    "    else:\n",
    "        text_blocks.append(current_block.strip())\n",
    "        current_block = row[\"text\"]\n",
    "        current_end += target_block_duration\n",
    "\n",
    "# 마지막 블록 추가\n",
    "if current_block:\n",
    "    text_blocks.append(current_block.strip())\n",
    "    \n",
    "# 저장 디렉토리 생성\n",
    "import os\n",
    "save_dir = \"./split_text/milkywaysynonyms\"\n",
    "os.makedirs(save_dir, exist_ok=True)\n",
    "\n",
    "# 파일 저장\n",
    "for i, block in enumerate(text_blocks):\n",
    "    file_path = os.path.join(save_dir, f\"text_block_{i+1}.txt\")\n",
    "    with open(file_path, \"w\", encoding=\"utf-8\") as f:\n",
    "        f.write(block)\n",
    "\n",
    "print(f\"{len(text_blocks)}개의 텍스트 블록을 '{save_dir}' 폴더에 저장했습니다.\")"
   ]
  },
  {
   "cell_type": "markdown",
   "id": "9fd5e508-e04d-4a87-a33d-b9a0f95fe793",
   "metadata": {},
   "source": [
    "milkywayvodka"
   ]
  },
  {
   "cell_type": "code",
   "execution_count": 35,
   "id": "87f46171-2102-457f-a338-bd861bc7fce6",
   "metadata": {},
   "outputs": [
    {
     "name": "stdout",
     "output_type": "stream",
     "text": [
      "13개의 텍스트 블록을 './split_text/milkywayvodka' 폴더에 저장했습니다.\n"
     ]
    }
   ],
   "source": [
    "import pandas as pd\n",
    "\n",
    "data_path = \"./timestamp/milkywayvodka_timestamp.csv\"\n",
    "df = pd.read_csv(data_path)  # CSV 파일을 읽어옵니다\n",
    "\n",
    "n_blocks =13\n",
    "total_time = df[\"end\"].max() - df[\"start\"].min()\n",
    "target_block_duration = total_time / n_blocks\n",
    "\n",
    "# 분할\n",
    "text_blocks = []\n",
    "current_block = \"\"\n",
    "current_end = df[\"start\"].min() + target_block_duration\n",
    "\n",
    "for _, row in df.iterrows():\n",
    "    if row[\"end\"] <= current_end or len(text_blocks) >= n_blocks - 1:\n",
    "        current_block += \" \" + row[\"text\"]\n",
    "    else:\n",
    "        text_blocks.append(current_block.strip())\n",
    "        current_block = row[\"text\"]\n",
    "        current_end += target_block_duration\n",
    "\n",
    "# 마지막 블록 추가\n",
    "if current_block:\n",
    "    text_blocks.append(current_block.strip())\n",
    "    \n",
    "# 저장 디렉토리 생성\n",
    "import os\n",
    "save_dir = \"./split_text/milkywayvodka\"\n",
    "os.makedirs(save_dir, exist_ok=True)\n",
    "\n",
    "# 파일 저장\n",
    "for i, block in enumerate(text_blocks):\n",
    "    file_path = os.path.join(save_dir, f\"text_block_{i+1}.txt\")\n",
    "    with open(file_path, \"w\", encoding=\"utf-8\") as f:\n",
    "        f.write(block)\n",
    "\n",
    "print(f\"{len(text_blocks)}개의 텍스트 블록을 '{save_dir}' 폴더에 저장했습니다.\")"
   ]
  },
  {
   "cell_type": "markdown",
   "id": "6d6d00a8-bd95-4c61-b694-19fceb80f95a",
   "metadata": {},
   "source": [
    "67\tnotthefallintact"
   ]
  },
  {
   "cell_type": "code",
   "execution_count": 36,
   "id": "678ebd57-c77e-4842-aa80-36a18d35b0b1",
   "metadata": {},
   "outputs": [
    {
     "name": "stdout",
     "output_type": "stream",
     "text": [
      "18개의 텍스트 블록을 './split_text/notthefallintact' 폴더에 저장했습니다.\n"
     ]
    }
   ],
   "source": [
    "import pandas as pd\n",
    "\n",
    "data_path = \"./timestamp/notthefallintact_timestamp.csv\"\n",
    "df = pd.read_csv(data_path)  # CSV 파일을 읽어옵니다\n",
    "\n",
    "n_blocks =18\n",
    "total_time = df[\"end\"].max() - df[\"start\"].min()\n",
    "target_block_duration = total_time / n_blocks\n",
    "\n",
    "# 분할\n",
    "text_blocks = []\n",
    "current_block = \"\"\n",
    "current_end = df[\"start\"].min() + target_block_duration\n",
    "\n",
    "for _, row in df.iterrows():\n",
    "    if row[\"end\"] <= current_end or len(text_blocks) >= n_blocks - 1:\n",
    "        current_block += \" \" + row[\"text\"]\n",
    "    else:\n",
    "        text_blocks.append(current_block.strip())\n",
    "        current_block = row[\"text\"]\n",
    "        current_end += target_block_duration\n",
    "\n",
    "# 마지막 블록 추가\n",
    "if current_block:\n",
    "    text_blocks.append(current_block.strip())\n",
    "    \n",
    "# 저장 디렉토리 생성\n",
    "import os\n",
    "save_dir = \"./split_text/notthefallintact\"\n",
    "os.makedirs(save_dir, exist_ok=True)\n",
    "\n",
    "# 파일 저장\n",
    "for i, block in enumerate(text_blocks):\n",
    "    file_path = os.path.join(save_dir, f\"text_block_{i+1}.txt\")\n",
    "    with open(file_path, \"w\", encoding=\"utf-8\") as f:\n",
    "        f.write(block)\n",
    "\n",
    "print(f\"{len(text_blocks)}개의 텍스트 블록을 '{save_dir}' 폴더에 저장했습니다.\")"
   ]
  },
  {
   "cell_type": "markdown",
   "id": "c7de4b15-bb87-405b-8106-653c1c01a5d8",
   "metadata": {},
   "source": [
    "68\tnotthefalllongscram"
   ]
  },
  {
   "cell_type": "code",
   "execution_count": 37,
   "id": "2595f3ff-cbe7-45bb-ac17-9c4bcfb0b41a",
   "metadata": {},
   "outputs": [
    {
     "name": "stdout",
     "output_type": "stream",
     "text": [
      "18개의 텍스트 블록을 './split_text/notthefalllongscram' 폴더에 저장했습니다.\n"
     ]
    }
   ],
   "source": [
    "import pandas as pd\n",
    "\n",
    "data_path = \"./timestamp/notthefalllongscram_timestamp.csv\"\n",
    "df = pd.read_csv(data_path)  # CSV 파일을 읽어옵니다\n",
    "\n",
    "n_blocks =18\n",
    "total_time = df[\"end\"].max() - df[\"start\"].min()\n",
    "target_block_duration = total_time / n_blocks\n",
    "\n",
    "# 분할\n",
    "text_blocks = []\n",
    "current_block = \"\"\n",
    "current_end = df[\"start\"].min() + target_block_duration\n",
    "\n",
    "for _, row in df.iterrows():\n",
    "    if row[\"end\"] <= current_end or len(text_blocks) >= n_blocks - 1:\n",
    "        current_block += \" \" + row[\"text\"]\n",
    "    else:\n",
    "        text_blocks.append(current_block.strip())\n",
    "        current_block = row[\"text\"]\n",
    "        current_end += target_block_duration\n",
    "\n",
    "# 마지막 블록 추가\n",
    "if current_block:\n",
    "    text_blocks.append(current_block.strip())\n",
    "    \n",
    "# 저장 디렉토리 생성\n",
    "import os\n",
    "save_dir = \"./split_text/notthefalllongscram\"\n",
    "os.makedirs(save_dir, exist_ok=True)\n",
    "\n",
    "# 파일 저장\n",
    "for i, block in enumerate(text_blocks):\n",
    "    file_path = os.path.join(save_dir, f\"text_block_{i+1}.txt\")\n",
    "    with open(file_path, \"w\", encoding=\"utf-8\") as f:\n",
    "        f.write(block)\n",
    "\n",
    "print(f\"{len(text_blocks)}개의 텍스트 블록을 '{save_dir}' 폴더에 저장했습니다.\")"
   ]
  },
  {
   "cell_type": "markdown",
   "id": "0e869f3f-0f46-41b7-a304-b93564da3a3e",
   "metadata": {},
   "source": [
    "33\tnotthefallshortscram"
   ]
  },
  {
   "cell_type": "code",
   "execution_count": 38,
   "id": "f1aab623-b2be-4d41-b079-2950157b8377",
   "metadata": {},
   "outputs": [
    {
     "name": "stdout",
     "output_type": "stream",
     "text": [
      "18개의 텍스트 블록을 './split_text/notthefallshortscram' 폴더에 저장했습니다.\n"
     ]
    }
   ],
   "source": [
    "import pandas as pd\n",
    "\n",
    "data_path = \"./timestamp/notthefallshortscram_timestamp.csv\"\n",
    "df = pd.read_csv(data_path)  # CSV 파일을 읽어옵니다\n",
    "\n",
    "n_blocks =18\n",
    "total_time = df[\"end\"].max() - df[\"start\"].min()\n",
    "target_block_duration = total_time / n_blocks\n",
    "\n",
    "# 분할\n",
    "text_blocks = []\n",
    "current_block = \"\"\n",
    "current_end = df[\"start\"].min() + target_block_duration\n",
    "\n",
    "for _, row in df.iterrows():\n",
    "    if row[\"end\"] <= current_end or len(text_blocks) >= n_blocks - 1:\n",
    "        current_block += \" \" + row[\"text\"]\n",
    "    else:\n",
    "        text_blocks.append(current_block.strip())\n",
    "        current_block = row[\"text\"]\n",
    "        current_end += target_block_duration\n",
    "\n",
    "# 마지막 블록 추가\n",
    "if current_block:\n",
    "    text_blocks.append(current_block.strip())\n",
    "    \n",
    "# 저장 디렉토리 생성\n",
    "import os\n",
    "save_dir = \"./split_text/notthefallshortscram\"\n",
    "os.makedirs(save_dir, exist_ok=True)\n",
    "\n",
    "# 파일 저장\n",
    "for i, block in enumerate(text_blocks):\n",
    "    file_path = os.path.join(save_dir, f\"text_block_{i+1}.txt\")\n",
    "    with open(file_path, \"w\", encoding=\"utf-8\") as f:\n",
    "        f.write(block)\n",
    "\n",
    "print(f\"{len(text_blocks)}개의 텍스트 블록을 '{save_dir}' 폴더에 저장했습니다.\")"
   ]
  },
  {
   "cell_type": "markdown",
   "id": "f94eef68-2805-4313-987a-0cc48b04b316",
   "metadata": {},
   "source": [
    "\ttask\n",
    "276\tpiemanpni"
   ]
  },
  {
   "cell_type": "code",
   "execution_count": 39,
   "id": "f7658966-35f4-48d9-a3da-95d3412ad541",
   "metadata": {},
   "outputs": [
    {
     "name": "stdout",
     "output_type": "stream",
     "text": [
      "13개의 텍스트 블록을 './split_text/piemanpni' 폴더에 저장했습니다.\n"
     ]
    }
   ],
   "source": [
    "import pandas as pd\n",
    "\n",
    "data_path = \"./timestamp/piemanpni_timestamp.csv\"\n",
    "df = pd.read_csv(data_path)  # CSV 파일을 읽어옵니다\n",
    "\n",
    "n_blocks =13\n",
    "total_time = df[\"end\"].max() - df[\"start\"].min()\n",
    "target_block_duration = total_time / n_blocks\n",
    "\n",
    "# 분할\n",
    "text_blocks = []\n",
    "current_block = \"\"\n",
    "current_end = df[\"start\"].min() + target_block_duration\n",
    "\n",
    "for _, row in df.iterrows():\n",
    "    if row[\"end\"] <= current_end or len(text_blocks) >= n_blocks - 1:\n",
    "        current_block += \" \" + row[\"text\"]\n",
    "    else:\n",
    "        text_blocks.append(current_block.strip())\n",
    "        current_block = row[\"text\"]\n",
    "        current_end += target_block_duration\n",
    "\n",
    "# 마지막 블록 추가\n",
    "if current_block:\n",
    "    text_blocks.append(current_block.strip())\n",
    "    \n",
    "# 저장 디렉토리 생성\n",
    "import os\n",
    "save_dir = \"./split_text/piemanpni\"\n",
    "os.makedirs(save_dir, exist_ok=True)\n",
    "\n",
    "# 파일 저장\n",
    "for i, block in enumerate(text_blocks):\n",
    "    file_path = os.path.join(save_dir, f\"text_block_{i+1}.txt\")\n",
    "    with open(file_path, \"w\", encoding=\"utf-8\") as f:\n",
    "        f.write(block)\n",
    "\n",
    "print(f\"{len(text_blocks)}개의 텍스트 블록을 '{save_dir}' 폴더에 저장했습니다.\")"
   ]
  },
  {
   "cell_type": "markdown",
   "id": "ba9cce7c-4d8f-4230-bd45-a8f0afc548f3",
   "metadata": {},
   "source": [
    "\ttask\n",
    "60\tprettymouth"
   ]
  },
  {
   "cell_type": "code",
   "execution_count": 41,
   "id": "52d228f3-e515-4a34-9a16-d572be8fb01a",
   "metadata": {},
   "outputs": [
    {
     "name": "stdout",
     "output_type": "stream",
     "text": [
      "22개의 텍스트 블록을 './split_text/prettymouth' 폴더에 저장했습니다.\n"
     ]
    }
   ],
   "source": [
    "import pandas as pd\n",
    "\n",
    "data_path = \"./timestamp/prettymouth_timestamp.csv\"\n",
    "df = pd.read_csv(data_path)  # CSV 파일을 읽어옵니다\n",
    "\n",
    "n_blocks =22\n",
    "total_time = df[\"end\"].max() - df[\"start\"].min()\n",
    "target_block_duration = total_time / n_blocks\n",
    "\n",
    "# 분할\n",
    "text_blocks = []\n",
    "current_block = \"\"\n",
    "current_end = df[\"start\"].min() + target_block_duration\n",
    "\n",
    "for _, row in df.iterrows():\n",
    "    if row[\"end\"] <= current_end or len(text_blocks) >= n_blocks - 1:\n",
    "        current_block += \" \" + row[\"text\"]\n",
    "    else:\n",
    "        text_blocks.append(current_block.strip())\n",
    "        current_block = row[\"text\"]\n",
    "        current_end += target_block_duration\n",
    "\n",
    "# 마지막 블록 추가\n",
    "if current_block:\n",
    "    text_blocks.append(current_block.strip())\n",
    "    \n",
    "# 저장 디렉토리 생성\n",
    "import os\n",
    "save_dir = \"./split_text/prettymouth\"\n",
    "os.makedirs(save_dir, exist_ok=True)\n",
    "\n",
    "# 파일 저장\n",
    "for i, block in enumerate(text_blocks):\n",
    "    file_path = os.path.join(save_dir, f\"text_block_{i+1}.txt\")\n",
    "    with open(file_path, \"w\", encoding=\"utf-8\") as f:\n",
    "        f.write(block)\n",
    "\n",
    "print(f\"{len(text_blocks)}개의 텍스트 블록을 '{save_dir}' 폴더에 저장했습니다.\")"
   ]
  },
  {
   "cell_type": "markdown",
   "id": "b60b2548-9e83-4f88-96cd-0909ebee4f02",
   "metadata": {},
   "source": [
    "seinfeld"
   ]
  },
  {
   "cell_type": "code",
   "execution_count": 43,
   "id": "d05c68c7-df0d-4b56-80b6-97fcf2b6a858",
   "metadata": {},
   "outputs": [
    {
     "name": "stdout",
     "output_type": "stream",
     "text": [
      "5개의 텍스트 블록을 './split_text/seinfeld' 폴더에 저장했습니다.\n"
     ]
    }
   ],
   "source": [
    "import pandas as pd\n",
    "\n",
    "data_path = \"./timestamp/seinfeld_timestamp.csv\"\n",
    "df = pd.read_csv(data_path)  # CSV 파일을 읽어옵니다\n",
    "\n",
    "n_blocks =5\n",
    "total_time = df[\"end\"].max() - df[\"start\"].min()\n",
    "target_block_duration = total_time / n_blocks\n",
    "\n",
    "# 분할\n",
    "text_blocks = []\n",
    "current_block = \"\"\n",
    "current_end = df[\"start\"].min() + target_block_duration\n",
    "\n",
    "for _, row in df.iterrows():\n",
    "    if row[\"end\"] <= current_end or len(text_blocks) >= n_blocks - 1:\n",
    "        current_block += \" \" + row[\"text\"]\n",
    "    else:\n",
    "        text_blocks.append(current_block.strip())\n",
    "        current_block = row[\"text\"]\n",
    "        current_end += target_block_duration\n",
    "\n",
    "# 마지막 블록 추가\n",
    "if current_block:\n",
    "    text_blocks.append(current_block.strip())\n",
    "    \n",
    "# 저장 디렉토리 생성\n",
    "import os\n",
    "save_dir = \"./split_text/seinfeld\"\n",
    "os.makedirs(save_dir, exist_ok=True)\n",
    "\n",
    "# 파일 저장\n",
    "for i, block in enumerate(text_blocks):\n",
    "    file_path = os.path.join(save_dir, f\"text_block_{i+1}.txt\")\n",
    "    with open(file_path, \"w\", encoding=\"utf-8\") as f:\n",
    "        f.write(block)\n",
    "\n",
    "print(f\"{len(text_blocks)}개의 텍스트 블록을 '{save_dir}' 폴더에 저장했습니다.\")"
   ]
  },
  {
   "cell_type": "markdown",
   "id": "21674925-3d27-46fb-ab38-ca138f091eee",
   "metadata": {},
   "source": [
    "shame"
   ]
  },
  {
   "cell_type": "code",
   "execution_count": 44,
   "id": "b52df6bc-513c-4edc-ad1f-80ccb53e622f",
   "metadata": {},
   "outputs": [
    {
     "name": "stdout",
     "output_type": "stream",
     "text": [
      "5개의 텍스트 블록을 './split_text/shame' 폴더에 저장했습니다.\n"
     ]
    }
   ],
   "source": [
    "import pandas as pd\n",
    "\n",
    "data_path = \"./timestamp/shame_timestamp.csv\"\n",
    "df = pd.read_csv(data_path)  # CSV 파일을 읽어옵니다\n",
    "\n",
    "n_blocks =5\n",
    "total_time = df[\"end\"].max() - df[\"start\"].min()\n",
    "target_block_duration = total_time / n_blocks\n",
    "\n",
    "# 분할\n",
    "text_blocks = []\n",
    "current_block = \"\"\n",
    "current_end = df[\"start\"].min() + target_block_duration\n",
    "\n",
    "for _, row in df.iterrows():\n",
    "    if row[\"end\"] <= current_end or len(text_blocks) >= n_blocks - 1:\n",
    "        current_block += \" \" + row[\"text\"]\n",
    "    else:\n",
    "        text_blocks.append(current_block.strip())\n",
    "        current_block = row[\"text\"]\n",
    "        current_end += target_block_duration\n",
    "\n",
    "# 마지막 블록 추가\n",
    "if current_block:\n",
    "    text_blocks.append(current_block.strip())\n",
    "    \n",
    "# 저장 디렉토리 생성\n",
    "import os\n",
    "save_dir = \"./split_text/shame\"\n",
    "os.makedirs(save_dir, exist_ok=True)\n",
    "\n",
    "# 파일 저장\n",
    "for i, block in enumerate(text_blocks):\n",
    "    file_path = os.path.join(save_dir, f\"text_block_{i+1}.txt\")\n",
    "    with open(file_path, \"w\", encoding=\"utf-8\") as f:\n",
    "        f.write(block)\n",
    "\n",
    "print(f\"{len(text_blocks)}개의 텍스트 블록을 '{save_dir}' 폴더에 저장했습니다.\")"
   ]
  },
  {
   "cell_type": "markdown",
   "id": "20f3affd-39eb-4132-bc3a-7d5b5e9b21fa",
   "metadata": {},
   "source": [
    "\ttask\n",
    "116\tshapesphysical"
   ]
  },
  {
   "cell_type": "code",
   "execution_count": 45,
   "id": "f18c056b-37ab-4628-9e08-7ab66d2ce818",
   "metadata": {},
   "outputs": [
    {
     "name": "stdout",
     "output_type": "stream",
     "text": [
      "13개의 텍스트 블록을 './split_text/shapesphysical' 폴더에 저장했습니다.\n"
     ]
    }
   ],
   "source": [
    "import pandas as pd\n",
    "\n",
    "data_path = \"./timestamp/shapesphysical_timestamp.csv\"\n",
    "df = pd.read_csv(data_path)  # CSV 파일을 읽어옵니다\n",
    "\n",
    "n_blocks =13\n",
    "total_time = df[\"end\"].max() - df[\"start\"].min()\n",
    "target_block_duration = total_time / n_blocks\n",
    "\n",
    "# 분할\n",
    "text_blocks = []\n",
    "current_block = \"\"\n",
    "current_end = df[\"start\"].min() + target_block_duration\n",
    "\n",
    "for _, row in df.iterrows():\n",
    "    if row[\"end\"] <= current_end or len(text_blocks) >= n_blocks - 1:\n",
    "        current_block += \" \" + row[\"text\"]\n",
    "    else:\n",
    "        text_blocks.append(current_block.strip())\n",
    "        current_block = row[\"text\"]\n",
    "        current_end += target_block_duration\n",
    "\n",
    "# 마지막 블록 추가\n",
    "if current_block:\n",
    "    text_blocks.append(current_block.strip())\n",
    "    \n",
    "# 저장 디렉토리 생성\n",
    "import os\n",
    "save_dir = \"./split_text/shapesphysical\"\n",
    "os.makedirs(save_dir, exist_ok=True)\n",
    "\n",
    "# 파일 저장\n",
    "for i, block in enumerate(text_blocks):\n",
    "    file_path = os.path.join(save_dir, f\"text_block_{i+1}.txt\")\n",
    "    with open(file_path, \"w\", encoding=\"utf-8\") as f:\n",
    "        f.write(block)\n",
    "\n",
    "print(f\"{len(text_blocks)}개의 텍스트 블록을 '{save_dir}' 폴더에 저장했습니다.\")"
   ]
  },
  {
   "cell_type": "markdown",
   "id": "60b05d7c-4d17-4fbf-adf1-fc0597f70ac4",
   "metadata": {},
   "source": [
    "\ttask\n",
    "118\tshapessocial"
   ]
  },
  {
   "cell_type": "code",
   "execution_count": 46,
   "id": "c9e09d8d-e857-4305-8656-b0748ad42097",
   "metadata": {},
   "outputs": [
    {
     "name": "stdout",
     "output_type": "stream",
     "text": [
      "13개의 텍스트 블록을 './split_text/shapessocial' 폴더에 저장했습니다.\n"
     ]
    }
   ],
   "source": [
    "import pandas as pd\n",
    "\n",
    "data_path = \"./timestamp/shapessocial_timestamp.csv\"\n",
    "df = pd.read_csv(data_path)  # CSV 파일을 읽어옵니다\n",
    "\n",
    "n_blocks =13\n",
    "total_time = df[\"end\"].max() - df[\"start\"].min()\n",
    "target_block_duration = total_time / n_blocks\n",
    "\n",
    "# 분할\n",
    "text_blocks = []\n",
    "current_block = \"\"\n",
    "current_end = df[\"start\"].min() + target_block_duration\n",
    "\n",
    "for _, row in df.iterrows():\n",
    "    if row[\"end\"] <= current_end or len(text_blocks) >= n_blocks - 1:\n",
    "        current_block += \" \" + row[\"text\"]\n",
    "    else:\n",
    "        text_blocks.append(current_block.strip())\n",
    "        current_block = row[\"text\"]\n",
    "        current_end += target_block_duration\n",
    "\n",
    "# 마지막 블록 추가\n",
    "if current_block:\n",
    "    text_blocks.append(current_block.strip())\n",
    "    \n",
    "# 저장 디렉토리 생성\n",
    "import os\n",
    "save_dir = \"./split_text/shapessocial\"\n",
    "os.makedirs(save_dir, exist_ok=True)\n",
    "\n",
    "# 파일 저장\n",
    "for i, block in enumerate(text_blocks):\n",
    "    file_path = os.path.join(save_dir, f\"text_block_{i+1}.txt\")\n",
    "    with open(file_path, \"w\", encoding=\"utf-8\") as f:\n",
    "        f.write(block)\n",
    "\n",
    "print(f\"{len(text_blocks)}개의 텍스트 블록을 '{save_dir}' 폴더에 저장했습니다.\")"
   ]
  },
  {
   "cell_type": "markdown",
   "id": "90282b83-14ef-423c-be78-a55e4af25213",
   "metadata": {},
   "source": [
    "\ttask\n",
    "34\tslumlordreach"
   ]
  },
  {
   "cell_type": "code",
   "execution_count": 47,
   "id": "da5f9a5f-9490-43dd-89e7-bb2e72898429",
   "metadata": {},
   "outputs": [
    {
     "name": "stdout",
     "output_type": "stream",
     "text": [
      "57개의 텍스트 블록을 './split_text/slumlordreach' 폴더에 저장했습니다.\n"
     ]
    }
   ],
   "source": [
    "import pandas as pd\n",
    "\n",
    "data_path = \"./timestamp/slumlordreach_timestamp.csv\"\n",
    "df = pd.read_csv(data_path)  # CSV 파일을 읽어옵니다\n",
    "\n",
    "n_blocks =57\n",
    "total_time = df[\"end\"].max() - df[\"start\"].min()\n",
    "target_block_duration = total_time / n_blocks\n",
    "\n",
    "# 분할\n",
    "text_blocks = []\n",
    "current_block = \"\"\n",
    "current_end = df[\"start\"].min() + target_block_duration\n",
    "\n",
    "for _, row in df.iterrows():\n",
    "    if row[\"end\"] <= current_end or len(text_blocks) >= n_blocks - 1:\n",
    "        current_block += \" \" + row[\"text\"]\n",
    "    else:\n",
    "        text_blocks.append(current_block.strip())\n",
    "        current_block = row[\"text\"]\n",
    "        current_end += target_block_duration\n",
    "\n",
    "# 마지막 블록 추가\n",
    "if current_block:\n",
    "    text_blocks.append(current_block.strip())\n",
    "    \n",
    "# 저장 디렉토리 생성\n",
    "import os\n",
    "save_dir = \"./split_text/slumlordreach\"\n",
    "os.makedirs(save_dir, exist_ok=True)\n",
    "\n",
    "# 파일 저장\n",
    "for i, block in enumerate(text_blocks):\n",
    "    file_path = os.path.join(save_dir, f\"text_block_{i+1}.txt\")\n",
    "    with open(file_path, \"w\", encoding=\"utf-8\") as f:\n",
    "        f.write(block)\n",
    "\n",
    "print(f\"{len(text_blocks)}개의 텍스트 블록을 '{save_dir}' 폴더에 저장했습니다.\")"
   ]
  },
  {
   "cell_type": "markdown",
   "id": "5dca33ce-fcfd-4656-aac4-7cad61f64cc7",
   "metadata": {},
   "source": [
    "tunnel"
   ]
  },
  {
   "cell_type": "code",
   "execution_count": 48,
   "id": "a6e18d70-bb26-4262-86e4-b82f5d3177f1",
   "metadata": {},
   "outputs": [
    {
     "name": "stdout",
     "output_type": "stream",
     "text": [
      "51개의 텍스트 블록을 './split_text/tunnel' 폴더에 저장했습니다.\n"
     ]
    }
   ],
   "source": [
    "import pandas as pd\n",
    "\n",
    "data_path = \"./timestamp/tunnel_timestamp.csv\"\n",
    "df = pd.read_csv(data_path)  # CSV 파일을 읽어옵니다\n",
    "\n",
    "n_blocks =51\n",
    "total_time = df[\"end\"].max() - df[\"start\"].min()\n",
    "target_block_duration = total_time / n_blocks\n",
    "\n",
    "# 분할\n",
    "text_blocks = []\n",
    "current_block = \"\"\n",
    "current_end = df[\"start\"].min() + target_block_duration\n",
    "\n",
    "for _, row in df.iterrows():\n",
    "    if row[\"end\"] <= current_end or len(text_blocks) >= n_blocks - 1:\n",
    "        current_block += \" \" + row[\"text\"]\n",
    "    else:\n",
    "        text_blocks.append(current_block.strip())\n",
    "        current_block = row[\"text\"]\n",
    "        current_end += target_block_duration\n",
    "\n",
    "# 마지막 블록 추가\n",
    "if current_block:\n",
    "    text_blocks.append(current_block.strip())\n",
    "    \n",
    "# 저장 디렉토리 생성\n",
    "import os\n",
    "save_dir = \"./split_text/tunnel\"\n",
    "os.makedirs(save_dir, exist_ok=True)\n",
    "\n",
    "# 파일 저장\n",
    "for i, block in enumerate(text_blocks):\n",
    "    file_path = os.path.join(save_dir, f\"text_block_{i+1}.txt\")\n",
    "    with open(file_path, \"w\", encoding=\"utf-8\") as f:\n",
    "        f.write(block)\n",
    "\n",
    "print(f\"{len(text_blocks)}개의 텍스트 블록을 '{save_dir}' 폴더에 저장했습니다.\")"
   ]
  },
  {
   "cell_type": "markdown",
   "id": "c551c015-b08e-4759-bfbc-4fbea159ff09",
   "metadata": {},
   "source": [
    "upintheair"
   ]
  },
  {
   "cell_type": "code",
   "execution_count": 49,
   "id": "e62d41b6-a2a3-4b67-9a94-2a6923d772f6",
   "metadata": {},
   "outputs": [
    {
     "name": "stdout",
     "output_type": "stream",
     "text": [
      "6개의 텍스트 블록을 './split_text/upintheair' 폴더에 저장했습니다.\n"
     ]
    }
   ],
   "source": [
    "import pandas as pd\n",
    "\n",
    "data_path = \"./timestamp/upintheair_timestamp.csv\"\n",
    "df = pd.read_csv(data_path)  # CSV 파일을 읽어옵니다\n",
    "\n",
    "n_blocks =6\n",
    "total_time = df[\"end\"].max() - df[\"start\"].min()\n",
    "target_block_duration = total_time / n_blocks\n",
    "\n",
    "# 분할\n",
    "text_blocks = []\n",
    "current_block = \"\"\n",
    "current_end = df[\"start\"].min() + target_block_duration\n",
    "\n",
    "for _, row in df.iterrows():\n",
    "    if row[\"end\"] <= current_end or len(text_blocks) >= n_blocks - 1:\n",
    "        current_block += \" \" + row[\"text\"]\n",
    "    else:\n",
    "        text_blocks.append(current_block.strip())\n",
    "        current_block = row[\"text\"]\n",
    "        current_end += target_block_duration\n",
    "\n",
    "# 마지막 블록 추가\n",
    "if current_block:\n",
    "    text_blocks.append(current_block.strip())\n",
    "    \n",
    "# 저장 디렉토리 생성\n",
    "import os\n",
    "save_dir = \"./split_text/upintheair\"\n",
    "os.makedirs(save_dir, exist_ok=True)\n",
    "\n",
    "# 파일 저장\n",
    "for i, block in enumerate(text_blocks):\n",
    "    file_path = os.path.join(save_dir, f\"text_block_{i+1}.txt\")\n",
    "    with open(file_path, \"w\", encoding=\"utf-8\") as f:\n",
    "        f.write(block)\n",
    "\n",
    "print(f\"{len(text_blocks)}개의 텍스트 블록을 '{save_dir}' 폴더에 저장했습니다.\")"
   ]
  },
  {
   "cell_type": "markdown",
   "id": "ea2e8ed3-25b9-4cb8-9ed6-41faa385e80a",
   "metadata": {},
   "source": [
    "vinny"
   ]
  },
  {
   "cell_type": "code",
   "execution_count": 50,
   "id": "78a68947-e4b5-4d50-8bb0-f1816efc20ee",
   "metadata": {},
   "outputs": [
    {
     "name": "stdout",
     "output_type": "stream",
     "text": [
      "5개의 텍스트 블록을 './split_text/vinny' 폴더에 저장했습니다.\n"
     ]
    }
   ],
   "source": [
    "import pandas as pd\n",
    "\n",
    "data_path = \"./timestamp/vinny_timestamp.csv\"\n",
    "df = pd.read_csv(data_path)  # CSV 파일을 읽어옵니다\n",
    "\n",
    "n_blocks =5\n",
    "total_time = df[\"end\"].max() - df[\"start\"].min()\n",
    "target_block_duration = total_time / n_blocks\n",
    "\n",
    "# 분할\n",
    "text_blocks = []\n",
    "current_block = \"\"\n",
    "current_end = df[\"start\"].min() + target_block_duration\n",
    "\n",
    "for _, row in df.iterrows():\n",
    "    if row[\"end\"] <= current_end or len(text_blocks) >= n_blocks - 1:\n",
    "        current_block += \" \" + row[\"text\"]\n",
    "    else:\n",
    "        text_blocks.append(current_block.strip())\n",
    "        current_block = row[\"text\"]\n",
    "        current_end += target_block_duration\n",
    "\n",
    "# 마지막 블록 추가\n",
    "if current_block:\n",
    "    text_blocks.append(current_block.strip())\n",
    "    \n",
    "# 저장 디렉토리 생성\n",
    "import os\n",
    "save_dir = \"./split_text/vinny\"\n",
    "os.makedirs(save_dir, exist_ok=True)\n",
    "\n",
    "# 파일 저장\n",
    "for i, block in enumerate(text_blocks):\n",
    "    file_path = os.path.join(save_dir, f\"text_block_{i+1}.txt\")\n",
    "    with open(file_path, \"w\", encoding=\"utf-8\") as f:\n",
    "        f.write(block)\n",
    "\n",
    "print(f\"{len(text_blocks)}개의 텍스트 블록을 '{save_dir}' 폴더에 저장했습니다.\")"
   ]
  },
  {
   "cell_type": "markdown",
   "id": "2ef5a39c-15bc-43aa-9d54-c5f121dd0d60",
   "metadata": {},
   "source": [
    "sherlock"
   ]
  },
  {
   "cell_type": "code",
   "execution_count": 1,
   "id": "b56f61dd-14bd-4658-b19b-a231e922e785",
   "metadata": {},
   "outputs": [
    {
     "name": "stdout",
     "output_type": "stream",
     "text": [
      "35개의 텍스트 블록을 './split_text/sherlock' 폴더에 저장했습니다.\n"
     ]
    }
   ],
   "source": [
    "import pandas as pd\n",
    "\n",
    "data_path = \"./timestamp/sherlock_timestamp.csv\"\n",
    "df = pd.read_csv(data_path)  # CSV 파일을 읽어옵니다\n",
    "\n",
    "n_blocks =35\n",
    "total_time = df[\"end\"].max() - df[\"start\"].min()\n",
    "target_block_duration = total_time / n_blocks\n",
    "\n",
    "# 분할\n",
    "text_blocks = []\n",
    "current_block = \"\"\n",
    "current_end = df[\"start\"].min() + target_block_duration\n",
    "\n",
    "for _, row in df.iterrows():\n",
    "    if row[\"end\"] <= current_end or len(text_blocks) >= n_blocks - 1:\n",
    "        current_block += \" \" + row[\"text\"]\n",
    "    else:\n",
    "        text_blocks.append(current_block.strip())\n",
    "        current_block = row[\"text\"]\n",
    "        current_end += target_block_duration\n",
    "\n",
    "# 마지막 블록 추가\n",
    "if current_block:\n",
    "    text_blocks.append(current_block.strip())\n",
    "    \n",
    "# 저장 디렉토리 생성\n",
    "import os\n",
    "save_dir = \"./split_text/sherlock\"\n",
    "os.makedirs(save_dir, exist_ok=True)\n",
    "\n",
    "# 파일 저장\n",
    "for i, block in enumerate(text_blocks):\n",
    "    file_path = os.path.join(save_dir, f\"text_block_{i+1}.txt\")\n",
    "    with open(file_path, \"w\", encoding=\"utf-8\") as f:\n",
    "        f.write(block)\n",
    "\n",
    "print(f\"{len(text_blocks)}개의 텍스트 블록을 '{save_dir}' 폴더에 저장했습니다.\")"
   ]
  },
  {
   "cell_type": "code",
   "execution_count": null,
   "id": "6c12fe4a-efee-4797-8a0a-0afdb801d280",
   "metadata": {},
   "outputs": [],
   "source": []
  }
 ],
 "metadata": {
  "kernelspec": {
   "display_name": "whisper",
   "language": "python",
   "name": "whisper"
  },
  "language_info": {
   "codemirror_mode": {
    "name": "ipython",
    "version": 3
   },
   "file_extension": ".py",
   "mimetype": "text/x-python",
   "name": "python",
   "nbconvert_exporter": "python",
   "pygments_lexer": "ipython3",
   "version": "3.9.18"
  }
 },
 "nbformat": 4,
 "nbformat_minor": 5
}
