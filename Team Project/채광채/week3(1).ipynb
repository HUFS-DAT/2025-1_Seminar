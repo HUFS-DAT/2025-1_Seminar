{
  "nbformat": 4,
  "nbformat_minor": 0,
  "metadata": {
    "colab": {
      "provenance": []
    },
    "kernelspec": {
      "name": "python3",
      "display_name": "Python 3"
    },
    "language_info": {
      "name": "python"
    }
  },
  "cells": [
    {
      "cell_type": "code",
      "source": [
        "\n",
        "pip install category_encoders\n"
      ],
      "metadata": {
        "colab": {
          "base_uri": "https://localhost:8080/"
        },
        "id": "zv7grte-IhzE",
        "outputId": "71442423-a9cd-4adf-c67b-98374e2bf539"
      },
      "execution_count": null,
      "outputs": [
        {
          "output_type": "stream",
          "name": "stdout",
          "text": [
            "Collecting category_encoders\n",
            "  Downloading category_encoders-2.8.1-py3-none-any.whl.metadata (7.9 kB)\n",
            "Requirement already satisfied: numpy>=1.14.0 in /usr/local/lib/python3.11/dist-packages (from category_encoders) (2.0.2)\n",
            "Requirement already satisfied: pandas>=1.0.5 in /usr/local/lib/python3.11/dist-packages (from category_encoders) (2.2.2)\n",
            "Requirement already satisfied: patsy>=0.5.1 in /usr/local/lib/python3.11/dist-packages (from category_encoders) (1.0.1)\n",
            "Requirement already satisfied: scikit-learn>=1.6.0 in /usr/local/lib/python3.11/dist-packages (from category_encoders) (1.6.1)\n",
            "Requirement already satisfied: scipy>=1.0.0 in /usr/local/lib/python3.11/dist-packages (from category_encoders) (1.15.2)\n",
            "Requirement already satisfied: statsmodels>=0.9.0 in /usr/local/lib/python3.11/dist-packages (from category_encoders) (0.14.4)\n",
            "Requirement already satisfied: python-dateutil>=2.8.2 in /usr/local/lib/python3.11/dist-packages (from pandas>=1.0.5->category_encoders) (2.9.0.post0)\n",
            "Requirement already satisfied: pytz>=2020.1 in /usr/local/lib/python3.11/dist-packages (from pandas>=1.0.5->category_encoders) (2025.2)\n",
            "Requirement already satisfied: tzdata>=2022.7 in /usr/local/lib/python3.11/dist-packages (from pandas>=1.0.5->category_encoders) (2025.2)\n",
            "Requirement already satisfied: joblib>=1.2.0 in /usr/local/lib/python3.11/dist-packages (from scikit-learn>=1.6.0->category_encoders) (1.5.0)\n",
            "Requirement already satisfied: threadpoolctl>=3.1.0 in /usr/local/lib/python3.11/dist-packages (from scikit-learn>=1.6.0->category_encoders) (3.6.0)\n",
            "Requirement already satisfied: packaging>=21.3 in /usr/local/lib/python3.11/dist-packages (from statsmodels>=0.9.0->category_encoders) (24.2)\n",
            "Requirement already satisfied: six>=1.5 in /usr/local/lib/python3.11/dist-packages (from python-dateutil>=2.8.2->pandas>=1.0.5->category_encoders) (1.17.0)\n",
            "Downloading category_encoders-2.8.1-py3-none-any.whl (85 kB)\n",
            "\u001b[2K   \u001b[90m━━━━━━━━━━━━━━━━━━━━━━━━━━━━━━━━━━━━━━━━\u001b[0m \u001b[32m85.7/85.7 kB\u001b[0m \u001b[31m2.4 MB/s\u001b[0m eta \u001b[36m0:00:00\u001b[0m\n",
            "\u001b[?25hInstalling collected packages: category_encoders\n",
            "Successfully installed category_encoders-2.8.1\n"
          ]
        }
      ]
    },
    {
      "cell_type": "code",
      "source": [
        "pip install catboost\n"
      ],
      "metadata": {
        "colab": {
          "base_uri": "https://localhost:8080/"
        },
        "id": "PgsBpE1tI-vy",
        "outputId": "18596bd5-4573-4288-ca49-d07db5193160"
      },
      "execution_count": null,
      "outputs": [
        {
          "output_type": "stream",
          "name": "stdout",
          "text": [
            "Collecting catboost\n",
            "  Downloading catboost-1.2.8-cp311-cp311-manylinux2014_x86_64.whl.metadata (1.2 kB)\n",
            "Requirement already satisfied: graphviz in /usr/local/lib/python3.11/dist-packages (from catboost) (0.20.3)\n",
            "Requirement already satisfied: matplotlib in /usr/local/lib/python3.11/dist-packages (from catboost) (3.10.0)\n",
            "Requirement already satisfied: numpy<3.0,>=1.16.0 in /usr/local/lib/python3.11/dist-packages (from catboost) (2.0.2)\n",
            "Requirement already satisfied: pandas>=0.24 in /usr/local/lib/python3.11/dist-packages (from catboost) (2.2.2)\n",
            "Requirement already satisfied: scipy in /usr/local/lib/python3.11/dist-packages (from catboost) (1.15.2)\n",
            "Requirement already satisfied: plotly in /usr/local/lib/python3.11/dist-packages (from catboost) (5.24.1)\n",
            "Requirement already satisfied: six in /usr/local/lib/python3.11/dist-packages (from catboost) (1.17.0)\n",
            "Requirement already satisfied: python-dateutil>=2.8.2 in /usr/local/lib/python3.11/dist-packages (from pandas>=0.24->catboost) (2.9.0.post0)\n",
            "Requirement already satisfied: pytz>=2020.1 in /usr/local/lib/python3.11/dist-packages (from pandas>=0.24->catboost) (2025.2)\n",
            "Requirement already satisfied: tzdata>=2022.7 in /usr/local/lib/python3.11/dist-packages (from pandas>=0.24->catboost) (2025.2)\n",
            "Requirement already satisfied: contourpy>=1.0.1 in /usr/local/lib/python3.11/dist-packages (from matplotlib->catboost) (1.3.2)\n",
            "Requirement already satisfied: cycler>=0.10 in /usr/local/lib/python3.11/dist-packages (from matplotlib->catboost) (0.12.1)\n",
            "Requirement already satisfied: fonttools>=4.22.0 in /usr/local/lib/python3.11/dist-packages (from matplotlib->catboost) (4.57.0)\n",
            "Requirement already satisfied: kiwisolver>=1.3.1 in /usr/local/lib/python3.11/dist-packages (from matplotlib->catboost) (1.4.8)\n",
            "Requirement already satisfied: packaging>=20.0 in /usr/local/lib/python3.11/dist-packages (from matplotlib->catboost) (24.2)\n",
            "Requirement already satisfied: pillow>=8 in /usr/local/lib/python3.11/dist-packages (from matplotlib->catboost) (11.2.1)\n",
            "Requirement already satisfied: pyparsing>=2.3.1 in /usr/local/lib/python3.11/dist-packages (from matplotlib->catboost) (3.2.3)\n",
            "Requirement already satisfied: tenacity>=6.2.0 in /usr/local/lib/python3.11/dist-packages (from plotly->catboost) (9.1.2)\n",
            "Downloading catboost-1.2.8-cp311-cp311-manylinux2014_x86_64.whl (99.2 MB)\n",
            "\u001b[2K   \u001b[90m━━━━━━━━━━━━━━━━━━━━━━━━━━━━━━━━━━━━━━━━\u001b[0m \u001b[32m99.2/99.2 MB\u001b[0m \u001b[31m9.3 MB/s\u001b[0m eta \u001b[36m0:00:00\u001b[0m\n",
            "\u001b[?25hInstalling collected packages: catboost\n",
            "Successfully installed catboost-1.2.8\n"
          ]
        }
      ]
    },
    {
      "cell_type": "code",
      "source": [
        "import pandas as pd\n",
        "import numpy as np\n",
        "from sklearn.impute import SimpleImputer, KNNImputer\n",
        "from sklearn.preprocessing import OneHotEncoder\n",
        "from sklearn.compose import ColumnTransformer\n",
        "from sklearn.pipeline import Pipeline\n",
        "from sklearn.model_selection import KFold,RandomizedSearchCV\n",
        "from sklearn.ensemble import RandomForestRegressor,HistGradientBoostingRegressor\n",
        "from category_encoders import TargetEncoder\n",
        "from sklearn.metrics import make_scorer\n",
        "from catboost import CatBoostRegressor\n",
        "from xgboost import XGBRegressor\n",
        "from sklearn.pipeline import Pipeline\n",
        "from scipy.stats import randint\n",
        "from sklearn.linear_model import LinearRegression"
      ],
      "metadata": {
        "id": "ntU41wvg_qx7"
      },
      "execution_count": null,
      "outputs": []
    },
    {
      "cell_type": "code",
      "source": [
        "train = pd.read_csv('./train.csv')\n",
        "test  = pd.read_csv('./test.csv')"
      ],
      "metadata": {
        "id": "yc9fOkLRE2F0"
      },
      "execution_count": null,
      "outputs": []
    },
    {
      "cell_type": "code",
      "source": [
        "# 파생변수 만들기\n",
        "\n",
        "## 숫자형 컬럼을 명시적으로 float 타입으로 변환\n",
        "numeric_cols = ['연매출(억원)', '총 투자금(억원)', '기업가치(백억원)']\n",
        "for col in numeric_cols:\n",
        "    train[col] = pd.to_numeric(train[col], errors='coerce').astype(float)\n",
        "    test[col]  = pd.to_numeric(test[col], errors='coerce').astype(float)\n",
        "\n",
        "# 회사_나이\n",
        "train['회사_나이']  = 2025 - train['설립연도']\n",
        "test ['회사_나이'] = 2025 - test ['설립연도']\n",
        "\n",
        "# 투자효율 (연매출 ÷ (총 투자금 + 1))\n",
        "train['투자효율']   = train['연매출(억원)'] / (train['총 투자금(억원)'] + 1)\n",
        "test ['투자효율']   = test ['연매출(억원)']  / (test ['총 투자금(억원)'] + 1)\n",
        "\n",
        "# 고객당 매출 (연매출 ÷ (고객수 + 1))\n",
        "train['고객당_매출'] = train['연매출(억원)'] / (train['고객수(백만명)'] + 1)\n",
        "test ['고객당_매출'] = test ['연매출(억원)']  / (test ['고객수(백만명)'] + 1)\n",
        "\n",
        "# 원당 매출 (연매출 ÷ (직원 수 + 1))\n",
        "train['직원당_매출'] = train['연매출(억원)'] / (train['직원 수'] + 1)\n",
        "test ['직원당_매출'] = test ['연매출(억원)']  / (test ['직원 수'] + 1)\n",
        "\n",
        "\n",
        "\n",
        "\n",
        "\n",
        "# 필요한 데이터 전처리 후 모델에 적용\n",
        "\n",
        "\n",
        "# 로그 변환 (왜곡 안정화)\n",
        "for col in numeric_cols:\n",
        "    train[f'log_{col}'] = np.log1p(train[col].fillna(0.0))\n",
        "    test [f'log_{col}'] = np.log1p(test [col].fillna(0.0))\n",
        "\n",
        "# 생성된 피처 확인\n",
        "engineered = [\n",
        "    '회사_나이', '투자효율', '고객당_매출', '직원당_매출',\n",
        "    'log_연매출(억원)', 'log_총 투자금(억원)', 'log_기업가치(백억원)'\n",
        "]\n",
        "print(train[engineered].head())\n"
      ],
      "metadata": {
        "colab": {
          "base_uri": "https://localhost:8080/"
        },
        "id": "dQ-F90JuFARQ",
        "outputId": "123436a1-cb17-4705-8332-dc189169d387"
      },
      "execution_count": null,
      "outputs": [
        {
          "output_type": "stream",
          "name": "stdout",
          "text": [
            "   회사_나이       투자효율      고객당_매출    직원당_매출  log_연매출(억원)  log_총 투자금(억원)  \\\n",
            "0     16   1.415330   83.578947  1.154349     8.469053       8.121480   \n",
            "1      2   0.068550    3.444444  0.066939     5.634790       8.311398   \n",
            "2      7   1.881159  220.745455  3.875199     9.404426       8.772455   \n",
            "3      9  15.836336         NaN  3.249230     9.263692       6.501290   \n",
            "4      5  11.819277  103.263158  4.979695     9.191259       6.721426   \n",
            "\n",
            "   log_기업가치(백억원)  \n",
            "0            0.0  \n",
            "1            0.0  \n",
            "2            0.0  \n",
            "3            0.0  \n",
            "4            0.0  \n"
          ]
        }
      ]
    },
    {
      "cell_type": "code",
      "source": [
        "train.columns"
      ],
      "metadata": {
        "colab": {
          "base_uri": "https://localhost:8080/"
        },
        "id": "lZZN3Q_Z_HTV",
        "outputId": "36903e8b-3840-4bb1-d7d6-52ef272bc0be"
      },
      "execution_count": null,
      "outputs": [
        {
          "output_type": "execute_result",
          "data": {
            "text/plain": [
              "Index(['ID', '설립연도', '국가', '분야', '투자단계', '직원 수', '인수여부', '상장여부', '고객수(백만명)',\n",
              "       '총 투자금(억원)', '연매출(억원)', 'SNS 팔로워 수(백만명)', '기업가치(백억원)', '성공확률', '회사_나이',\n",
              "       '투자효율', '고객당_매출', '직원당_매출', 'log_연매출(억원)', 'log_총 투자금(억원)',\n",
              "       'log_기업가치(백억원)'],\n",
              "      dtype='object')"
            ]
          },
          "metadata": {},
          "execution_count": 103
        }
      ]
    },
    {
      "cell_type": "code",
      "source": [
        "# 가중치 변경\n",
        "\n",
        "# 빈도 기반 샘플 가중치 생성\n",
        "counts = train['성공확률'].value_counts()\n",
        "train['weight'] = train['성공확률'].map(lambda y: 1/counts[y])\n",
        "train['weight'] /= train['weight'].mean()\n",
        "\n",
        "# 수치형 컬럼명 정의 & 결측 플래그 파생\n",
        "numeric_cols = train.select_dtypes(include=['int64','float64']) \\\n",
        "                    .columns.drop(['성공확률','weight'])\n",
        "for col in numeric_cols:\n",
        "    train[f'is_na_{col}'] = train[col].isna().astype(int)\n",
        "    test [f'is_na_{col}'] = test [col].isna().astype(int)\n",
        "\n",
        "# 범주형 NaN → 'Missing'\n",
        "cat_cols = train.select_dtypes(include=['object']) \\\n",
        "                .columns.drop('ID', errors='ignore')\n",
        "train[cat_cols] = train[cat_cols].fillna('Missing')\n",
        "test [cat_cols] = test [cat_cols].fillna('Missing')\n",
        "\n",
        "# 평가 함수 정의\n",
        "def weighted_mae(y_true, y_pred, w):\n",
        "    return np.sum(w * np.abs(y_true - y_pred)) / np.sum(w)\n",
        "\n",
        "# Imputer 비교 설정 (Median vs KNN)\n",
        "imputers = {\n",
        "    'median': SimpleImputer(strategy='median'),\n",
        "    'knn'   : KNNImputer(n_neighbors=5)\n",
        "}\n",
        "\n",
        "features = (\n",
        "    list(numeric_cols)\n",
        "  + [f'is_na_{c}' for c in numeric_cols]\n",
        "  + list(cat_cols)\n",
        ")\n",
        "\n",
        "results = []\n",
        "\n",
        "for name, imp in imputers.items():\n",
        "    # 전처리 파이프라인\n",
        "    preprocessor = ColumnTransformer([\n",
        "        ('num',  imp,                           numeric_cols.tolist()),\n",
        "        ('flag', SimpleImputer(fill_value=0),  [f'is_na_{c}' for c in numeric_cols]),\n",
        "        ('cat',  OneHotEncoder(handle_unknown='ignore'), cat_cols.tolist())\n",
        "    ])\n",
        "    pipe = Pipeline([\n",
        "        ('prep', preprocessor),\n",
        "        ('rf',   RandomForestRegressor(\n",
        "                     n_estimators=100,\n",
        "                     max_depth=6,\n",
        "                     random_state=42\n",
        "                 ))\n",
        "    ])\n",
        "\n",
        "    # 5-Fold CV\n",
        "    kf = KFold(n_splits=5, shuffle=True, random_state=42)\n",
        "    cv_scores = []\n",
        "    X = train[features]\n",
        "    y = train['성공확률']\n",
        "    w = train['weight']\n",
        "\n",
        "    for tr_ix, va_ix in kf.split(X):\n",
        "        pipe.fit(\n",
        "            X.iloc[tr_ix], y.iloc[tr_ix],\n",
        "            rf__sample_weight=w.iloc[tr_ix]\n",
        "        )\n",
        "        preds = pipe.predict(X.iloc[va_ix])\n",
        "        cv_scores.append(weighted_mae(y.iloc[va_ix], preds, w.iloc[va_ix]))\n",
        "\n",
        "    results.append((name, np.mean(cv_scores)))\n",
        "\n",
        "#결과 출력\n",
        "results_df = pd.DataFrame(results, columns=['Imputer','Mean CV wMAE'])\n",
        "print(results_df)"
      ],
      "metadata": {
        "colab": {
          "base_uri": "https://localhost:8080/"
        },
        "id": "Hq7C5jqvFDSe",
        "outputId": "8cf387cd-a717-484d-d268-f93c37247dbb"
      },
      "execution_count": null,
      "outputs": [
        {
          "output_type": "stream",
          "name": "stderr",
          "text": [
            "/usr/local/lib/python3.11/dist-packages/sklearn/impute/_base.py:635: UserWarning: Skipping features without any observed values: ['기업가치(백억원)']. At least one non-missing value is needed for imputation with strategy='median'.\n",
            "  warnings.warn(\n",
            "/usr/local/lib/python3.11/dist-packages/sklearn/impute/_base.py:635: UserWarning: Skipping features without any observed values: ['기업가치(백억원)']. At least one non-missing value is needed for imputation with strategy='median'.\n",
            "  warnings.warn(\n",
            "/usr/local/lib/python3.11/dist-packages/sklearn/impute/_base.py:635: UserWarning: Skipping features without any observed values: ['기업가치(백억원)']. At least one non-missing value is needed for imputation with strategy='median'.\n",
            "  warnings.warn(\n",
            "/usr/local/lib/python3.11/dist-packages/sklearn/impute/_base.py:635: UserWarning: Skipping features without any observed values: ['기업가치(백억원)']. At least one non-missing value is needed for imputation with strategy='median'.\n",
            "  warnings.warn(\n",
            "/usr/local/lib/python3.11/dist-packages/sklearn/impute/_base.py:635: UserWarning: Skipping features without any observed values: ['기업가치(백억원)']. At least one non-missing value is needed for imputation with strategy='median'.\n",
            "  warnings.warn(\n",
            "/usr/local/lib/python3.11/dist-packages/sklearn/impute/_base.py:635: UserWarning: Skipping features without any observed values: ['기업가치(백억원)']. At least one non-missing value is needed for imputation with strategy='median'.\n",
            "  warnings.warn(\n",
            "/usr/local/lib/python3.11/dist-packages/sklearn/impute/_base.py:635: UserWarning: Skipping features without any observed values: ['기업가치(백억원)']. At least one non-missing value is needed for imputation with strategy='median'.\n",
            "  warnings.warn(\n",
            "/usr/local/lib/python3.11/dist-packages/sklearn/impute/_base.py:635: UserWarning: Skipping features without any observed values: ['기업가치(백억원)']. At least one non-missing value is needed for imputation with strategy='median'.\n",
            "  warnings.warn(\n",
            "/usr/local/lib/python3.11/dist-packages/sklearn/impute/_base.py:635: UserWarning: Skipping features without any observed values: ['기업가치(백억원)']. At least one non-missing value is needed for imputation with strategy='median'.\n",
            "  warnings.warn(\n",
            "/usr/local/lib/python3.11/dist-packages/sklearn/impute/_base.py:635: UserWarning: Skipping features without any observed values: ['기업가치(백억원)']. At least one non-missing value is needed for imputation with strategy='median'.\n",
            "  warnings.warn(\n"
          ]
        },
        {
          "output_type": "stream",
          "name": "stdout",
          "text": [
            "  Imputer  Mean CV wMAE\n",
            "0  median      0.211957\n",
            "1     knn      0.212027\n"
          ]
        }
      ]
    },
    {
      "cell_type": "code",
      "source": [
        "# model 풀 확장 : catboost, xgboost\n",
        "# 모델 정의\n",
        "models = {\n",
        "    'CatBoost': CatBoostRegressor(\n",
        "        iterations=500,\n",
        "        learning_rate=0.05,\n",
        "        depth=6,\n",
        "        eval_metric='MAE',\n",
        "        random_seed=42,\n",
        "        verbose=False\n",
        "    ),\n",
        "    'XGBoost': XGBRegressor(\n",
        "        n_estimators=500,\n",
        "        learning_rate=0.05,\n",
        "        max_depth=6,\n",
        "        objective='reg:squarederror',\n",
        "        random_state=42\n",
        "    )\n",
        "}\n",
        "\n",
        "# 5-Fold CV 수행\n",
        "kf = KFold(n_splits=5, shuffle=True, random_state=42)\n",
        "results = {}\n",
        "\n",
        "for name, mdl in models.items():\n",
        "    cv_scores = []\n",
        "    for tr_idx, va_idx in kf.split(train):\n",
        "        X_tr = train.iloc[tr_idx][features]\n",
        "        y_tr = train.iloc[tr_idx]['성공확률']\n",
        "        w_tr = train.iloc[tr_idx]['weight']\n",
        "\n",
        "        X_va = train.iloc[va_idx][features]\n",
        "        y_va = train.iloc[va_idx]['성공확률']\n",
        "        w_va = train.iloc[va_idx]['weight']\n",
        "\n",
        "        # 파이프라인은 이미 preprocessor 변수로 정의되어있음\n",
        "        pipe = Pipeline([\n",
        "            ('prep', preprocessor),\n",
        "            (name, mdl)\n",
        "        ])\n",
        "\n",
        "        # sample_weight 파라미터는 모델마다 이름이 다르므로\n",
        "        sw_param = {f'{name}__sample_weight': w_tr.values}\n",
        "        pipe.fit(X_tr, y_tr, **sw_param)\n",
        "\n",
        "        preds = pipe.predict(X_va)\n",
        "        # weighted_mae 함수도 이미 정의되어있으니까\n",
        "        cv_scores.append(weighted_mae(y_va.values, preds, w_va.values))\n",
        "\n",
        "    results[name] = np.mean(cv_scores)\n",
        "\n",
        "# 결과 출력\n",
        "for name, score in results.items():\n",
        "    print(f'{name} Mean CV Weighted MAE: {score:.4f}')"
      ],
      "metadata": {
        "colab": {
          "base_uri": "https://localhost:8080/"
        },
        "id": "w_ezQEt1xbFT",
        "outputId": "6dbdacdd-b3e3-485e-f947-bf6fcaf892b4"
      },
      "execution_count": null,
      "outputs": [
        {
          "output_type": "stream",
          "name": "stdout",
          "text": [
            "CatBoost Mean CV Weighted MAE: 0.2129\n",
            "XGBoost Mean CV Weighted MAE: 0.2144\n"
          ]
        }
      ]
    },
    {
      "cell_type": "code",
      "source": [
        "from catboost import CatBoostRegressor\n",
        "from xgboost import XGBRegressor\n",
        "from sklearn.model_selection import KFold\n",
        "from sklearn.pipeline import Pipeline\n",
        "\n",
        "# 사용할 변수들만 선택\n",
        "selected_features = [\n",
        "    '연매출(억원)', '직원 수', '고객수(백만명)', '총 투자금(억원)', '기업가치(백억원)',\n",
        "    '투자효율', '직원당_매출', 'SNS 팔로워 수(백만명)'\n",
        "]\n",
        "X=train[selected_features]\n",
        "y=train['성공확률']\n",
        "w=train[\"weight\"]\n",
        "\n",
        "# 모델 정의\n",
        "models = {\n",
        "    'CatBoost': CatBoostRegressor(\n",
        "        iterations=500,\n",
        "        learning_rate=0.05,\n",
        "        depth=6,\n",
        "        eval_metric='MAE',\n",
        "        random_seed=42,\n",
        "        verbose=False\n",
        "    ),\n",
        "    'XGBoost': XGBRegressor(\n",
        "        n_estimators=500,\n",
        "        learning_rate=0.05,\n",
        "        max_depth=6,\n",
        "        objective='reg:squarederror',\n",
        "        random_state=42\n",
        "    )\n",
        "}\n",
        "\n",
        "# 5-Fold CV 수행\n",
        "kf = KFold(n_splits=5, shuffle=True, random_state=42)\n",
        "results = {}\n",
        "\n",
        "# 전처리 파이프라인을 활용하여 데이터 전처리\n",
        "for name, mdl in models.items():\n",
        "    cv_scores = []\n",
        "    for tr_idx, va_idx in kf.split(train):\n",
        "        # 선택된 변수들만 사용\n",
        "        X_tr = train.iloc[tr_idx][features]\n",
        "        y_tr = train.iloc[tr_idx]['성공확률']\n",
        "        w_tr = train.iloc[tr_idx]['weight']\n",
        "\n",
        "        X_va = train.iloc[va_idx][features]\n",
        "        y_va = train.iloc[va_idx]['성공확률']\n",
        "        w_va = train.iloc[va_idx]['weight']\n",
        "\n",
        "        # 파이프라인은 이미 preprocessor 변수로 정의되어있음\n",
        "        pipe = Pipeline([\n",
        "            ('prep', preprocessor),  # 전처리 과정\n",
        "            (name, mdl)  # 모델 학습\n",
        "        ])\n",
        "\n",
        "        # sample_weight 파라미터는 모델마다 이름이 다르므로\n",
        "        sw_param = {f'{name}__sample_weight': w_tr.values}\n",
        "        pipe.fit(X_tr, y_tr, **sw_param)\n",
        "\n",
        "        preds = pipe.predict(X_va)\n",
        "        # weighted_mae 함수도 이미 정의되어있으니까\n",
        "        cv_scores.append(weighted_mae(y_va.values, preds, w_va.values))\n",
        "\n",
        "    results[name] = np.mean(cv_scores)\n",
        "\n",
        "# 결과 출력\n",
        "for name, score in results.items():\n",
        "    print(f'{name} Mean CV Weighted MAE: {score:.4f}')\n",
        "\n"
      ],
      "metadata": {
        "colab": {
          "base_uri": "https://localhost:8080/"
        },
        "id": "vRBXSTnKz_NX",
        "outputId": "8035907b-3558-4d60-da8d-8c208f499caa"
      },
      "execution_count": null,
      "outputs": [
        {
          "output_type": "stream",
          "name": "stdout",
          "text": [
            "CatBoost Mean CV Weighted MAE: 0.2129\n",
            "XGBoost Mean CV Weighted MAE: 0.2144\n"
          ]
        }
      ]
    },
    {
      "cell_type": "code",
      "source": [
        "pip install shap"
      ],
      "metadata": {
        "colab": {
          "base_uri": "https://localhost:8080/"
        },
        "id": "ou7ZJVNyOLQ8",
        "outputId": "52c17b07-a498-4aba-da07-eebca93df9aa"
      },
      "execution_count": null,
      "outputs": [
        {
          "output_type": "stream",
          "name": "stdout",
          "text": [
            "Requirement already satisfied: shap in /usr/local/lib/python3.11/dist-packages (0.47.2)\n",
            "Requirement already satisfied: numpy in /usr/local/lib/python3.11/dist-packages (from shap) (2.0.2)\n",
            "Requirement already satisfied: scipy in /usr/local/lib/python3.11/dist-packages (from shap) (1.15.2)\n",
            "Requirement already satisfied: scikit-learn in /usr/local/lib/python3.11/dist-packages (from shap) (1.6.1)\n",
            "Requirement already satisfied: pandas in /usr/local/lib/python3.11/dist-packages (from shap) (2.2.2)\n",
            "Requirement already satisfied: tqdm>=4.27.0 in /usr/local/lib/python3.11/dist-packages (from shap) (4.67.1)\n",
            "Requirement already satisfied: packaging>20.9 in /usr/local/lib/python3.11/dist-packages (from shap) (24.2)\n",
            "Requirement already satisfied: slicer==0.0.8 in /usr/local/lib/python3.11/dist-packages (from shap) (0.0.8)\n",
            "Requirement already satisfied: numba>=0.54 in /usr/local/lib/python3.11/dist-packages (from shap) (0.60.0)\n",
            "Requirement already satisfied: cloudpickle in /usr/local/lib/python3.11/dist-packages (from shap) (3.1.1)\n",
            "Requirement already satisfied: typing-extensions in /usr/local/lib/python3.11/dist-packages (from shap) (4.13.2)\n",
            "Requirement already satisfied: llvmlite<0.44,>=0.43.0dev0 in /usr/local/lib/python3.11/dist-packages (from numba>=0.54->shap) (0.43.0)\n",
            "Requirement already satisfied: python-dateutil>=2.8.2 in /usr/local/lib/python3.11/dist-packages (from pandas->shap) (2.9.0.post0)\n",
            "Requirement already satisfied: pytz>=2020.1 in /usr/local/lib/python3.11/dist-packages (from pandas->shap) (2025.2)\n",
            "Requirement already satisfied: tzdata>=2022.7 in /usr/local/lib/python3.11/dist-packages (from pandas->shap) (2025.2)\n",
            "Requirement already satisfied: joblib>=1.2.0 in /usr/local/lib/python3.11/dist-packages (from scikit-learn->shap) (1.4.2)\n",
            "Requirement already satisfied: threadpoolctl>=3.1.0 in /usr/local/lib/python3.11/dist-packages (from scikit-learn->shap) (3.6.0)\n",
            "Requirement already satisfied: six>=1.5 in /usr/local/lib/python3.11/dist-packages (from python-dateutil>=2.8.2->pandas->shap) (1.17.0)\n"
          ]
        }
      ]
    },
    {
      "cell_type": "code",
      "source": [
        "# model 풀 확장 : catboost\n",
        "# 모델 정의\n",
        "model = {\n",
        "    'CatBoost': CatBoostRegressor(\n",
        "        iterations=500,\n",
        "        learning_rate=0.05,\n",
        "        depth=6,\n",
        "        eval_metric='MAE',\n",
        "        random_seed=42,\n",
        "        verbose=False\n",
        "    )\n",
        "}\n",
        "\n",
        "# 5-Fold CV 수행\n",
        "kf = KFold(n_splits=5, shuffle=True, random_state=42)\n",
        "results = {}\n",
        "\n",
        "for name, mdl in models.items():\n",
        "    cv_scores = []\n",
        "    for tr_idx, va_idx in kf.split(train):\n",
        "        X_tr = train.iloc[tr_idx][features]\n",
        "        y_tr = train.iloc[tr_idx]['성공확률']\n",
        "        w_tr = train.iloc[tr_idx]['weight']\n",
        "\n",
        "        X_va = train.iloc[va_idx][features]\n",
        "        y_va = train.iloc[va_idx]['성공확률']\n",
        "        w_va = train.iloc[va_idx]['weight']\n",
        "\n",
        "        # 파이프라인은 이미 preprocessor 변수로 정의되어있음\n",
        "        pipe = Pipeline([\n",
        "            ('prep', preprocessor),\n",
        "            (name, mdl)\n",
        "        ])\n",
        "\n",
        "        # sample_weight 파라미터는 모델마다 이름이 다르므로\n",
        "        sw_param = {f'{name}__sample_weight': w_tr.values}\n",
        "        pipe.fit(X_tr, y_tr, **sw_param)\n",
        "\n",
        "        preds = pipe.predict(X_va)\n",
        "        # weighted_mae 함수도 이미 정의되어있으니까\n",
        "        cv_scores.append(weighted_mae(y_va.values, preds, w_va.values))\n",
        "\n",
        "    results[name] = np.mean(cv_scores)\n",
        "\n",
        "# 결과 출력\n",
        "for name, score in results.items():\n",
        "    print(f'{name} Mean CV Weighted MAE: {score:.4f}')"
      ],
      "metadata": {
        "colab": {
          "base_uri": "https://localhost:8080/"
        },
        "id": "kaiY6szYNjry",
        "outputId": "868e3c33-2158-42dd-b859-5ff0c2dc335d"
      },
      "execution_count": null,
      "outputs": [
        {
          "output_type": "stream",
          "name": "stdout",
          "text": [
            "CatBoost Mean CV Weighted MAE: 0.2124\n"
          ]
        }
      ]
    },
    {
      "cell_type": "code",
      "source": [
        "#첫번쨰\n",
        "import shap\n",
        "from catboost import CatBoostRegressor\n",
        "from sklearn.model_selection import KFold\n",
        "from sklearn.pipeline import Pipeline\n",
        "import numpy as np\n",
        "\n",
        "# 모델 정의\n",
        "models = {\n",
        "    'CatBoost': CatBoostRegressor(\n",
        "        iterations=500,\n",
        "        learning_rate=0.05,\n",
        "        depth=6,\n",
        "        eval_metric='MAE',\n",
        "        random_seed=42,\n",
        "        verbose=False\n",
        "    )\n",
        "}\n",
        "\n",
        "# 5-Fold CV 수행\n",
        "kf = KFold(n_splits=5, shuffle=True, random_state=42)\n",
        "results = {}\n",
        "\n",
        "for name, mdl in models.items():\n",
        "    cv_scores = []\n",
        "    for tr_idx, va_idx in kf.split(train):\n",
        "        X_tr = train.iloc[tr_idx][features]\n",
        "        y_tr = train.iloc[tr_idx]['성공확률']\n",
        "        w_tr = train.iloc[tr_idx]['weight']\n",
        "\n",
        "        X_va = train.iloc[va_idx][features]\n",
        "        y_va = train.iloc[va_idx]['성공확률']\n",
        "        w_va = train.iloc[va_idx]['weight']\n",
        "\n",
        "        # 파이프라인은 이미 preprocessor 변수로 정의되어있음\n",
        "        pipe = Pipeline([\n",
        "            ('prep', preprocessor),\n",
        "            (name, mdl)\n",
        "        ])\n",
        "\n",
        "        # sample_weight 파라미터는 모델마다 이름이 다르므로\n",
        "        sw_param = {f'{name}__sample_weight': w_tr.values}\n",
        "        pipe.fit(X_tr, y_tr, **sw_param)\n",
        "\n",
        "        preds = pipe.predict(X_va)\n",
        "        # weighted_mae 함수도 이미 정의되어있으니까\n",
        "        cv_scores.append(weighted_mae(y_va.values, preds, w_va.values))\n",
        "\n",
        "    results[name] = np.mean(cv_scores)\n",
        "\n",
        "# 결과 출력\n",
        "for name, score in results.items():\n",
        "    print(f'{name} Mean CV Weighted MAE: {score:.4f}')\n",
        "\n",
        "    # SHAP 분석\n",
        "    model_fitted = pipe.named_steps[name]  # 훈련된 CatBoost 모델 얻기\n",
        "    explainer = shap.Explainer(model_fitted)  # SHAP 분석기 생성\n",
        "    shap_values = explainer(X_va)  # SHAP 값 계산\n",
        "\n",
        "    # SHAP 값 시각화\n",
        "    shap.summary_plot(shap_values, X_va)  # 중요 피처 시각화\n",
        "\n",
        "\n"
      ],
      "metadata": {
        "colab": {
          "base_uri": "https://localhost:8080/",
          "height": 825
        },
        "id": "QOjJSnMDVEqQ",
        "outputId": "21988093-2e63-41b3-8be2-3d8a5c4f4701"
      },
      "execution_count": null,
      "outputs": [
        {
          "output_type": "stream",
          "name": "stdout",
          "text": [
            "CatBoost Mean CV Weighted MAE: 0.2124\n"
          ]
        },
        {
          "output_type": "error",
          "ename": "CatBoostError",
          "evalue": "Bad value for num_feature[non_default_doc_idx=0,feature_idx=30]=\"CT002\": Cannot convert 'CT002' to float",
          "traceback": [
            "\u001b[0;31m---------------------------------------------------------------------------\u001b[0m",
            "\u001b[0;31mTypeError\u001b[0m                                 Traceback (most recent call last)",
            "\u001b[0;32m_catboost.pyx\u001b[0m in \u001b[0;36m_catboost.get_float_feature\u001b[0;34m()\u001b[0m\n",
            "\u001b[0;32m_catboost.pyx\u001b[0m in \u001b[0;36m_catboost._FloatOrNan\u001b[0;34m()\u001b[0m\n",
            "\u001b[0;32m_catboost.pyx\u001b[0m in \u001b[0;36m_catboost._FloatOrNanFromString\u001b[0;34m()\u001b[0m\n",
            "\u001b[0;31mTypeError\u001b[0m: Cannot convert 'CT002' to float",
            "\nDuring handling of the above exception, another exception occurred:\n",
            "\u001b[0;31mCatBoostError\u001b[0m                             Traceback (most recent call last)",
            "\u001b[0;32m<ipython-input-74-3a8f733a92e1>\u001b[0m in \u001b[0;36m<cell line: 0>\u001b[0;34m()\u001b[0m\n\u001b[1;32m     55\u001b[0m     \u001b[0mmodel_fitted\u001b[0m \u001b[0;34m=\u001b[0m \u001b[0mpipe\u001b[0m\u001b[0;34m.\u001b[0m\u001b[0mnamed_steps\u001b[0m\u001b[0;34m[\u001b[0m\u001b[0mname\u001b[0m\u001b[0;34m]\u001b[0m  \u001b[0;31m# 훈련된 CatBoost 모델 얻기\u001b[0m\u001b[0;34m\u001b[0m\u001b[0;34m\u001b[0m\u001b[0m\n\u001b[1;32m     56\u001b[0m     \u001b[0mexplainer\u001b[0m \u001b[0;34m=\u001b[0m \u001b[0mshap\u001b[0m\u001b[0;34m.\u001b[0m\u001b[0mExplainer\u001b[0m\u001b[0;34m(\u001b[0m\u001b[0mmodel_fitted\u001b[0m\u001b[0;34m)\u001b[0m  \u001b[0;31m# SHAP 분석기 생성\u001b[0m\u001b[0;34m\u001b[0m\u001b[0;34m\u001b[0m\u001b[0m\n\u001b[0;32m---> 57\u001b[0;31m     \u001b[0mshap_values\u001b[0m \u001b[0;34m=\u001b[0m \u001b[0mexplainer\u001b[0m\u001b[0;34m(\u001b[0m\u001b[0mX_va\u001b[0m\u001b[0;34m)\u001b[0m  \u001b[0;31m# SHAP 값 계산\u001b[0m\u001b[0;34m\u001b[0m\u001b[0;34m\u001b[0m\u001b[0m\n\u001b[0m\u001b[1;32m     58\u001b[0m \u001b[0;34m\u001b[0m\u001b[0m\n\u001b[1;32m     59\u001b[0m     \u001b[0;31m# SHAP 값 시각화\u001b[0m\u001b[0;34m\u001b[0m\u001b[0;34m\u001b[0m\u001b[0m\n",
            "\u001b[0;32m/usr/local/lib/python3.11/dist-packages/shap/explainers/_tree.py\u001b[0m in \u001b[0;36m__call__\u001b[0;34m(self, X, y, interactions, check_additivity, approximate)\u001b[0m\n\u001b[1;32m    378\u001b[0m \u001b[0;34m\u001b[0m\u001b[0m\n\u001b[1;32m    379\u001b[0m         \u001b[0;32mif\u001b[0m \u001b[0;32mnot\u001b[0m \u001b[0minteractions\u001b[0m\u001b[0;34m:\u001b[0m\u001b[0;34m\u001b[0m\u001b[0;34m\u001b[0m\u001b[0m\n\u001b[0;32m--> 380\u001b[0;31m             \u001b[0mv\u001b[0m \u001b[0;34m=\u001b[0m \u001b[0mself\u001b[0m\u001b[0;34m.\u001b[0m\u001b[0mshap_values\u001b[0m\u001b[0;34m(\u001b[0m\u001b[0mX\u001b[0m\u001b[0;34m,\u001b[0m \u001b[0my\u001b[0m\u001b[0;34m=\u001b[0m\u001b[0my\u001b[0m\u001b[0;34m,\u001b[0m \u001b[0mfrom_call\u001b[0m\u001b[0;34m=\u001b[0m\u001b[0;32mTrue\u001b[0m\u001b[0;34m,\u001b[0m \u001b[0mcheck_additivity\u001b[0m\u001b[0;34m=\u001b[0m\u001b[0mcheck_additivity\u001b[0m\u001b[0;34m,\u001b[0m \u001b[0mapproximate\u001b[0m\u001b[0;34m=\u001b[0m\u001b[0mapproximate\u001b[0m\u001b[0;34m)\u001b[0m\u001b[0;34m\u001b[0m\u001b[0;34m\u001b[0m\u001b[0m\n\u001b[0m\u001b[1;32m    381\u001b[0m             \u001b[0;32mif\u001b[0m \u001b[0misinstance\u001b[0m\u001b[0;34m(\u001b[0m\u001b[0mv\u001b[0m\u001b[0;34m,\u001b[0m \u001b[0mlist\u001b[0m\u001b[0;34m)\u001b[0m\u001b[0;34m:\u001b[0m\u001b[0;34m\u001b[0m\u001b[0;34m\u001b[0m\u001b[0m\n\u001b[1;32m    382\u001b[0m                 \u001b[0mv\u001b[0m \u001b[0;34m=\u001b[0m \u001b[0mnp\u001b[0m\u001b[0;34m.\u001b[0m\u001b[0mstack\u001b[0m\u001b[0;34m(\u001b[0m\u001b[0mv\u001b[0m\u001b[0;34m,\u001b[0m \u001b[0maxis\u001b[0m\u001b[0;34m=\u001b[0m\u001b[0;34m-\u001b[0m\u001b[0;36m1\u001b[0m\u001b[0;34m)\u001b[0m  \u001b[0;31m# put outputs at the end\u001b[0m\u001b[0;34m\u001b[0m\u001b[0;34m\u001b[0m\u001b[0m\n",
            "\u001b[0;32m/usr/local/lib/python3.11/dist-packages/shap/explainers/_tree.py\u001b[0m in \u001b[0;36mshap_values\u001b[0;34m(self, X, y, tree_limit, approximate, check_additivity, from_call)\u001b[0m\n\u001b[1;32m    600\u001b[0m \u001b[0;34m\u001b[0m\u001b[0m\n\u001b[1;32m    601\u001b[0m                 \u001b[0;32mif\u001b[0m \u001b[0;32mnot\u001b[0m \u001b[0misinstance\u001b[0m\u001b[0;34m(\u001b[0m\u001b[0mX\u001b[0m\u001b[0;34m,\u001b[0m \u001b[0mcatboost\u001b[0m\u001b[0;34m.\u001b[0m\u001b[0mPool\u001b[0m\u001b[0;34m)\u001b[0m\u001b[0;34m:\u001b[0m\u001b[0;34m\u001b[0m\u001b[0;34m\u001b[0m\u001b[0m\n\u001b[0;32m--> 602\u001b[0;31m                     \u001b[0mX\u001b[0m \u001b[0;34m=\u001b[0m \u001b[0mcatboost\u001b[0m\u001b[0;34m.\u001b[0m\u001b[0mPool\u001b[0m\u001b[0;34m(\u001b[0m\u001b[0mX\u001b[0m\u001b[0;34m,\u001b[0m \u001b[0mcat_features\u001b[0m\u001b[0;34m=\u001b[0m\u001b[0mself\u001b[0m\u001b[0;34m.\u001b[0m\u001b[0mmodel\u001b[0m\u001b[0;34m.\u001b[0m\u001b[0mcat_feature_indices\u001b[0m\u001b[0;34m)\u001b[0m\u001b[0;34m\u001b[0m\u001b[0;34m\u001b[0m\u001b[0m\n\u001b[0m\u001b[1;32m    603\u001b[0m                 \u001b[0mphi\u001b[0m \u001b[0;34m=\u001b[0m \u001b[0mself\u001b[0m\u001b[0;34m.\u001b[0m\u001b[0mmodel\u001b[0m\u001b[0;34m.\u001b[0m\u001b[0moriginal_model\u001b[0m\u001b[0;34m.\u001b[0m\u001b[0mget_feature_importance\u001b[0m\u001b[0;34m(\u001b[0m\u001b[0mdata\u001b[0m\u001b[0;34m=\u001b[0m\u001b[0mX\u001b[0m\u001b[0;34m,\u001b[0m \u001b[0mfstr_type\u001b[0m\u001b[0;34m=\u001b[0m\u001b[0;34m\"ShapValues\"\u001b[0m\u001b[0;34m)\u001b[0m\u001b[0;34m\u001b[0m\u001b[0;34m\u001b[0m\u001b[0m\n\u001b[1;32m    604\u001b[0m \u001b[0;34m\u001b[0m\u001b[0m\n",
            "\u001b[0;32m/usr/local/lib/python3.11/dist-packages/catboost/core.py\u001b[0m in \u001b[0;36m__init__\u001b[0;34m(self, data, label, cat_features, text_features, embedding_features, embedding_features_data, column_description, pairs, graph, delimiter, has_header, ignore_csv_quoting, weight, group_id, group_weight, subgroup_id, pairs_weight, baseline, timestamp, feature_names, feature_tags, thread_count, log_cout, log_cerr, data_can_be_none)\u001b[0m\n\u001b[1;32m    853\u001b[0m                         )\n\u001b[1;32m    854\u001b[0m \u001b[0;34m\u001b[0m\u001b[0m\n\u001b[0;32m--> 855\u001b[0;31m                     self._init(data, label, cat_features, text_features, embedding_features, embedding_features_data, pairs, graph, weight,\n\u001b[0m\u001b[1;32m    856\u001b[0m                                group_id, group_weight, subgroup_id, pairs_weight, baseline, timestamp, feature_names, feature_tags, thread_count)\n\u001b[1;32m    857\u001b[0m             \u001b[0;32melif\u001b[0m \u001b[0;32mnot\u001b[0m \u001b[0mdata_can_be_none\u001b[0m\u001b[0;34m:\u001b[0m\u001b[0;34m\u001b[0m\u001b[0;34m\u001b[0m\u001b[0m\n",
            "\u001b[0;32m/usr/local/lib/python3.11/dist-packages/catboost/core.py\u001b[0m in \u001b[0;36m_init\u001b[0;34m(self, data, label, cat_features, text_features, embedding_features, embedding_features_data, pairs, graph, weight, group_id, group_weight, subgroup_id, pairs_weight, baseline, timestamp, feature_names, feature_tags, thread_count)\u001b[0m\n\u001b[1;32m   1489\u001b[0m         \u001b[0;32mif\u001b[0m \u001b[0mfeature_tags\u001b[0m \u001b[0;32mis\u001b[0m \u001b[0;32mnot\u001b[0m \u001b[0;32mNone\u001b[0m\u001b[0;34m:\u001b[0m\u001b[0;34m\u001b[0m\u001b[0;34m\u001b[0m\u001b[0m\n\u001b[1;32m   1490\u001b[0m             \u001b[0mfeature_tags\u001b[0m \u001b[0;34m=\u001b[0m \u001b[0mself\u001b[0m\u001b[0;34m.\u001b[0m\u001b[0m_check_transform_tags\u001b[0m\u001b[0;34m(\u001b[0m\u001b[0mfeature_tags\u001b[0m\u001b[0;34m,\u001b[0m \u001b[0mfeature_names\u001b[0m\u001b[0;34m)\u001b[0m\u001b[0;34m\u001b[0m\u001b[0;34m\u001b[0m\u001b[0m\n\u001b[0;32m-> 1491\u001b[0;31m         self._init_pool(data, label, cat_features, text_features, embedding_features, embedding_features_data, pairs, graph, weight,\n\u001b[0m\u001b[1;32m   1492\u001b[0m                         group_id, group_weight, subgroup_id, pairs_weight, baseline, timestamp, feature_names, feature_tags, thread_count)\n\u001b[1;32m   1493\u001b[0m \u001b[0;34m\u001b[0m\u001b[0m\n",
            "\u001b[0;32m_catboost.pyx\u001b[0m in \u001b[0;36m_catboost._PoolBase._init_pool\u001b[0;34m()\u001b[0m\n",
            "\u001b[0;32m_catboost.pyx\u001b[0m in \u001b[0;36m_catboost._PoolBase._init_pool\u001b[0;34m()\u001b[0m\n",
            "\u001b[0;32m_catboost.pyx\u001b[0m in \u001b[0;36m_catboost._PoolBase._init_features_order_layout_pool\u001b[0;34m()\u001b[0m\n",
            "\u001b[0;32m_catboost.pyx\u001b[0m in \u001b[0;36m_catboost._set_features_order_data_pd_data_frame\u001b[0;34m()\u001b[0m\n",
            "\u001b[0;32m_catboost.pyx\u001b[0m in \u001b[0;36m_catboost.create_num_factor_data\u001b[0;34m()\u001b[0m\n",
            "\u001b[0;32m_catboost.pyx\u001b[0m in \u001b[0;36m_catboost.get_float_feature\u001b[0;34m()\u001b[0m\n",
            "\u001b[0;31mCatBoostError\u001b[0m: Bad value for num_feature[non_default_doc_idx=0,feature_idx=30]=\"CT002\": Cannot convert 'CT002' to float"
          ]
        }
      ]
    },
    {
      "cell_type": "code",
      "source": [
        "#두번\n",
        "import pandas as pd\n",
        "import shap\n",
        "from xgboost import XGBRegressor\n",
        "\n",
        "\n",
        "\n",
        "# X와 y 정의 (성공확률 예측)\n",
        "X = train.drop(columns=['성공확률', 'weight'])  # '성공확률'과 'weight' 제외한 피처\n",
        "y = train['성공확률']  # 타겟은 '성공확률'\n",
        "\n",
        "# 범주형 변수 처리 (필요한 경우)\n",
        "# 예를 들어, 범주형 변수를 원-핫 인코딩 할 수 있습니다\n",
        "X = pd.get_dummies(X, drop_first=True)\n"
      ],
      "metadata": {
        "id": "27v_RdXlfPMT"
      },
      "execution_count": null,
      "outputs": []
    },
    {
      "cell_type": "code",
      "source": [
        "# XGBoost 모델 학습\n",
        "model = XGBRegressor(random_state=42)\n",
        "model.fit(X, y)\n",
        "\n",
        "# SHAP 값 계산\n",
        "explainer = shap.Explainer(model)\n",
        "shap_values = explainer(X)\n",
        "\n",
        "# SHAP 값 시각화\n",
        "shap.summary_plot(shap_values, X)\n"
      ],
      "metadata": {
        "colab": {
          "base_uri": "https://localhost:8080/",
          "height": 1000
        },
        "id": "rsd9xDPCfRw9",
        "outputId": "0ef3aeb0-ccc7-44a2-9c91-9c96c1bc3f16"
      },
      "execution_count": null,
      "outputs": [
        {
          "output_type": "stream",
          "name": "stderr",
          "text": [
            "/usr/local/lib/python3.11/dist-packages/shap/plots/_beeswarm.py:1153: UserWarning: Glyph 44397 (\\N{HANGUL SYLLABLE GUG}) missing from font(s) DejaVu Sans.\n",
            "  pl.tight_layout()\n",
            "/usr/local/lib/python3.11/dist-packages/shap/plots/_beeswarm.py:1153: UserWarning: Glyph 44032 (\\N{HANGUL SYLLABLE GA}) missing from font(s) DejaVu Sans.\n",
            "  pl.tight_layout()\n",
            "/usr/local/lib/python3.11/dist-packages/shap/plots/_beeswarm.py:1153: UserWarning: Glyph 51064 (\\N{HANGUL SYLLABLE IN}) missing from font(s) DejaVu Sans.\n",
            "  pl.tight_layout()\n",
            "/usr/local/lib/python3.11/dist-packages/shap/plots/_beeswarm.py:1153: UserWarning: Glyph 49688 (\\N{HANGUL SYLLABLE SU}) missing from font(s) DejaVu Sans.\n",
            "  pl.tight_layout()\n",
            "/usr/local/lib/python3.11/dist-packages/shap/plots/_beeswarm.py:1153: UserWarning: Glyph 50668 (\\N{HANGUL SYLLABLE YEO}) missing from font(s) DejaVu Sans.\n",
            "  pl.tight_layout()\n",
            "/usr/local/lib/python3.11/dist-packages/shap/plots/_beeswarm.py:1153: UserWarning: Glyph 48512 (\\N{HANGUL SYLLABLE BU}) missing from font(s) DejaVu Sans.\n",
            "  pl.tight_layout()\n",
            "/usr/local/lib/python3.11/dist-packages/shap/plots/_beeswarm.py:1153: UserWarning: Glyph 53804 (\\N{HANGUL SYLLABLE TU}) missing from font(s) DejaVu Sans.\n",
            "  pl.tight_layout()\n",
            "/usr/local/lib/python3.11/dist-packages/shap/plots/_beeswarm.py:1153: UserWarning: Glyph 51088 (\\N{HANGUL SYLLABLE JA}) missing from font(s) DejaVu Sans.\n",
            "  pl.tight_layout()\n",
            "/usr/local/lib/python3.11/dist-packages/shap/plots/_beeswarm.py:1153: UserWarning: Glyph 45800 (\\N{HANGUL SYLLABLE DAN}) missing from font(s) DejaVu Sans.\n",
            "  pl.tight_layout()\n",
            "/usr/local/lib/python3.11/dist-packages/shap/plots/_beeswarm.py:1153: UserWarning: Glyph 44228 (\\N{HANGUL SYLLABLE GYE}) missing from font(s) DejaVu Sans.\n",
            "  pl.tight_layout()\n",
            "/usr/local/lib/python3.11/dist-packages/shap/plots/_beeswarm.py:1153: UserWarning: Glyph 48516 (\\N{HANGUL SYLLABLE BUN}) missing from font(s) DejaVu Sans.\n",
            "  pl.tight_layout()\n",
            "/usr/local/lib/python3.11/dist-packages/shap/plots/_beeswarm.py:1153: UserWarning: Glyph 50556 (\\N{HANGUL SYLLABLE YA}) missing from font(s) DejaVu Sans.\n",
            "  pl.tight_layout()\n",
            "/usr/local/lib/python3.11/dist-packages/shap/plots/_beeswarm.py:1153: UserWarning: Glyph 54592 (\\N{HANGUL SYLLABLE PIN}) missing from font(s) DejaVu Sans.\n",
            "  pl.tight_layout()\n",
            "/usr/local/lib/python3.11/dist-packages/shap/plots/_beeswarm.py:1153: UserWarning: Glyph 53580 (\\N{HANGUL SYLLABLE TE}) missing from font(s) DejaVu Sans.\n",
            "  pl.tight_layout()\n",
            "/usr/local/lib/python3.11/dist-packages/shap/plots/_beeswarm.py:1153: UserWarning: Glyph 53356 (\\N{HANGUL SYLLABLE KEU}) missing from font(s) DejaVu Sans.\n",
            "  pl.tight_layout()\n",
            "/usr/local/lib/python3.11/dist-packages/shap/plots/_beeswarm.py:1153: UserWarning: Glyph 49444 (\\N{HANGUL SYLLABLE SEOL}) missing from font(s) DejaVu Sans.\n",
            "  pl.tight_layout()\n",
            "/usr/local/lib/python3.11/dist-packages/shap/plots/_beeswarm.py:1153: UserWarning: Glyph 47549 (\\N{HANGUL SYLLABLE RIB}) missing from font(s) DejaVu Sans.\n",
            "  pl.tight_layout()\n",
            "/usr/local/lib/python3.11/dist-packages/shap/plots/_beeswarm.py:1153: UserWarning: Glyph 50672 (\\N{HANGUL SYLLABLE YEON}) missing from font(s) DejaVu Sans.\n",
            "  pl.tight_layout()\n",
            "/usr/local/lib/python3.11/dist-packages/shap/plots/_beeswarm.py:1153: UserWarning: Glyph 46020 (\\N{HANGUL SYLLABLE DO}) missing from font(s) DejaVu Sans.\n",
            "  pl.tight_layout()\n",
            "/usr/local/lib/python3.11/dist-packages/shap/plots/_beeswarm.py:1153: UserWarning: Glyph 44256 (\\N{HANGUL SYLLABLE GO}) missing from font(s) DejaVu Sans.\n",
            "  pl.tight_layout()\n",
            "/usr/local/lib/python3.11/dist-packages/shap/plots/_beeswarm.py:1153: UserWarning: Glyph 44061 (\\N{HANGUL SYLLABLE GAEG}) missing from font(s) DejaVu Sans.\n",
            "  pl.tight_layout()\n",
            "/usr/local/lib/python3.11/dist-packages/shap/plots/_beeswarm.py:1153: UserWarning: Glyph 45817 (\\N{HANGUL SYLLABLE DANG}) missing from font(s) DejaVu Sans.\n",
            "  pl.tight_layout()\n",
            "/usr/local/lib/python3.11/dist-packages/shap/plots/_beeswarm.py:1153: UserWarning: Glyph 47588 (\\N{HANGUL SYLLABLE MAE}) missing from font(s) DejaVu Sans.\n",
            "  pl.tight_layout()\n",
            "/usr/local/lib/python3.11/dist-packages/shap/plots/_beeswarm.py:1153: UserWarning: Glyph 52636 (\\N{HANGUL SYLLABLE CUL}) missing from font(s) DejaVu Sans.\n",
            "  pl.tight_layout()\n",
            "/usr/local/lib/python3.11/dist-packages/shap/plots/_beeswarm.py:1153: UserWarning: Glyph 54952 (\\N{HANGUL SYLLABLE HYO}) missing from font(s) DejaVu Sans.\n",
            "  pl.tight_layout()\n",
            "/usr/local/lib/python3.11/dist-packages/shap/plots/_beeswarm.py:1153: UserWarning: Glyph 50984 (\\N{HANGUL SYLLABLE YUL}) missing from font(s) DejaVu Sans.\n",
            "  pl.tight_layout()\n",
            "/usr/local/lib/python3.11/dist-packages/shap/plots/_beeswarm.py:1153: UserWarning: Glyph 52509 (\\N{HANGUL SYLLABLE CONG}) missing from font(s) DejaVu Sans.\n",
            "  pl.tight_layout()\n",
            "/usr/local/lib/python3.11/dist-packages/shap/plots/_beeswarm.py:1153: UserWarning: Glyph 44552 (\\N{HANGUL SYLLABLE GEUM}) missing from font(s) DejaVu Sans.\n",
            "  pl.tight_layout()\n",
            "/usr/local/lib/python3.11/dist-packages/shap/plots/_beeswarm.py:1153: UserWarning: Glyph 50613 (\\N{HANGUL SYLLABLE EOG}) missing from font(s) DejaVu Sans.\n",
            "  pl.tight_layout()\n",
            "/usr/local/lib/python3.11/dist-packages/shap/plots/_beeswarm.py:1153: UserWarning: Glyph 50896 (\\N{HANGUL SYLLABLE WEON}) missing from font(s) DejaVu Sans.\n",
            "  pl.tight_layout()\n",
            "/usr/local/lib/python3.11/dist-packages/shap/plots/_beeswarm.py:1153: UserWarning: Glyph 49345 (\\N{HANGUL SYLLABLE SANG}) missing from font(s) DejaVu Sans.\n",
            "  pl.tight_layout()\n",
            "/usr/local/lib/python3.11/dist-packages/shap/plots/_beeswarm.py:1153: UserWarning: Glyph 51109 (\\N{HANGUL SYLLABLE JANG}) missing from font(s) DejaVu Sans.\n",
            "  pl.tight_layout()\n",
            "/usr/local/lib/python3.11/dist-packages/shap/plots/_beeswarm.py:1153: UserWarning: Glyph 54764 (\\N{HANGUL SYLLABLE HEL}) missing from font(s) DejaVu Sans.\n",
            "  pl.tight_layout()\n",
            "/usr/local/lib/python3.11/dist-packages/shap/plots/_beeswarm.py:1153: UserWarning: Glyph 49828 (\\N{HANGUL SYLLABLE SEU}) missing from font(s) DejaVu Sans.\n",
            "  pl.tight_layout()\n",
            "/usr/local/lib/python3.11/dist-packages/shap/plots/_beeswarm.py:1153: UserWarning: Glyph 52992 (\\N{HANGUL SYLLABLE KE}) missing from font(s) DejaVu Sans.\n",
            "  pl.tight_layout()\n",
            "/usr/local/lib/python3.11/dist-packages/shap/plots/_beeswarm.py:1153: UserWarning: Glyph 50612 (\\N{HANGUL SYLLABLE EO}) missing from font(s) DejaVu Sans.\n",
            "  pl.tight_layout()\n",
            "/usr/local/lib/python3.11/dist-packages/shap/plots/_beeswarm.py:1153: UserWarning: Glyph 54036 (\\N{HANGUL SYLLABLE PAL}) missing from font(s) DejaVu Sans.\n",
            "  pl.tight_layout()\n",
            "/usr/local/lib/python3.11/dist-packages/shap/plots/_beeswarm.py:1153: UserWarning: Glyph 47196 (\\N{HANGUL SYLLABLE RO}) missing from font(s) DejaVu Sans.\n",
            "  pl.tight_layout()\n",
            "/usr/local/lib/python3.11/dist-packages/shap/plots/_beeswarm.py:1153: UserWarning: Glyph 50892 (\\N{HANGUL SYLLABLE WEO}) missing from font(s) DejaVu Sans.\n",
            "  pl.tight_layout()\n",
            "/usr/local/lib/python3.11/dist-packages/shap/plots/_beeswarm.py:1153: UserWarning: Glyph 48177 (\\N{HANGUL SYLLABLE BAEG}) missing from font(s) DejaVu Sans.\n",
            "  pl.tight_layout()\n",
            "/usr/local/lib/python3.11/dist-packages/shap/plots/_beeswarm.py:1153: UserWarning: Glyph 47564 (\\N{HANGUL SYLLABLE MAN}) missing from font(s) DejaVu Sans.\n",
            "  pl.tight_layout()\n",
            "/usr/local/lib/python3.11/dist-packages/shap/plots/_beeswarm.py:1153: UserWarning: Glyph 47749 (\\N{HANGUL SYLLABLE MYEONG}) missing from font(s) DejaVu Sans.\n",
            "  pl.tight_layout()\n",
            "/usr/local/lib/python3.11/dist-packages/shap/plots/_beeswarm.py:1153: UserWarning: Glyph 51649 (\\N{HANGUL SYLLABLE JIG}) missing from font(s) DejaVu Sans.\n",
            "  pl.tight_layout()\n",
            "/usr/local/lib/python3.11/dist-packages/IPython/core/pylabtools.py:151: UserWarning: Glyph 44397 (\\N{HANGUL SYLLABLE GUG}) missing from font(s) DejaVu Sans.\n",
            "  fig.canvas.print_figure(bytes_io, **kw)\n",
            "/usr/local/lib/python3.11/dist-packages/IPython/core/pylabtools.py:151: UserWarning: Glyph 44032 (\\N{HANGUL SYLLABLE GA}) missing from font(s) DejaVu Sans.\n",
            "  fig.canvas.print_figure(bytes_io, **kw)\n",
            "/usr/local/lib/python3.11/dist-packages/IPython/core/pylabtools.py:151: UserWarning: Glyph 51064 (\\N{HANGUL SYLLABLE IN}) missing from font(s) DejaVu Sans.\n",
            "  fig.canvas.print_figure(bytes_io, **kw)\n",
            "/usr/local/lib/python3.11/dist-packages/IPython/core/pylabtools.py:151: UserWarning: Glyph 49688 (\\N{HANGUL SYLLABLE SU}) missing from font(s) DejaVu Sans.\n",
            "  fig.canvas.print_figure(bytes_io, **kw)\n",
            "/usr/local/lib/python3.11/dist-packages/IPython/core/pylabtools.py:151: UserWarning: Glyph 50668 (\\N{HANGUL SYLLABLE YEO}) missing from font(s) DejaVu Sans.\n",
            "  fig.canvas.print_figure(bytes_io, **kw)\n",
            "/usr/local/lib/python3.11/dist-packages/IPython/core/pylabtools.py:151: UserWarning: Glyph 48512 (\\N{HANGUL SYLLABLE BU}) missing from font(s) DejaVu Sans.\n",
            "  fig.canvas.print_figure(bytes_io, **kw)\n",
            "/usr/local/lib/python3.11/dist-packages/IPython/core/pylabtools.py:151: UserWarning: Glyph 53804 (\\N{HANGUL SYLLABLE TU}) missing from font(s) DejaVu Sans.\n",
            "  fig.canvas.print_figure(bytes_io, **kw)\n",
            "/usr/local/lib/python3.11/dist-packages/IPython/core/pylabtools.py:151: UserWarning: Glyph 51088 (\\N{HANGUL SYLLABLE JA}) missing from font(s) DejaVu Sans.\n",
            "  fig.canvas.print_figure(bytes_io, **kw)\n",
            "/usr/local/lib/python3.11/dist-packages/IPython/core/pylabtools.py:151: UserWarning: Glyph 45800 (\\N{HANGUL SYLLABLE DAN}) missing from font(s) DejaVu Sans.\n",
            "  fig.canvas.print_figure(bytes_io, **kw)\n",
            "/usr/local/lib/python3.11/dist-packages/IPython/core/pylabtools.py:151: UserWarning: Glyph 44228 (\\N{HANGUL SYLLABLE GYE}) missing from font(s) DejaVu Sans.\n",
            "  fig.canvas.print_figure(bytes_io, **kw)\n",
            "/usr/local/lib/python3.11/dist-packages/IPython/core/pylabtools.py:151: UserWarning: Glyph 48516 (\\N{HANGUL SYLLABLE BUN}) missing from font(s) DejaVu Sans.\n",
            "  fig.canvas.print_figure(bytes_io, **kw)\n",
            "/usr/local/lib/python3.11/dist-packages/IPython/core/pylabtools.py:151: UserWarning: Glyph 50556 (\\N{HANGUL SYLLABLE YA}) missing from font(s) DejaVu Sans.\n",
            "  fig.canvas.print_figure(bytes_io, **kw)\n",
            "/usr/local/lib/python3.11/dist-packages/IPython/core/pylabtools.py:151: UserWarning: Glyph 54592 (\\N{HANGUL SYLLABLE PIN}) missing from font(s) DejaVu Sans.\n",
            "  fig.canvas.print_figure(bytes_io, **kw)\n",
            "/usr/local/lib/python3.11/dist-packages/IPython/core/pylabtools.py:151: UserWarning: Glyph 53580 (\\N{HANGUL SYLLABLE TE}) missing from font(s) DejaVu Sans.\n",
            "  fig.canvas.print_figure(bytes_io, **kw)\n",
            "/usr/local/lib/python3.11/dist-packages/IPython/core/pylabtools.py:151: UserWarning: Glyph 53356 (\\N{HANGUL SYLLABLE KEU}) missing from font(s) DejaVu Sans.\n",
            "  fig.canvas.print_figure(bytes_io, **kw)\n",
            "/usr/local/lib/python3.11/dist-packages/IPython/core/pylabtools.py:151: UserWarning: Glyph 49444 (\\N{HANGUL SYLLABLE SEOL}) missing from font(s) DejaVu Sans.\n",
            "  fig.canvas.print_figure(bytes_io, **kw)\n",
            "/usr/local/lib/python3.11/dist-packages/IPython/core/pylabtools.py:151: UserWarning: Glyph 47549 (\\N{HANGUL SYLLABLE RIB}) missing from font(s) DejaVu Sans.\n",
            "  fig.canvas.print_figure(bytes_io, **kw)\n",
            "/usr/local/lib/python3.11/dist-packages/IPython/core/pylabtools.py:151: UserWarning: Glyph 50672 (\\N{HANGUL SYLLABLE YEON}) missing from font(s) DejaVu Sans.\n",
            "  fig.canvas.print_figure(bytes_io, **kw)\n",
            "/usr/local/lib/python3.11/dist-packages/IPython/core/pylabtools.py:151: UserWarning: Glyph 46020 (\\N{HANGUL SYLLABLE DO}) missing from font(s) DejaVu Sans.\n",
            "  fig.canvas.print_figure(bytes_io, **kw)\n",
            "/usr/local/lib/python3.11/dist-packages/IPython/core/pylabtools.py:151: UserWarning: Glyph 44256 (\\N{HANGUL SYLLABLE GO}) missing from font(s) DejaVu Sans.\n",
            "  fig.canvas.print_figure(bytes_io, **kw)\n",
            "/usr/local/lib/python3.11/dist-packages/IPython/core/pylabtools.py:151: UserWarning: Glyph 44061 (\\N{HANGUL SYLLABLE GAEG}) missing from font(s) DejaVu Sans.\n",
            "  fig.canvas.print_figure(bytes_io, **kw)\n",
            "/usr/local/lib/python3.11/dist-packages/IPython/core/pylabtools.py:151: UserWarning: Glyph 45817 (\\N{HANGUL SYLLABLE DANG}) missing from font(s) DejaVu Sans.\n",
            "  fig.canvas.print_figure(bytes_io, **kw)\n",
            "/usr/local/lib/python3.11/dist-packages/IPython/core/pylabtools.py:151: UserWarning: Glyph 47588 (\\N{HANGUL SYLLABLE MAE}) missing from font(s) DejaVu Sans.\n",
            "  fig.canvas.print_figure(bytes_io, **kw)\n",
            "/usr/local/lib/python3.11/dist-packages/IPython/core/pylabtools.py:151: UserWarning: Glyph 52636 (\\N{HANGUL SYLLABLE CUL}) missing from font(s) DejaVu Sans.\n",
            "  fig.canvas.print_figure(bytes_io, **kw)\n",
            "/usr/local/lib/python3.11/dist-packages/IPython/core/pylabtools.py:151: UserWarning: Glyph 54952 (\\N{HANGUL SYLLABLE HYO}) missing from font(s) DejaVu Sans.\n",
            "  fig.canvas.print_figure(bytes_io, **kw)\n",
            "/usr/local/lib/python3.11/dist-packages/IPython/core/pylabtools.py:151: UserWarning: Glyph 50984 (\\N{HANGUL SYLLABLE YUL}) missing from font(s) DejaVu Sans.\n",
            "  fig.canvas.print_figure(bytes_io, **kw)\n",
            "/usr/local/lib/python3.11/dist-packages/IPython/core/pylabtools.py:151: UserWarning: Glyph 52509 (\\N{HANGUL SYLLABLE CONG}) missing from font(s) DejaVu Sans.\n",
            "  fig.canvas.print_figure(bytes_io, **kw)\n",
            "/usr/local/lib/python3.11/dist-packages/IPython/core/pylabtools.py:151: UserWarning: Glyph 44552 (\\N{HANGUL SYLLABLE GEUM}) missing from font(s) DejaVu Sans.\n",
            "  fig.canvas.print_figure(bytes_io, **kw)\n",
            "/usr/local/lib/python3.11/dist-packages/IPython/core/pylabtools.py:151: UserWarning: Glyph 50613 (\\N{HANGUL SYLLABLE EOG}) missing from font(s) DejaVu Sans.\n",
            "  fig.canvas.print_figure(bytes_io, **kw)\n",
            "/usr/local/lib/python3.11/dist-packages/IPython/core/pylabtools.py:151: UserWarning: Glyph 50896 (\\N{HANGUL SYLLABLE WEON}) missing from font(s) DejaVu Sans.\n",
            "  fig.canvas.print_figure(bytes_io, **kw)\n",
            "/usr/local/lib/python3.11/dist-packages/IPython/core/pylabtools.py:151: UserWarning: Glyph 49345 (\\N{HANGUL SYLLABLE SANG}) missing from font(s) DejaVu Sans.\n",
            "  fig.canvas.print_figure(bytes_io, **kw)\n",
            "/usr/local/lib/python3.11/dist-packages/IPython/core/pylabtools.py:151: UserWarning: Glyph 51109 (\\N{HANGUL SYLLABLE JANG}) missing from font(s) DejaVu Sans.\n",
            "  fig.canvas.print_figure(bytes_io, **kw)\n",
            "/usr/local/lib/python3.11/dist-packages/IPython/core/pylabtools.py:151: UserWarning: Glyph 54764 (\\N{HANGUL SYLLABLE HEL}) missing from font(s) DejaVu Sans.\n",
            "  fig.canvas.print_figure(bytes_io, **kw)\n",
            "/usr/local/lib/python3.11/dist-packages/IPython/core/pylabtools.py:151: UserWarning: Glyph 49828 (\\N{HANGUL SYLLABLE SEU}) missing from font(s) DejaVu Sans.\n",
            "  fig.canvas.print_figure(bytes_io, **kw)\n",
            "/usr/local/lib/python3.11/dist-packages/IPython/core/pylabtools.py:151: UserWarning: Glyph 52992 (\\N{HANGUL SYLLABLE KE}) missing from font(s) DejaVu Sans.\n",
            "  fig.canvas.print_figure(bytes_io, **kw)\n",
            "/usr/local/lib/python3.11/dist-packages/IPython/core/pylabtools.py:151: UserWarning: Glyph 50612 (\\N{HANGUL SYLLABLE EO}) missing from font(s) DejaVu Sans.\n",
            "  fig.canvas.print_figure(bytes_io, **kw)\n",
            "/usr/local/lib/python3.11/dist-packages/IPython/core/pylabtools.py:151: UserWarning: Glyph 54036 (\\N{HANGUL SYLLABLE PAL}) missing from font(s) DejaVu Sans.\n",
            "  fig.canvas.print_figure(bytes_io, **kw)\n",
            "/usr/local/lib/python3.11/dist-packages/IPython/core/pylabtools.py:151: UserWarning: Glyph 47196 (\\N{HANGUL SYLLABLE RO}) missing from font(s) DejaVu Sans.\n",
            "  fig.canvas.print_figure(bytes_io, **kw)\n",
            "/usr/local/lib/python3.11/dist-packages/IPython/core/pylabtools.py:151: UserWarning: Glyph 50892 (\\N{HANGUL SYLLABLE WEO}) missing from font(s) DejaVu Sans.\n",
            "  fig.canvas.print_figure(bytes_io, **kw)\n",
            "/usr/local/lib/python3.11/dist-packages/IPython/core/pylabtools.py:151: UserWarning: Glyph 48177 (\\N{HANGUL SYLLABLE BAEG}) missing from font(s) DejaVu Sans.\n",
            "  fig.canvas.print_figure(bytes_io, **kw)\n",
            "/usr/local/lib/python3.11/dist-packages/IPython/core/pylabtools.py:151: UserWarning: Glyph 47564 (\\N{HANGUL SYLLABLE MAN}) missing from font(s) DejaVu Sans.\n",
            "  fig.canvas.print_figure(bytes_io, **kw)\n",
            "/usr/local/lib/python3.11/dist-packages/IPython/core/pylabtools.py:151: UserWarning: Glyph 47749 (\\N{HANGUL SYLLABLE MYEONG}) missing from font(s) DejaVu Sans.\n",
            "  fig.canvas.print_figure(bytes_io, **kw)\n",
            "/usr/local/lib/python3.11/dist-packages/IPython/core/pylabtools.py:151: UserWarning: Glyph 51649 (\\N{HANGUL SYLLABLE JIG}) missing from font(s) DejaVu Sans.\n",
            "  fig.canvas.print_figure(bytes_io, **kw)\n"
          ]
        },
        {
          "output_type": "display_data",
          "data": {
            "text/plain": [
              "<Figure size 800x950 with 2 Axes>"
            ],
            "image/png": "[encoded data removed]"
          },
          "metadata": {}
        }
      ]
    },
    {
      "cell_type": "code",
      "source": [
        "import shap\n",
        "\n",
        "# 모델 학습 후 SHAP 값 계산\n",
        "explainer = shap.Explainer(model)\n",
        "shap_values = explainer(X)\n",
        "\n",
        "# 각 피처별 SHAP 값의 평균 출력\n",
        "feature_importance = pd.DataFrame({\n",
        "    'Feature': X.columns,\n",
        "    'Mean SHAP value': np.abs(shap_values.values).mean(axis=0)\n",
        "})\n",
        "\n",
        "# 중요도 기준으로 정렬\n",
        "feature_importance = feature_importance.sort_values(by='Mean SHAP value', ascending=False)\n",
        "\n",
        "# 결과 출력\n",
        "print(feature_importance)\n"
      ],
      "metadata": {
        "colab": {
          "base_uri": "https://localhost:8080/"
        },
        "id": "xQoCVxsvg5Gt",
        "outputId": "db7ac162-b608-48fd-a27a-844579f11b6a"
      },
      "execution_count": null,
      "outputs": [
        {
          "output_type": "stream",
          "name": "stdout",
          "text": [
            "             Feature  Mean SHAP value\n",
            "1               직원 수         0.011300\n",
            "10            직원당_매출         0.010422\n",
            "2           고객수(백만명)         0.010144\n",
            "4            연매출(억원)         0.007750\n",
            "5     SNS 팔로워 수(백만명)         0.007317\n",
            "...              ...              ...\n",
            "1548   ID_TRAIN_1521         0.000000\n",
            "1547   ID_TRAIN_1520         0.000000\n",
            "1546   ID_TRAIN_1519         0.000000\n",
            "1545   ID_TRAIN_1518         0.000000\n",
            "1555   ID_TRAIN_1528         0.000000\n",
            "\n",
            "[4428 rows x 2 columns]\n"
          ]
        }
      ]
    },
    {
      "cell_type": "code",
      "source": [
        "train.columns"
      ],
      "metadata": {
        "colab": {
          "base_uri": "https://localhost:8080/"
        },
        "id": "HYMuEPfrwnJt",
        "outputId": "474ef1cf-d0ca-4428-b3ee-1e932d9407c5"
      },
      "execution_count": null,
      "outputs": [
        {
          "output_type": "execute_result",
          "data": {
            "text/plain": [
              "Index(['ID', '설립연도', '국가', '분야', '투자단계', '직원 수', '인수여부', '상장여부', '고객수(백만명)',\n",
              "       '총 투자금(억원)', '연매출(억원)', 'SNS 팔로워 수(백만명)', '기업가치(백억원)', '성공확률', '회사_나이',\n",
              "       '투자효율', '고객당_매출', '직원당_매출', '직원수_범주', '직원수_연매출_상호작용', 'log_연매출(억원)',\n",
              "       'log_총 투자금(억원)', 'log_기업가치(백억원)', 'weight', 'is_na_설립연도', 'is_na_직원 수',\n",
              "       'is_na_고객수(백만명)', 'is_na_총 투자금(억원)', 'is_na_연매출(억원)',\n",
              "       'is_na_SNS 팔로워 수(백만명)', 'is_na_기업가치(백억원)', 'is_na_회사_나이', 'is_na_투자효율',\n",
              "       'is_na_고객당_매출', 'is_na_직원당_매출', 'is_na_직원수_연매출_상호작용',\n",
              "       'is_na_log_연매출(억원)', 'is_na_log_총 투자금(억원)', 'is_na_log_기업가치(백억원)',\n",
              "       '직원수_고객수비율'],\n",
              "      dtype='object')"
            ]
          },
          "metadata": {},
          "execution_count": 85
        }
      ]
    },
    {
      "cell_type": "code",
      "source": [
        "from sklearn.model_selection import train_test_split\n",
        "from sklearn.svm import SVR\n",
        "from sklearn.preprocessing import OneHotEncoder\n",
        "from sklearn.compose import ColumnTransformer\n",
        "from sklearn.pipeline import Pipeline\n",
        "from sklearn.impute import SimpleImputer\n",
        "from sklearn.metrics import mean_absolute_error\n",
        "import pandas as pd\n",
        "import numpy as np\n",
        "\n",
        "# 예시로 train_data와 test_data가 주어졌다고 가정\n",
        "X = train.drop(columns=['성공확률', 'weight'])  # '성공확률'과 'weight'를 제외한 나머지 피처들\n",
        "y = train['성공확률']  # 타겟값 '성공확률'\n",
        "w = train['weight']  # 가중치\n",
        "\n",
        "# train/test split\n",
        "X_train, X_test, y_train, y_test, w_train, w_test = train_test_split(X, y, w, test_size=0.2, random_state=42)\n",
        "\n",
        "# 범주형 데이터를 처리하기 위한 컬럼 변환기 설정\n",
        "numeric_cols = X.select_dtypes(include=['int64', 'float64']).columns.tolist()\n",
        "cat_cols = X.select_dtypes(include=['object']).columns.tolist()\n",
        "\n",
        "# 전처리 파이프라인 정의\n",
        "preprocessor = ColumnTransformer(\n",
        "    transformers=[\n",
        "        ('num', SimpleImputer(strategy='median'), numeric_cols),\n",
        "        ('cat', Pipeline([\n",
        "            ('imputer', SimpleImputer(strategy='most_frequent')),\n",
        "            ('onehot', OneHotEncoder(handle_unknown='ignore'))\n",
        "        ]), cat_cols)\n",
        "    ])\n",
        "\n",
        "# SVR 모델 정의\n",
        "model = Pipeline([\n",
        "    ('preprocessor', preprocessor),\n",
        "    ('svr', SVR(kernel='rbf', C=1.0, epsilon=0.1))  # SVR 모델 설정\n",
        "])\n",
        "\n",
        "# 모델 학습\n",
        "model.fit(X_train, y_train)\n",
        "\n",
        "# 예측값 계산\n",
        "y_pred = model.predict(X_test)\n",
        "\n",
        "# MAE 계산 (가중치를 고려한 MAE)\n",
        "def weighted_mae(y_true, y_pred, w):\n",
        "    return np.sum(w * np.abs(y_true - y_pred)) / np.sum(w)\n",
        "\n",
        "# 가중치를 고려한 MAE 계산\n",
        "wmae = weighted_mae(y_test, y_pred, w_test)\n",
        "print(f\"Weighted MAE: {wmae}\")\n"
      ],
      "metadata": {
        "colab": {
          "base_uri": "https://localhost:8080/"
        },
        "id": "PI8WGoQ37HSP",
        "outputId": "a78d2331-07dc-4383-8a8d-b50b4af92e13"
      },
      "execution_count": null,
      "outputs": [
        {
          "output_type": "stream",
          "name": "stderr",
          "text": [
            "/usr/local/lib/python3.11/dist-packages/sklearn/impute/_base.py:635: UserWarning: Skipping features without any observed values: ['기업가치(백억원)']. At least one non-missing value is needed for imputation with strategy='median'.\n",
            "  warnings.warn(\n"
          ]
        },
        {
          "output_type": "stream",
          "name": "stdout",
          "text": [
            "Weighted MAE: 0.21279340575753608\n"
          ]
        },
        {
          "output_type": "stream",
          "name": "stderr",
          "text": [
            "/usr/local/lib/python3.11/dist-packages/sklearn/impute/_base.py:635: UserWarning: Skipping features without any observed values: ['기업가치(백억원)']. At least one non-missing value is needed for imputation with strategy='median'.\n",
            "  warnings.warn(\n"
          ]
        }
      ]
    },
    {
      "cell_type": "code",
      "source": [
        "from sklearn.svm import SVR\n",
        "from sklearn.model_selection import KFold\n",
        "from sklearn.pipeline import Pipeline\n",
        "from sklearn.metrics import mean_absolute_error\n",
        "import numpy as np\n",
        "\n",
        "# 모델 정의\n",
        "models = {\n",
        "    'SVR (RBF)': SVR(kernel='rbf', C=1.0, epsilon=0.1),\n",
        "    'SVR (Linear)': SVR(kernel='linear', C=1.0, epsilon=0.1),\n",
        "    'SVR (Poly)': SVR(kernel='poly', C=1.0, epsilon=0.1, degree=3)\n",
        "}\n",
        "\n",
        "# 5-Fold 교차 검증 수행\n",
        "kf = KFold(n_splits=5, shuffle=True, random_state=42)\n",
        "results = {}\n",
        "\n",
        "for name, model in models.items():\n",
        "    cv_scores = []\n",
        "    for train_idx, val_idx in kf.split(train):\n",
        "        X_train, y_train, w_train = train.iloc[train_idx][features], train.iloc[train_idx]['성공확률'], train.iloc[train_idx]['weight']\n",
        "        X_val, y_val, w_val = train.iloc[val_idx][features], train.iloc[val_idx]['성공확률'], train.iloc[val_idx]['weight']\n",
        "\n",
        "        # 파이프라인 구성\n",
        "        pipe = Pipeline([\n",
        "            ('prep', preprocessor),\n",
        "            (name, model)\n",
        "        ])\n",
        "\n",
        "        # 모델 학습\n",
        "        pipe.fit(X_train, y_train, **{f'{name}__sample_weight': w_train.values})\n",
        "\n",
        "        # 예측 및 평가\n",
        "        preds = pipe.predict(X_val)\n",
        "        cv_scores.append(weighted_mae(y_val.values, preds, w_val.values))\n",
        "\n",
        "    results[name] = np.mean(cv_scores)\n",
        "\n",
        "# 결과 출력\n",
        "for name, score in results.items():\n",
        "    print(f'{name} Mean CV Weighted MAE: {score:.4f}')\n"
      ],
      "metadata": {
        "id": "b3IM4t4fVQKn"
      },
      "execution_count": null,
      "outputs": []
    },
    {
      "cell_type": "code",
      "source": [
        "from sklearn.svm import SVR\n",
        "from sklearn.model_selection import KFold\n",
        "from sklearn.pipeline import Pipeline\n",
        "from sklearn.metrics import mean_absolute_error\n",
        "import numpy as np\n",
        "\n",
        "# 모델 정의\n",
        "models = {\n",
        "    'SVR (RBF)': SVR(kernel='rbf', C=1.0, epsilon=0.1),\n",
        "    'SVR (Linear)': SVR(kernel='linear', C=1.0, epsilon=0.1),\n",
        "    'SVR (Poly)': SVR(kernel='poly', C=1.0, epsilon=0.1, degree=3)\n",
        "}\n",
        "\n",
        "# 5-Fold 교차 검증 수행\n",
        "kf = KFold(n_splits=5, shuffle=True, random_state=42)\n",
        "results = {}\n",
        "\n",
        "for name, model in models.items():\n",
        "    cv_scores = []\n",
        "    for train_idx, val_idx in kf.split(train):\n",
        "        X_train, y_train, w_train = train.iloc[train_idx][features], train.iloc[train_idx]['성공확률'], train.iloc[train_idx]['weight']\n",
        "        X_val, y_val, w_val = train.iloc[val_idx][features], train.iloc[val_idx]['성공확률'], train.iloc[val_idx]['weight']\n",
        "\n",
        "        # 파이프라인 구성\n",
        "        pipe = Pipeline([\n",
        "            ('prep', preprocessor),\n",
        "            (name, model)\n",
        "        ])\n",
        "\n",
        "        # 모델 학습\n",
        "        pipe.fit(X_train, y_train, **{f'{name}__sample_weight': w_train.values})\n",
        "\n",
        "        # 예측 및 평가\n",
        "        preds = pipe.predict(X_val)\n",
        "        cv_scores.append(weighted_mae(y_val.values, preds, w_val.values))\n",
        "\n",
        "    results[name] = np.mean(cv_scores)\n",
        "\n",
        "# 결과 출력\n",
        "for name, score in results.items():\n",
        "    print(f'{name} Mean CV Weighted MAE: {score:.4f}')\n"
      ],
      "metadata": {
        "id": "PC3XXrVWWGne"
      },
      "execution_count": null,
      "outputs": []
    }
  ]
}