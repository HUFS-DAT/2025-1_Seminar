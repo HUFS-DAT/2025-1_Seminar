{
 "cells": [
  {
   "cell_type": "code",
   "execution_count": 2,
   "id": "6cb21c42-ad3b-4928-ac52-704d4def8b88",
   "metadata": {},
   "outputs": [],
   "source": [
    "import pandas as pd\n",
    "import numpy as np"
   ]
  },
  {
   "cell_type": "markdown",
   "id": "911135d7-bd2e-427e-975f-f89d4cb14586",
   "metadata": {},
   "source": [
    "### Chapter3 : 시리즈로 1차원 배열 다루기"
   ]
  },
  {
   "cell_type": "code",
   "execution_count": 3,
   "id": "3772ae69-40ac-4de0-8325-316b1da5854a",
   "metadata": {},
   "outputs": [
    {
     "data": {
      "text/plain": [
       "1월     -0.8\n",
       "2월     -0.1\n",
       "3월      7.7\n",
       "4월     13.8\n",
       "5월     18.0\n",
       "6월     22.4\n",
       "7월     25.9\n",
       "8월     25.3\n",
       "9월     21.0\n",
       "10월    14.0\n",
       "11월     9.6\n",
       "12월    -1.4\n",
       "dtype: float64"
      ]
     },
     "execution_count": 3,
     "metadata": {},
     "output_type": "execute_result"
    }
   ],
   "source": [
    "# 데이터 입력\n",
    "temp = pd.Series([-0.8, -0.1, 7.7, 13.8, 18.0, 22.4,\n",
    "                  25.9, 25.3, 21.0, 14.0, 9.6, -1.4])\n",
    "temp  # temp의 내용 확인\n",
    "\n",
    "# 월 이름을 레이블 인덱스로 지정하기\n",
    "temp.index  # 인덱스 내용 확인\n",
    "temp.index = ['1월', '2월', '3월', '4월',  # 월 이름을 인덱스로 지정\n",
    "              '5월', '6월', '7월', '8월',\n",
    "              '9월', '10월', '11월', '12월']\n",
    "temp  # temp의 내용 확인"
   ]
  },
  {
   "cell_type": "code",
   "execution_count": 9,
   "id": "b40b79b3-d919-4e53-a24c-08e9b0b675eb",
   "metadata": {},
   "outputs": [
    {
     "data": {
      "text/plain": [
       "7.7"
      ]
     },
     "execution_count": 9,
     "metadata": {},
     "output_type": "execute_result"
    }
   ],
   "source": [
    "# 인덱싱과 슬라이싱\n",
    "temp.iloc[2]  # 인덱스 2의 값"
   ]
  },
  {
   "cell_type": "code",
   "execution_count": 10,
   "id": "ec448aaa-02c4-4509-a6e4-699f387d3b18",
   "metadata": {},
   "outputs": [
    {
     "data": {
      "text/plain": [
       "7.7"
      ]
     },
     "execution_count": 10,
     "metadata": {},
     "output_type": "execute_result"
    }
   ],
   "source": [
    "temp.loc['3월']  # 인덱스 '3월'의 값"
   ]
  },
  {
   "cell_type": "code",
   "execution_count": 11,
   "id": "c882dc5e-d251-43db-a932-f4486fcff775",
   "metadata": {},
   "outputs": [
    {
     "data": {
      "text/plain": [
       "4월    13.8\n",
       "6월    22.4\n",
       "8월    25.3\n",
       "dtype: float64"
      ]
     },
     "execution_count": 11,
     "metadata": {},
     "output_type": "execute_result"
    }
   ],
   "source": [
    "temp.iloc[[3, 5, 7]]  # 인덱스 3, 5, 7의 값"
   ]
  },
  {
   "cell_type": "code",
   "execution_count": 12,
   "id": "33276b85-0336-4623-9934-bbd7d0575296",
   "metadata": {},
   "outputs": [
    {
     "data": {
      "text/plain": [
       "4월    13.8\n",
       "6월    22.4\n",
       "8월    25.3\n",
       "dtype: float64"
      ]
     },
     "execution_count": 12,
     "metadata": {},
     "output_type": "execute_result"
    }
   ],
   "source": [
    "temp.loc[['4월', '6월', '8월']]  # 인덱스 '4월', '6월', '8월'의 값"
   ]
  },
  {
   "cell_type": "code",
   "execution_count": 13,
   "id": "83671af7-af6d-4c8a-8be2-3c7ae6519096",
   "metadata": {},
   "outputs": [
    {
     "data": {
      "text/plain": [
       "6월    22.4\n",
       "7월    25.9\n",
       "8월    25.3\n",
       "dtype: float64"
      ]
     },
     "execution_count": 13,
     "metadata": {},
     "output_type": "execute_result"
    }
   ],
   "source": [
    "temp.iloc[5:8]  # 인덱스 5~7의 값"
   ]
  },
  {
   "cell_type": "code",
   "execution_count": 14,
   "id": "aef81008-3029-45e4-be74-a2b6132beacf",
   "metadata": {},
   "outputs": [
    {
     "data": {
      "text/plain": [
       "6월    22.4\n",
       "7월    25.9\n",
       "8월    25.3\n",
       "9월    21.0\n",
       "dtype: float64"
      ]
     },
     "execution_count": 14,
     "metadata": {},
     "output_type": "execute_result"
    }
   ],
   "source": [
    "temp.loc['6월':'9월']  # 인덱스 '6월'~'9월'의 값"
   ]
  },
  {
   "cell_type": "code",
   "execution_count": 15,
   "id": "3cffb20f-8bce-45b9-86b2-f988a5c59c6d",
   "metadata": {},
   "outputs": [
    {
     "data": {
      "text/plain": [
       "1월    -0.8\n",
       "2월    -0.1\n",
       "3월     7.7\n",
       "4월    13.8\n",
       "dtype: float64"
      ]
     },
     "execution_count": 15,
     "metadata": {},
     "output_type": "execute_result"
    }
   ],
   "source": [
    "temp.iloc[:4]  # 인덱스 0~3의 값"
   ]
  },
  {
   "cell_type": "code",
   "execution_count": 16,
   "id": "b33bb08e-e6b0-477a-9009-90d756c0b81d",
   "metadata": {},
   "outputs": [
    {
     "data": {
      "text/plain": [
       "5월    18.0\n",
       "6월    22.4\n",
       "7월    25.9\n",
       "8월    25.3\n",
       "9월    21.0\n",
       "dtype: float64"
      ]
     },
     "execution_count": 16,
     "metadata": {},
     "output_type": "execute_result"
    }
   ],
   "source": [
    "# 조건문을 이용한 슬라이싱\n",
    "\n",
    "# 월평균 기온이 15도 이상인 월들의 기온을 보이시오\n",
    "temp.loc[temp >= 15]"
   ]
  },
  {
   "cell_type": "code",
   "execution_count": 17,
   "id": "7a89188c-ff9d-4eff-bd9d-4c57ea2bce80",
   "metadata": {},
   "outputs": [
    {
     "data": {
      "text/plain": [
       "5월    18.0\n",
       "6월    22.4\n",
       "9월    21.0\n",
       "dtype: float64"
      ]
     },
     "execution_count": 17,
     "metadata": {},
     "output_type": "execute_result"
    }
   ],
   "source": [
    "# 월평균 기온이 15도 이상 25도 미만인 월들의 기온을 보이시오\n",
    "temp.loc[(temp >= 15) & (temp < 25)]"
   ]
  },
  {
   "cell_type": "code",
   "execution_count": 18,
   "id": "a9055fae-4f8b-4df1-a9a2-36b420f2ce66",
   "metadata": {},
   "outputs": [
    {
     "data": {
      "text/plain": [
       "1월     -0.8\n",
       "2월     -0.1\n",
       "7월     25.9\n",
       "8월     25.3\n",
       "12월    -1.4\n",
       "dtype: float64"
      ]
     },
     "execution_count": 18,
     "metadata": {},
     "output_type": "execute_result"
    }
   ],
   "source": [
    "# 월평균 기온이 5도 미만이거나 25도 이상인 월들의 기온을 보이시오\n",
    "temp.loc[(temp < 5) | (temp >= 25)]"
   ]
  },
  {
   "cell_type": "code",
   "execution_count": 19,
   "id": "072a160a-6de3-4c2c-a92c-235ecec251e5",
   "metadata": {},
   "outputs": [
    {
     "data": {
      "text/plain": [
       "1월    -0.8\n",
       "2월    -0.1\n",
       "12월   -1.4\n",
       "dtype: float64"
      ]
     },
     "execution_count": 19,
     "metadata": {},
     "output_type": "execute_result"
    }
   ],
   "source": [
    "# 3월보다 기온이 낮은 월들의 기온을 보이시오\n",
    "march = temp.loc['3월']\n",
    "temp.loc[temp < march]"
   ]
  },
  {
   "cell_type": "code",
   "execution_count": 20,
   "id": "ca0df995-ef91-4dc6-bdc3-d9a7000b8cb5",
   "metadata": {},
   "outputs": [
    {
     "data": {
      "text/plain": [
       "5월    18.0\n",
       "6월    22.4\n",
       "7월    25.9\n",
       "8월    25.3\n",
       "9월    21.0\n",
       "dtype: float64"
      ]
     },
     "execution_count": 20,
     "metadata": {},
     "output_type": "execute_result"
    }
   ],
   "source": [
    "# where()를 이용한 조건 검색\n",
    "temp.where(temp >= 15)\n",
    "temp.where(temp >= 15).dropna()"
   ]
  },
  {
   "cell_type": "code",
   "execution_count": 21,
   "id": "9450fd61-92fe-4626-b5c4-c4d3a805a4ad",
   "metadata": {},
   "outputs": [
    {
     "data": {
      "text/plain": [
       "Index(['5월', '6월', '7월', '8월', '9월'], dtype='object')"
      ]
     },
     "execution_count": 21,
     "metadata": {},
     "output_type": "execute_result"
    }
   ],
   "source": [
    "# 시리즈 객체에서 값의 위치 찾기\n",
    "\n",
    "# 월평균 기온이 15도 이상인 월들의 이름을 보이시오\n",
    "temp.loc[temp >= 15]  # 조건에 맞는 값 추출\n",
    "temp.loc[temp >= 15].index  # 조건에 맞는 값들의 인덱스 추출"
   ]
  },
  {
   "cell_type": "code",
   "execution_count": 22,
   "id": "2e3f9acb-6cb5-43c8-87a0-d61935244db0",
   "metadata": {},
   "outputs": [
    {
     "data": {
      "text/plain": [
       "5월    19.0\n",
       "6월    23.4\n",
       "7월    26.9\n",
       "8월    26.3\n",
       "9월    22.0\n",
       "dtype: float64"
      ]
     },
     "execution_count": 22,
     "metadata": {},
     "output_type": "execute_result"
    }
   ],
   "source": [
    "# 시리즈 객체에 대한 산술 연산\n",
    "temp + 1\n",
    "2 * temp + 0.1\n",
    "temp + temp\n",
    "temp.loc[temp >= 15] + 1  # 기온이 15도가 넘는 월들에 대해서만 1 증가"
   ]
  },
  {
   "cell_type": "code",
   "execution_count": 23,
   "id": "77a745c8-f834-4a37-bc16-1b54da78a920",
   "metadata": {},
   "outputs": [
    {
     "data": {
      "text/plain": [
       "count    12.000000\n",
       "mean     12.950000\n",
       "std      10.026012\n",
       "min      -1.400000\n",
       "25%       5.750000\n",
       "50%      13.900000\n",
       "75%      21.350000\n",
       "max      25.900000\n",
       "dtype: float64"
      ]
     },
     "execution_count": 23,
     "metadata": {},
     "output_type": "execute_result"
    }
   ],
   "source": [
    "# 통계 관련 메서드\n",
    "temp.sum()  # 값들의 합계\n",
    "temp.mean()  # 값들의 평균\n",
    "temp.median()  # 값들의 중앙값\n",
    "temp.max()  # 값들의 최댓값\n",
    "temp.min()  # 값들의 최솟값\n",
    "temp.std()  # 값들의 표준편차\n",
    "temp.var()  # 값들의 분산\n",
    "temp.abs()  # 값들의 절댓값\n",
    "temp.describe()  # 기초 통계 정보"
   ]
  },
  {
   "cell_type": "code",
   "execution_count": 27,
   "id": "a5472e96-c9d2-46ea-97a4-cc9f619e5420",
   "metadata": {},
   "outputs": [
    {
     "data": {
      "text/plain": [
       "KOR     85\n",
       "ENG     70\n",
       "MATH    80\n",
       "SOC     65\n",
       "dtype: int64"
      ]
     },
     "execution_count": 27,
     "metadata": {},
     "output_type": "execute_result"
    }
   ],
   "source": [
    "salary = pd.Series([20, 15, 18, 30])  # 레이블 인덱스가 없는 시리즈 객체\n",
    "score = pd.Series([75, 80, 90, 60],\n",
    "                  index=['KOR', 'ENG', 'MATH', 'SOC'])\n",
    "salary\n",
    "score\n",
    "\n",
    "# 값의 변경\n",
    "score.iloc[0] = 85  # 인덱스 0의 값을 변경\n",
    "score\n",
    "score.loc['SOC'] = 65  # 인덱스 'SOC'의 값을 변경\n",
    "score\n",
    "score.loc[['ENG', 'MATH']] = [70, 80]  # 인덱스 'ENG', 'MATH'의 값을 변경\n",
    "score"
   ]
  },
  {
   "cell_type": "code",
   "execution_count": 28,
   "id": "c2d70ae0-2f2b-47a0-bd57-01962f54670e",
   "metadata": {},
   "outputs": [
    {
     "ename": "IndexError",
     "evalue": "iloc cannot enlarge its target object",
     "output_type": "error",
     "traceback": [
      "\u001b[1;31m---------------------------------------------------------------------------\u001b[0m",
      "\u001b[1;31mIndexError\u001b[0m                                Traceback (most recent call last)",
      "Cell \u001b[1;32mIn[28], line 4\u001b[0m\n\u001b[0;32m      2\u001b[0m score\u001b[38;5;241m.\u001b[39mloc[\u001b[38;5;124m'\u001b[39m\u001b[38;5;124mPHY\u001b[39m\u001b[38;5;124m'\u001b[39m] \u001b[38;5;241m=\u001b[39m \u001b[38;5;241m50\u001b[39m  \u001b[38;5;66;03m# 없는 인덱스 추가\u001b[39;00m\n\u001b[0;32m      3\u001b[0m score\n\u001b[1;32m----> 4\u001b[0m score\u001b[38;5;241m.\u001b[39miloc[\u001b[38;5;241m5\u001b[39m] \u001b[38;5;241m=\u001b[39m \u001b[38;5;241m90\u001b[39m\n",
      "File \u001b[1;32mC:\\ProgramData\\anaconda3\\Lib\\site-packages\\pandas\\core\\indexing.py:882\u001b[0m, in \u001b[0;36m_LocationIndexer.__setitem__\u001b[1;34m(self, key, value)\u001b[0m\n\u001b[0;32m    880\u001b[0m     key \u001b[38;5;241m=\u001b[39m com\u001b[38;5;241m.\u001b[39mapply_if_callable(key, \u001b[38;5;28mself\u001b[39m\u001b[38;5;241m.\u001b[39mobj)\n\u001b[0;32m    881\u001b[0m indexer \u001b[38;5;241m=\u001b[39m \u001b[38;5;28mself\u001b[39m\u001b[38;5;241m.\u001b[39m_get_setitem_indexer(key)\n\u001b[1;32m--> 882\u001b[0m \u001b[38;5;28mself\u001b[39m\u001b[38;5;241m.\u001b[39m_has_valid_setitem_indexer(key)\n\u001b[0;32m    884\u001b[0m iloc \u001b[38;5;241m=\u001b[39m \u001b[38;5;28mself\u001b[39m \u001b[38;5;28;01mif\u001b[39;00m \u001b[38;5;28mself\u001b[39m\u001b[38;5;241m.\u001b[39mname \u001b[38;5;241m==\u001b[39m \u001b[38;5;124m\"\u001b[39m\u001b[38;5;124miloc\u001b[39m\u001b[38;5;124m\"\u001b[39m \u001b[38;5;28;01melse\u001b[39;00m \u001b[38;5;28mself\u001b[39m\u001b[38;5;241m.\u001b[39mobj\u001b[38;5;241m.\u001b[39miloc\n\u001b[0;32m    885\u001b[0m iloc\u001b[38;5;241m.\u001b[39m_setitem_with_indexer(indexer, value, \u001b[38;5;28mself\u001b[39m\u001b[38;5;241m.\u001b[39mname)\n",
      "File \u001b[1;32mC:\\ProgramData\\anaconda3\\Lib\\site-packages\\pandas\\core\\indexing.py:1608\u001b[0m, in \u001b[0;36m_iLocIndexer._has_valid_setitem_indexer\u001b[1;34m(self, indexer)\u001b[0m\n\u001b[0;32m   1606\u001b[0m \u001b[38;5;28;01melif\u001b[39;00m is_integer(i):\n\u001b[0;32m   1607\u001b[0m     \u001b[38;5;28;01mif\u001b[39;00m i \u001b[38;5;241m>\u001b[39m\u001b[38;5;241m=\u001b[39m \u001b[38;5;28mlen\u001b[39m(ax):\n\u001b[1;32m-> 1608\u001b[0m         \u001b[38;5;28;01mraise\u001b[39;00m \u001b[38;5;167;01mIndexError\u001b[39;00m(\u001b[38;5;124m\"\u001b[39m\u001b[38;5;124miloc cannot enlarge its target object\u001b[39m\u001b[38;5;124m\"\u001b[39m)\n\u001b[0;32m   1609\u001b[0m \u001b[38;5;28;01melif\u001b[39;00m \u001b[38;5;28misinstance\u001b[39m(i, \u001b[38;5;28mdict\u001b[39m):\n\u001b[0;32m   1610\u001b[0m     \u001b[38;5;28;01mraise\u001b[39;00m \u001b[38;5;167;01mIndexError\u001b[39;00m(\u001b[38;5;124m\"\u001b[39m\u001b[38;5;124miloc cannot enlarge its target object\u001b[39m\u001b[38;5;124m\"\u001b[39m)\n",
      "\u001b[1;31mIndexError\u001b[0m: iloc cannot enlarge its target object"
     ]
    }
   ],
   "source": [
    "# 값의 추가 (레이블 인덱스가 있는 경우)\n",
    "score.loc['PHY'] = 50  # 없는 인덱스 추가\n",
    "score\n",
    "score.iloc[5] = 90  # 에러 발생"
   ]
  },
  {
   "cell_type": "code",
   "execution_count": 29,
   "id": "038efbf3-8cdb-4265-a0e4-c6c8efd12c2f",
   "metadata": {},
   "outputs": [
    {
     "ename": "IndexError",
     "evalue": "iloc cannot enlarge its target object",
     "output_type": "error",
     "traceback": [
      "\u001b[1;31m---------------------------------------------------------------------------\u001b[0m",
      "\u001b[1;31mIndexError\u001b[0m                                Traceback (most recent call last)",
      "Cell \u001b[1;32mIn[29], line 3\u001b[0m\n\u001b[0;32m      1\u001b[0m \u001b[38;5;66;03m# 값의 추가 (레이블 인덱스가 없는 경우)\u001b[39;00m\n\u001b[0;32m      2\u001b[0m next_idx \u001b[38;5;241m=\u001b[39m salary\u001b[38;5;241m.\u001b[39msize\n\u001b[1;32m----> 3\u001b[0m salary\u001b[38;5;241m.\u001b[39miloc[next_idx] \u001b[38;5;241m=\u001b[39m \u001b[38;5;241m33\u001b[39m  \u001b[38;5;66;03m# 에러 발생\u001b[39;00m\n\u001b[0;32m      4\u001b[0m salary\u001b[38;5;241m.\u001b[39mloc[next_idx] \u001b[38;5;241m=\u001b[39m \u001b[38;5;241m33\u001b[39m  \u001b[38;5;66;03m# 정상 수행\u001b[39;00m\n\u001b[0;32m      5\u001b[0m salary\n",
      "File \u001b[1;32mC:\\ProgramData\\anaconda3\\Lib\\site-packages\\pandas\\core\\indexing.py:882\u001b[0m, in \u001b[0;36m_LocationIndexer.__setitem__\u001b[1;34m(self, key, value)\u001b[0m\n\u001b[0;32m    880\u001b[0m     key \u001b[38;5;241m=\u001b[39m com\u001b[38;5;241m.\u001b[39mapply_if_callable(key, \u001b[38;5;28mself\u001b[39m\u001b[38;5;241m.\u001b[39mobj)\n\u001b[0;32m    881\u001b[0m indexer \u001b[38;5;241m=\u001b[39m \u001b[38;5;28mself\u001b[39m\u001b[38;5;241m.\u001b[39m_get_setitem_indexer(key)\n\u001b[1;32m--> 882\u001b[0m \u001b[38;5;28mself\u001b[39m\u001b[38;5;241m.\u001b[39m_has_valid_setitem_indexer(key)\n\u001b[0;32m    884\u001b[0m iloc \u001b[38;5;241m=\u001b[39m \u001b[38;5;28mself\u001b[39m \u001b[38;5;28;01mif\u001b[39;00m \u001b[38;5;28mself\u001b[39m\u001b[38;5;241m.\u001b[39mname \u001b[38;5;241m==\u001b[39m \u001b[38;5;124m\"\u001b[39m\u001b[38;5;124miloc\u001b[39m\u001b[38;5;124m\"\u001b[39m \u001b[38;5;28;01melse\u001b[39;00m \u001b[38;5;28mself\u001b[39m\u001b[38;5;241m.\u001b[39mobj\u001b[38;5;241m.\u001b[39miloc\n\u001b[0;32m    885\u001b[0m iloc\u001b[38;5;241m.\u001b[39m_setitem_with_indexer(indexer, value, \u001b[38;5;28mself\u001b[39m\u001b[38;5;241m.\u001b[39mname)\n",
      "File \u001b[1;32mC:\\ProgramData\\anaconda3\\Lib\\site-packages\\pandas\\core\\indexing.py:1608\u001b[0m, in \u001b[0;36m_iLocIndexer._has_valid_setitem_indexer\u001b[1;34m(self, indexer)\u001b[0m\n\u001b[0;32m   1606\u001b[0m \u001b[38;5;28;01melif\u001b[39;00m is_integer(i):\n\u001b[0;32m   1607\u001b[0m     \u001b[38;5;28;01mif\u001b[39;00m i \u001b[38;5;241m>\u001b[39m\u001b[38;5;241m=\u001b[39m \u001b[38;5;28mlen\u001b[39m(ax):\n\u001b[1;32m-> 1608\u001b[0m         \u001b[38;5;28;01mraise\u001b[39;00m \u001b[38;5;167;01mIndexError\u001b[39;00m(\u001b[38;5;124m\"\u001b[39m\u001b[38;5;124miloc cannot enlarge its target object\u001b[39m\u001b[38;5;124m\"\u001b[39m)\n\u001b[0;32m   1609\u001b[0m \u001b[38;5;28;01melif\u001b[39;00m \u001b[38;5;28misinstance\u001b[39m(i, \u001b[38;5;28mdict\u001b[39m):\n\u001b[0;32m   1610\u001b[0m     \u001b[38;5;28;01mraise\u001b[39;00m \u001b[38;5;167;01mIndexError\u001b[39;00m(\u001b[38;5;124m\"\u001b[39m\u001b[38;5;124miloc cannot enlarge its target object\u001b[39m\u001b[38;5;124m\"\u001b[39m)\n",
      "\u001b[1;31mIndexError\u001b[0m: iloc cannot enlarge its target object"
     ]
    }
   ],
   "source": [
    "# 값의 추가 (레이블 인덱스가 없는 경우)\n",
    "next_idx = salary.size\n",
    "salary.iloc[next_idx] = 33  # 에러 발생"
   ]
  },
  {
   "cell_type": "code",
   "execution_count": 30,
   "id": "4d2eda99-b8cf-453f-a02d-f17a5403f876",
   "metadata": {},
   "outputs": [
    {
     "data": {
      "text/plain": [
       "0    20\n",
       "1    15\n",
       "2    18\n",
       "3    30\n",
       "4    33\n",
       "dtype: int64"
      ]
     },
     "execution_count": 30,
     "metadata": {},
     "output_type": "execute_result"
    }
   ],
   "source": [
    "salary.loc[next_idx] = 33  # 정상 수행\n",
    "salary"
   ]
  },
  {
   "cell_type": "code",
   "execution_count": 31,
   "id": "7ca8da26-1cd1-485d-82fd-ab1612780475",
   "metadata": {},
   "outputs": [
    {
     "data": {
      "text/plain": [
       "KOR     85\n",
       "ENG     70\n",
       "MATH    80\n",
       "SOC     65\n",
       "PHY     50\n",
       "dtype: int64"
      ]
     },
     "execution_count": 31,
     "metadata": {},
     "output_type": "execute_result"
    }
   ],
   "source": [
    "# _append() 메서드를 이용한 값의 추가\n",
    "new = pd.Series({'MUS': 95})\n",
    "score._append(new)  # score에 변경 없음\n",
    "score"
   ]
  },
  {
   "cell_type": "code",
   "execution_count": 32,
   "id": "76980a83-5f64-4a13-8ba6-3cb0be89e9cf",
   "metadata": {},
   "outputs": [
    {
     "data": {
      "text/plain": [
       "KOR     85\n",
       "ENG     70\n",
       "MATH    80\n",
       "SOC     65\n",
       "PHY     50\n",
       "MUS     95\n",
       "dtype: int64"
      ]
     },
     "execution_count": 32,
     "metadata": {},
     "output_type": "execute_result"
    }
   ],
   "source": [
    "score = score._append(new)  # score가 변경됨\n",
    "score"
   ]
  },
  {
   "cell_type": "code",
   "execution_count": 33,
   "id": "65ae417d-5792-4e88-b148-7714048c0844",
   "metadata": {},
   "outputs": [
    {
     "data": {
      "text/plain": [
       "0    20\n",
       "1    15\n",
       "2    18\n",
       "3    30\n",
       "4    33\n",
       "5    66\n",
       "dtype: int64"
      ]
     },
     "execution_count": 33,
     "metadata": {},
     "output_type": "execute_result"
    }
   ],
   "source": [
    "salary._append(pd.Series([66]), ignore_index=True)\n",
    "salary = salary._append(pd.Series([66]), ignore_index=True)\n",
    "salary"
   ]
  },
  {
   "cell_type": "code",
   "execution_count": 34,
   "id": "b04a2cb3-135c-4c27-902d-5397bbe8176c",
   "metadata": {},
   "outputs": [
    {
     "data": {
      "text/plain": [
       "KOR     85\n",
       "ENG     70\n",
       "MATH    80\n",
       "SOC     65\n",
       "MUS     95\n",
       "dtype: int64"
      ]
     },
     "execution_count": 34,
     "metadata": {},
     "output_type": "execute_result"
    }
   ],
   "source": [
    "score.drop('PHY')  # 레이블 인덱스가 있는 경우\n",
    "score\n",
    "score = score.drop('PHY')\n",
    "score"
   ]
  },
  {
   "cell_type": "code",
   "execution_count": 35,
   "id": "eae407b7-35bf-4256-b247-b2e928c0e39c",
   "metadata": {},
   "outputs": [
    {
     "data": {
      "text/plain": [
       "0    20\n",
       "2    18\n",
       "3    30\n",
       "4    33\n",
       "5    66\n",
       "dtype: int64"
      ]
     },
     "execution_count": 35,
     "metadata": {},
     "output_type": "execute_result"
    }
   ],
   "source": [
    "salary = salary.drop(1)  # 레이블 인덱스가 숫자인 경우\n",
    "salary"
   ]
  },
  {
   "cell_type": "code",
   "execution_count": 37,
   "id": "e832215c-8781-4640-b767-0f1761cbcb14",
   "metadata": {},
   "outputs": [],
   "source": [
    "score_1 = pd.Series([80, 75, 90],\n",
    "                    index=['KOR', 'ENG', 'MATH'])\n",
    "\n",
    "score_2 = score_1  # score_1과 score_2는 동일한 객체\n",
    "score_2.loc['KOR'] = 95"
   ]
  },
  {
   "cell_type": "code",
   "execution_count": 38,
   "id": "bec9f5be-530c-47ff-9b56-bd25f301fab9",
   "metadata": {},
   "outputs": [
    {
     "data": {
      "text/plain": [
       "KOR     95\n",
       "ENG     75\n",
       "MATH    90\n",
       "dtype: int64"
      ]
     },
     "execution_count": 38,
     "metadata": {},
     "output_type": "execute_result"
    }
   ],
   "source": [
    "score_2"
   ]
  },
  {
   "cell_type": "code",
   "execution_count": 39,
   "id": "51195bd8-b950-4d95-8a54-2f2c66e11bec",
   "metadata": {},
   "outputs": [
    {
     "data": {
      "text/plain": [
       "KOR     95\n",
       "ENG     75\n",
       "MATH    90\n",
       "dtype: int64"
      ]
     },
     "execution_count": 39,
     "metadata": {},
     "output_type": "execute_result"
    }
   ],
   "source": [
    "score_1"
   ]
  },
  {
   "cell_type": "markdown",
   "id": "fa6000ee-daed-4727-a694-05e12c7d98f4",
   "metadata": {},
   "source": [
    "### Chapter4 : 데이터프레임으로 2차원 배열 다루기"
   ]
  },
  {
   "cell_type": "code",
   "execution_count": 54,
   "id": "47e5b269-717f-4991-b0b8-5baa255e1f3b",
   "metadata": {},
   "outputs": [],
   "source": [
    "df = pd.read_csv(\"./iris.csv\")"
   ]
  },
  {
   "cell_type": "code",
   "execution_count": 55,
   "id": "e66aee63-dc09-4f31-a8bd-3596ec1b6161",
   "metadata": {},
   "outputs": [
    {
     "data": {
      "text/html": [
       "<div>\n",
       "<style scoped>\n",
       "    .dataframe tbody tr th:only-of-type {\n",
       "        vertical-align: middle;\n",
       "    }\n",
       "\n",
       "    .dataframe tbody tr th {\n",
       "        vertical-align: top;\n",
       "    }\n",
       "\n",
       "    .dataframe thead th {\n",
       "        text-align: right;\n",
       "    }\n",
       "</style>\n",
       "<table border=\"1\" class=\"dataframe\">\n",
       "  <thead>\n",
       "    <tr style=\"text-align: right;\">\n",
       "      <th></th>\n",
       "      <th>Sepal_Length</th>\n",
       "      <th>Sepal_Width</th>\n",
       "      <th>Petal_Length</th>\n",
       "      <th>Petal_Width</th>\n",
       "      <th>Species</th>\n",
       "    </tr>\n",
       "  </thead>\n",
       "  <tbody>\n",
       "    <tr>\n",
       "      <th>0</th>\n",
       "      <td>5.1</td>\n",
       "      <td>3.5</td>\n",
       "      <td>1.4</td>\n",
       "      <td>0.2</td>\n",
       "      <td>setosa</td>\n",
       "    </tr>\n",
       "    <tr>\n",
       "      <th>1</th>\n",
       "      <td>4.9</td>\n",
       "      <td>3.0</td>\n",
       "      <td>1.4</td>\n",
       "      <td>0.2</td>\n",
       "      <td>setosa</td>\n",
       "    </tr>\n",
       "    <tr>\n",
       "      <th>2</th>\n",
       "      <td>4.7</td>\n",
       "      <td>3.2</td>\n",
       "      <td>1.3</td>\n",
       "      <td>0.2</td>\n",
       "      <td>setosa</td>\n",
       "    </tr>\n",
       "    <tr>\n",
       "      <th>3</th>\n",
       "      <td>4.6</td>\n",
       "      <td>3.1</td>\n",
       "      <td>1.5</td>\n",
       "      <td>0.2</td>\n",
       "      <td>setosa</td>\n",
       "    </tr>\n",
       "    <tr>\n",
       "      <th>4</th>\n",
       "      <td>5.0</td>\n",
       "      <td>3.6</td>\n",
       "      <td>1.4</td>\n",
       "      <td>0.2</td>\n",
       "      <td>setosa</td>\n",
       "    </tr>\n",
       "  </tbody>\n",
       "</table>\n",
       "</div>"
      ],
      "text/plain": [
       "   Sepal_Length  Sepal_Width  Petal_Length  Petal_Width Species\n",
       "0           5.1          3.5           1.4          0.2  setosa\n",
       "1           4.9          3.0           1.4          0.2  setosa\n",
       "2           4.7          3.2           1.3          0.2  setosa\n",
       "3           4.6          3.1           1.5          0.2  setosa\n",
       "4           5.0          3.6           1.4          0.2  setosa"
      ]
     },
     "execution_count": 55,
     "metadata": {},
     "output_type": "execute_result"
    }
   ],
   "source": [
    "df.head()"
   ]
  },
  {
   "cell_type": "code",
   "execution_count": 56,
   "id": "55581681-c18a-4d6f-8248-da08f3329245",
   "metadata": {},
   "outputs": [
    {
     "name": "stdout",
     "output_type": "stream",
     "text": [
      "<class 'pandas.core.frame.DataFrame'>\n",
      "RangeIndex: 150 entries, 0 to 149\n",
      "Data columns (total 5 columns):\n",
      " #   Column        Non-Null Count  Dtype  \n",
      "---  ------        --------------  -----  \n",
      " 0   Sepal_Length  150 non-null    float64\n",
      " 1   Sepal_Width   150 non-null    float64\n",
      " 2   Petal_Length  150 non-null    float64\n",
      " 3   Petal_Width   150 non-null    float64\n",
      " 4   Species       150 non-null    object \n",
      "dtypes: float64(4), object(1)\n",
      "memory usage: 6.0+ KB\n"
     ]
    },
    {
     "data": {
      "text/plain": [
       "5"
      ]
     },
     "execution_count": 56,
     "metadata": {},
     "output_type": "execute_result"
    }
   ],
   "source": [
    "# 데이터프레임 객체의 정보 확인\n",
    "df.info()  # 배열의 정보\n",
    "df.shape  # 배열의 형태\n",
    "df.shape[0]  # 행의 개수\n",
    "df.shape[1]  # 컬럼의 개수"
   ]
  },
  {
   "cell_type": "code",
   "execution_count": 57,
   "id": "ee9c0c02-8de6-4378-9dfa-2396992c2e30",
   "metadata": {},
   "outputs": [
    {
     "name": "stdout",
     "output_type": "stream",
     "text": [
      "<class 'pandas.core.frame.DataFrame'>\n",
      "RangeIndex: 150 entries, 0 to 149\n",
      "Data columns (total 5 columns):\n",
      " #   Column        Non-Null Count  Dtype  \n",
      "---  ------        --------------  -----  \n",
      " 0   Sepal_Length  150 non-null    float64\n",
      " 1   Sepal_Width   150 non-null    float64\n",
      " 2   Petal_Length  150 non-null    float64\n",
      " 3   Petal_Width   150 non-null    float64\n",
      " 4   Species       150 non-null    object \n",
      "dtypes: float64(4), object(1)\n",
      "memory usage: 6.0+ KB\n"
     ]
    },
    {
     "data": {
      "text/plain": [
       "['setosa', 'versicolor', 'virginica']\n",
       "Categories (3, object): ['setosa', 'versicolor', 'virginica']"
      ]
     },
     "execution_count": 57,
     "metadata": {},
     "output_type": "execute_result"
    }
   ],
   "source": [
    "# 데이터프레임 객체의 정보 확인\n",
    "df.info()  # 배열의 정보\n",
    "df.shape  # 배열의 형태\n",
    "df.shape[0]  # 행의 개수\n",
    "df.shape[1]  # 컬럼의 개수\n",
    "\n",
    "df.dtypes  # 각 컬럼의 자료형\n",
    "df['Species'] = df['Species'].astype('category')\n",
    "df.dtypes\n",
    "\n",
    "df.columns  # 컬럼들의 이름 보기\n",
    "\n",
    "df.head()  # 데이터 앞부분 일부 보기\n",
    "df.tail()  # 데이터 뒷부분 일부 보기\n",
    "\n",
    "df['Species'].unique()  # 품종 정보 확인"
   ]
  },
  {
   "cell_type": "code",
   "execution_count": 58,
   "id": "de7f30b7-65ea-4353-bbd0-9ee32a1973a2",
   "metadata": {},
   "outputs": [
    {
     "data": {
      "text/html": [
       "<div>\n",
       "<style scoped>\n",
       "    .dataframe tbody tr th:only-of-type {\n",
       "        vertical-align: middle;\n",
       "    }\n",
       "\n",
       "    .dataframe tbody tr th {\n",
       "        vertical-align: top;\n",
       "    }\n",
       "\n",
       "    .dataframe thead th {\n",
       "        text-align: right;\n",
       "    }\n",
       "</style>\n",
       "<table border=\"1\" class=\"dataframe\">\n",
       "  <thead>\n",
       "    <tr style=\"text-align: right;\">\n",
       "      <th></th>\n",
       "      <th>Sepal_Length</th>\n",
       "      <th>Sepal_Width</th>\n",
       "      <th>Petal_Length</th>\n",
       "      <th>Petal_Width</th>\n",
       "      <th>Species</th>\n",
       "    </tr>\n",
       "  </thead>\n",
       "  <tbody>\n",
       "    <tr>\n",
       "      <th>0</th>\n",
       "      <td>5.1</td>\n",
       "      <td>3.5</td>\n",
       "      <td>1.4</td>\n",
       "      <td>0.2</td>\n",
       "      <td>setosa</td>\n",
       "    </tr>\n",
       "    <tr>\n",
       "      <th>1</th>\n",
       "      <td>4.9</td>\n",
       "      <td>3.0</td>\n",
       "      <td>1.4</td>\n",
       "      <td>0.2</td>\n",
       "      <td>setosa</td>\n",
       "    </tr>\n",
       "    <tr>\n",
       "      <th>2</th>\n",
       "      <td>4.7</td>\n",
       "      <td>3.2</td>\n",
       "      <td>1.3</td>\n",
       "      <td>0.2</td>\n",
       "      <td>setosa</td>\n",
       "    </tr>\n",
       "    <tr>\n",
       "      <th>3</th>\n",
       "      <td>4.6</td>\n",
       "      <td>3.1</td>\n",
       "      <td>1.5</td>\n",
       "      <td>0.2</td>\n",
       "      <td>setosa</td>\n",
       "    </tr>\n",
       "    <tr>\n",
       "      <th>4</th>\n",
       "      <td>5.0</td>\n",
       "      <td>3.6</td>\n",
       "      <td>1.4</td>\n",
       "      <td>0.2</td>\n",
       "      <td>setosa</td>\n",
       "    </tr>\n",
       "  </tbody>\n",
       "</table>\n",
       "</div>"
      ],
      "text/plain": [
       "   Sepal_Length  Sepal_Width  Petal_Length  Petal_Width Species\n",
       "0           5.1          3.5           1.4          0.2  setosa\n",
       "1           4.9          3.0           1.4          0.2  setosa\n",
       "2           4.7          3.2           1.3          0.2  setosa\n",
       "3           4.6          3.1           1.5          0.2  setosa\n",
       "4           5.0          3.6           1.4          0.2  setosa"
      ]
     },
     "execution_count": 58,
     "metadata": {},
     "output_type": "execute_result"
    }
   ],
   "source": [
    "# 인덱싱과 슬라이싱\n",
    "df.iloc[2, 3]  # 2행 3열의 값\n",
    "df.loc[3, 'Petal_Width']  # 'Petal_Width' 컬럼의 3행 값\n",
    "df.loc[[0, 2, 4], ['Petal_Length', 'Petal_Width']]\n",
    "\n",
    "df.loc[5:8, 'Petal_Length']  # 'Petal_Length' 컬럼의 5~8행 값\n",
    "df.iloc[:5, :4]  # 0~4행, 0~3열의 값\n",
    "\n",
    "df.loc[:, 'Petal_Length']  # 'Petal_Length' 컬럼의 모든 행의 값\n",
    "df['Petal_Length']  # 'Petal_Length' 컬럼의 모든 값\n",
    "df.Petal_Length  # 'Petal_Length' 컬럼의 모든 값\n",
    "\n",
    "df.iloc[:5, :]  # 0~4행의 모든 컬럼의 값\n",
    "df.iloc[:5]  # 0~4행의 모든 컬럼의 값"
   ]
  },
  {
   "cell_type": "code",
   "execution_count": 59,
   "id": "867fd0f0-4142-443b-b423-9530d4038560",
   "metadata": {},
   "outputs": [
    {
     "data": {
      "text/html": [
       "<div>\n",
       "<style scoped>\n",
       "    .dataframe tbody tr th:only-of-type {\n",
       "        vertical-align: middle;\n",
       "    }\n",
       "\n",
       "    .dataframe tbody tr th {\n",
       "        vertical-align: top;\n",
       "    }\n",
       "\n",
       "    .dataframe thead th {\n",
       "        text-align: right;\n",
       "    }\n",
       "</style>\n",
       "<table border=\"1\" class=\"dataframe\">\n",
       "  <thead>\n",
       "    <tr style=\"text-align: right;\">\n",
       "      <th></th>\n",
       "      <th>Sepal_Length</th>\n",
       "      <th>Sepal_Width</th>\n",
       "      <th>Petal_Length</th>\n",
       "      <th>Petal_Width</th>\n",
       "      <th>Species</th>\n",
       "    </tr>\n",
       "  </thead>\n",
       "  <tbody>\n",
       "    <tr>\n",
       "      <th>105</th>\n",
       "      <td>7.6</td>\n",
       "      <td>3.0</td>\n",
       "      <td>6.6</td>\n",
       "      <td>2.1</td>\n",
       "      <td>virginica</td>\n",
       "    </tr>\n",
       "    <tr>\n",
       "      <th>117</th>\n",
       "      <td>7.7</td>\n",
       "      <td>3.8</td>\n",
       "      <td>6.7</td>\n",
       "      <td>2.2</td>\n",
       "      <td>virginica</td>\n",
       "    </tr>\n",
       "    <tr>\n",
       "      <th>118</th>\n",
       "      <td>7.7</td>\n",
       "      <td>2.6</td>\n",
       "      <td>6.9</td>\n",
       "      <td>2.3</td>\n",
       "      <td>virginica</td>\n",
       "    </tr>\n",
       "    <tr>\n",
       "      <th>122</th>\n",
       "      <td>7.7</td>\n",
       "      <td>2.8</td>\n",
       "      <td>6.7</td>\n",
       "      <td>2.0</td>\n",
       "      <td>virginica</td>\n",
       "    </tr>\n",
       "  </tbody>\n",
       "</table>\n",
       "</div>"
      ],
      "text/plain": [
       "     Sepal_Length  Sepal_Width  Petal_Length  Petal_Width    Species\n",
       "105           7.6          3.0           6.6          2.1  virginica\n",
       "117           7.7          3.8           6.7          2.2  virginica\n",
       "118           7.7          2.6           6.9          2.3  virginica\n",
       "122           7.7          2.8           6.7          2.0  virginica"
      ]
     },
     "execution_count": 59,
     "metadata": {},
     "output_type": "execute_result"
    }
   ],
   "source": [
    "# 조건문을 이용한 슬라이싱\n",
    "\n",
    "# 꽃잎의 길이가 6.5 이상인 행들의 모든 컬럼을 보이시오\n",
    "df.loc[df.Petal_Length >= 6.5, :]\n",
    "df.loc[df.Petal_Length >= 6.5]  # 모든 컬럼의 경우 컬럼 인덱스 생략\n",
    "\n",
    "# 꽃잎의 길이가 6.5 이상인 행들의 인덱스 번호를 보이시오\n",
    "df.loc[df.Petal_Length >= 6.5].index\n",
    "\n",
    "# 꽃잎의 길이가 3.5~3.8 사이인 행들의 모든 컬럼을 보이시오\n",
    "df.loc[(df.Petal_Length >= 3.5) &\n",
    "       (df.Petal_Length <= 3.8)]\n",
    "\n",
    "# 꽃잎의 길이가 1.3 미만이거나 6.5를 초과하는 행들의 꽃잎의 길이와 폭을 보이시오\n",
    "df.loc[(df.Petal_Length < 1.3) |\n",
    "       (df.Petal_Length > 6.5), ['Petal_Length', 'Petal_Width']]\n",
    "\n",
    "# where()를 이용한 조건 검색\n",
    "df.where(df.Petal_Length >= 6.5).dropna()"
   ]
  },
  {
   "cell_type": "code",
   "execution_count": 60,
   "id": "79b3eb7f-358a-4bce-a5df-689f8649a08e",
   "metadata": {},
   "outputs": [
    {
     "data": {
      "text/plain": [
       "0      1.4\n",
       "1      1.4\n",
       "2      1.3\n",
       "3      1.5\n",
       "4      1.4\n",
       "      ... \n",
       "145   -5.2\n",
       "146   -5.0\n",
       "147   -5.2\n",
       "148   -5.4\n",
       "149   -5.1\n",
       "Name: Petal_Length, Length: 150, dtype: float64"
      ]
     },
     "execution_count": 60,
     "metadata": {},
     "output_type": "execute_result"
    }
   ],
   "source": [
    "# 데이터프레임 객체에 대한 산술 연산\n",
    "df.loc[:, df.columns != 'Species'] # 'Species' 컬럼 제외\n",
    "df.loc[:, ~df.columns.isin(['Species'])] # 'Species' 컬럼 제외\n",
    "\n",
    "df.loc[:, df.columns != 'Species'] + 10 # 모든 값에 10을 더함\n",
    "\n",
    "df['Sepal_Length'] + df['Petal_Length'] # 두 컬럼의 같은 행 값들끼리 연산\n",
    "# 꽃잎의 길이가 5 이상인 경우에는 꽃잎의 길이에 –1을 곱하시오\n",
    "# (5 미만인 경우에는 원래 값 유지)\n",
    "tmp = df['Petal_Length'].apply(lambda x: -1 if x >= 5 else 1)\n",
    "tmp\n",
    "df['Petal_Length'] * tmp"
   ]
  },
  {
   "cell_type": "code",
   "execution_count": 61,
   "id": "fc274f8c-95d8-4b86-8ed5-ea409096a39b",
   "metadata": {},
   "outputs": [
    {
     "data": {
      "text/html": [
       "<div>\n",
       "<style scoped>\n",
       "    .dataframe tbody tr th:only-of-type {\n",
       "        vertical-align: middle;\n",
       "    }\n",
       "\n",
       "    .dataframe tbody tr th {\n",
       "        vertical-align: top;\n",
       "    }\n",
       "\n",
       "    .dataframe thead th {\n",
       "        text-align: right;\n",
       "    }\n",
       "</style>\n",
       "<table border=\"1\" class=\"dataframe\">\n",
       "  <thead>\n",
       "    <tr style=\"text-align: right;\">\n",
       "      <th></th>\n",
       "      <th>Sepal_Length</th>\n",
       "      <th>Sepal_Width</th>\n",
       "      <th>Petal_Length</th>\n",
       "      <th>Petal_Width</th>\n",
       "    </tr>\n",
       "  </thead>\n",
       "  <tbody>\n",
       "    <tr>\n",
       "      <th>count</th>\n",
       "      <td>150.000000</td>\n",
       "      <td>150.000000</td>\n",
       "      <td>150.000000</td>\n",
       "      <td>150.000000</td>\n",
       "    </tr>\n",
       "    <tr>\n",
       "      <th>mean</th>\n",
       "      <td>5.843333</td>\n",
       "      <td>3.057333</td>\n",
       "      <td>3.758000</td>\n",
       "      <td>1.199333</td>\n",
       "    </tr>\n",
       "    <tr>\n",
       "      <th>std</th>\n",
       "      <td>0.828066</td>\n",
       "      <td>0.435866</td>\n",
       "      <td>1.765298</td>\n",
       "      <td>0.762238</td>\n",
       "    </tr>\n",
       "    <tr>\n",
       "      <th>min</th>\n",
       "      <td>4.300000</td>\n",
       "      <td>2.000000</td>\n",
       "      <td>1.000000</td>\n",
       "      <td>0.100000</td>\n",
       "    </tr>\n",
       "    <tr>\n",
       "      <th>25%</th>\n",
       "      <td>5.100000</td>\n",
       "      <td>2.800000</td>\n",
       "      <td>1.600000</td>\n",
       "      <td>0.300000</td>\n",
       "    </tr>\n",
       "    <tr>\n",
       "      <th>50%</th>\n",
       "      <td>5.800000</td>\n",
       "      <td>3.000000</td>\n",
       "      <td>4.350000</td>\n",
       "      <td>1.300000</td>\n",
       "    </tr>\n",
       "    <tr>\n",
       "      <th>75%</th>\n",
       "      <td>6.400000</td>\n",
       "      <td>3.300000</td>\n",
       "      <td>5.100000</td>\n",
       "      <td>1.800000</td>\n",
       "    </tr>\n",
       "    <tr>\n",
       "      <th>max</th>\n",
       "      <td>7.900000</td>\n",
       "      <td>4.400000</td>\n",
       "      <td>6.900000</td>\n",
       "      <td>2.500000</td>\n",
       "    </tr>\n",
       "  </tbody>\n",
       "</table>\n",
       "</div>"
      ],
      "text/plain": [
       "       Sepal_Length  Sepal_Width  Petal_Length  Petal_Width\n",
       "count    150.000000   150.000000    150.000000   150.000000\n",
       "mean       5.843333     3.057333      3.758000     1.199333\n",
       "std        0.828066     0.435866      1.765298     0.762238\n",
       "min        4.300000     2.000000      1.000000     0.100000\n",
       "25%        5.100000     2.800000      1.600000     0.300000\n",
       "50%        5.800000     3.000000      4.350000     1.300000\n",
       "75%        6.400000     3.300000      5.100000     1.800000\n",
       "max        7.900000     4.400000      6.900000     2.500000"
      ]
     },
     "execution_count": 61,
     "metadata": {},
     "output_type": "execute_result"
    }
   ],
   "source": [
    "# 데이터프레임의 통계 관련 메서드\n",
    "df2 = df.loc[:, df.columns != 'Species']  # 숫자형 컬럼만 추출\n",
    "df2.sum()  # 값들의 합계\n",
    "df2.mean()  # 값들의 평균\n",
    "df2.median()  # 값들의 중앙값\n",
    "df2.max()  # 값들의 최댓값\n",
    "df2.min()  # 값들의 최솟값\n",
    "df2.std()  # 값들의 표준편차\n",
    "df2.var()  # 값들의 분산\n",
    "df2.abs()  # 값들의 절댓값\n",
    "df2.describe()  # 기초 통계 정보"
   ]
  },
  {
   "cell_type": "code",
   "execution_count": 62,
   "id": "f3c02a9f-1eb2-46fa-9584-aeae2505373a",
   "metadata": {},
   "outputs": [
    {
     "data": {
      "text/plain": [
       "[1.4,\n",
       " 1.1,\n",
       " 1.3,\n",
       " 1.5,\n",
       " 1.4,\n",
       " 1.7,\n",
       " 1.4,\n",
       " 1.5,\n",
       " 1.4,\n",
       " 1.5,\n",
       " 1.5,\n",
       " 1.6,\n",
       " 1.4,\n",
       " 1.1,\n",
       " 1.2,\n",
       " 1.5,\n",
       " 1.3,\n",
       " 1.4,\n",
       " 1.7,\n",
       " 1.5,\n",
       " 1.7,\n",
       " 1.5,\n",
       " 1.0,\n",
       " 1.7,\n",
       " 1.9,\n",
       " 1.6,\n",
       " 1.6,\n",
       " 1.5,\n",
       " 1.4,\n",
       " 1.6,\n",
       " 1.6,\n",
       " 1.5,\n",
       " 1.5,\n",
       " 1.4,\n",
       " 1.5,\n",
       " 1.2,\n",
       " 1.3,\n",
       " 1.4,\n",
       " 1.3,\n",
       " 1.5,\n",
       " 1.3,\n",
       " 1.3,\n",
       " 1.3,\n",
       " 1.6,\n",
       " 1.9,\n",
       " 1.4,\n",
       " 1.6,\n",
       " 1.4,\n",
       " 1.5,\n",
       " 1.4,\n",
       " 4.7,\n",
       " 4.5,\n",
       " 4.9,\n",
       " 4.0,\n",
       " 4.6,\n",
       " 4.5,\n",
       " 4.7,\n",
       " 3.3,\n",
       " 4.6,\n",
       " 3.9,\n",
       " 3.5,\n",
       " 4.2,\n",
       " 4.0,\n",
       " 4.7,\n",
       " 3.6,\n",
       " 4.4,\n",
       " 4.5,\n",
       " 4.1,\n",
       " 4.5,\n",
       " 3.9,\n",
       " 4.8,\n",
       " 4.0,\n",
       " 4.9,\n",
       " 4.7,\n",
       " 4.3,\n",
       " 4.4,\n",
       " 4.8,\n",
       " 5.0,\n",
       " 4.5,\n",
       " 3.5,\n",
       " 3.8,\n",
       " 3.7,\n",
       " 3.9,\n",
       " 5.1,\n",
       " 4.5,\n",
       " 4.5,\n",
       " 4.7,\n",
       " 4.4,\n",
       " 4.1,\n",
       " 4.0,\n",
       " 4.4,\n",
       " 4.6,\n",
       " 4.0,\n",
       " 3.3,\n",
       " 4.2,\n",
       " 4.2,\n",
       " 4.2,\n",
       " 4.3,\n",
       " 3.0,\n",
       " 4.1,\n",
       " 6.0,\n",
       " 5.1,\n",
       " 5.9,\n",
       " 5.6,\n",
       " 5.8,\n",
       " 660.0,\n",
       " 4.5,\n",
       " 6.3,\n",
       " 5.8,\n",
       " 6.1,\n",
       " 5.1,\n",
       " 5.3,\n",
       " 5.5,\n",
       " 5.0,\n",
       " 5.1,\n",
       " 5.3,\n",
       " 5.5,\n",
       " 670.0,\n",
       " 690.0,\n",
       " 5.0,\n",
       " 5.7,\n",
       " 4.9,\n",
       " 670.0,\n",
       " 4.9,\n",
       " 5.7,\n",
       " 6.0,\n",
       " 4.8,\n",
       " 4.9,\n",
       " 5.6,\n",
       " 5.8,\n",
       " 6.1,\n",
       " 6.4,\n",
       " 5.6,\n",
       " 5.1,\n",
       " 5.6,\n",
       " 6.1,\n",
       " 5.6,\n",
       " 5.5,\n",
       " 4.8,\n",
       " 5.4,\n",
       " 5.6,\n",
       " 5.1,\n",
       " 5.1,\n",
       " 5.9,\n",
       " 5.7,\n",
       " 5.2,\n",
       " 5.0,\n",
       " 5.2,\n",
       " 5.4,\n",
       " 5.1]"
      ]
     },
     "execution_count": 62,
     "metadata": {},
     "output_type": "execute_result"
    }
   ],
   "source": [
    "# 데이터프레임 객체에 있는 값의 수정\n",
    "df3 = df.copy()  # df를 df3로 복사\n",
    "df3.iloc[1, 2] = 5.5  # 1행 2열의 값 수정\n",
    "\n",
    "df3.loc[1, 'Petal_Length'] = 1.1\n",
    "\n",
    "df3.Petal_Length.to_list()  # 시리즈를 리스트 형태로 출력\n",
    "df3.loc[df.Petal_Length > 6.5, 'Petal_Length'] *= 100\n",
    "df3.Petal_Length.to_list()  # 시리즈를 리스트 형태로 출력"
   ]
  },
  {
   "cell_type": "code",
   "execution_count": 63,
   "id": "7f11a68d-072a-4960-8b65-a858dd90a8b3",
   "metadata": {},
   "outputs": [
    {
     "data": {
      "text/html": [
       "<div>\n",
       "<style scoped>\n",
       "    .dataframe tbody tr th:only-of-type {\n",
       "        vertical-align: middle;\n",
       "    }\n",
       "\n",
       "    .dataframe tbody tr th {\n",
       "        vertical-align: top;\n",
       "    }\n",
       "\n",
       "    .dataframe thead th {\n",
       "        text-align: right;\n",
       "    }\n",
       "</style>\n",
       "<table border=\"1\" class=\"dataframe\">\n",
       "  <thead>\n",
       "    <tr style=\"text-align: right;\">\n",
       "      <th></th>\n",
       "      <th>Sepal_Length</th>\n",
       "      <th>Sepal_Width</th>\n",
       "      <th>new_col2</th>\n",
       "      <th>Petal_Length</th>\n",
       "      <th>Petal_Width</th>\n",
       "      <th>Species</th>\n",
       "    </tr>\n",
       "  </thead>\n",
       "  <tbody>\n",
       "    <tr>\n",
       "      <th>0</th>\n",
       "      <td>5.1</td>\n",
       "      <td>3.5</td>\n",
       "      <td>14.0</td>\n",
       "      <td>1.4</td>\n",
       "      <td>0.2</td>\n",
       "      <td>setosa</td>\n",
       "    </tr>\n",
       "    <tr>\n",
       "      <th>1</th>\n",
       "      <td>4.9</td>\n",
       "      <td>3.0</td>\n",
       "      <td>11.0</td>\n",
       "      <td>1.4</td>\n",
       "      <td>0.2</td>\n",
       "      <td>setosa</td>\n",
       "    </tr>\n",
       "    <tr>\n",
       "      <th>2</th>\n",
       "      <td>4.7</td>\n",
       "      <td>3.2</td>\n",
       "      <td>13.0</td>\n",
       "      <td>1.3</td>\n",
       "      <td>0.2</td>\n",
       "      <td>setosa</td>\n",
       "    </tr>\n",
       "    <tr>\n",
       "      <th>3</th>\n",
       "      <td>4.6</td>\n",
       "      <td>3.1</td>\n",
       "      <td>15.0</td>\n",
       "      <td>1.5</td>\n",
       "      <td>0.2</td>\n",
       "      <td>setosa</td>\n",
       "    </tr>\n",
       "    <tr>\n",
       "      <th>4</th>\n",
       "      <td>5.0</td>\n",
       "      <td>3.6</td>\n",
       "      <td>14.0</td>\n",
       "      <td>1.4</td>\n",
       "      <td>0.2</td>\n",
       "      <td>setosa</td>\n",
       "    </tr>\n",
       "    <tr>\n",
       "      <th>...</th>\n",
       "      <td>...</td>\n",
       "      <td>...</td>\n",
       "      <td>...</td>\n",
       "      <td>...</td>\n",
       "      <td>...</td>\n",
       "      <td>...</td>\n",
       "    </tr>\n",
       "    <tr>\n",
       "      <th>145</th>\n",
       "      <td>6.7</td>\n",
       "      <td>3.0</td>\n",
       "      <td>57.0</td>\n",
       "      <td>5.2</td>\n",
       "      <td>2.3</td>\n",
       "      <td>virginica</td>\n",
       "    </tr>\n",
       "    <tr>\n",
       "      <th>146</th>\n",
       "      <td>6.3</td>\n",
       "      <td>2.5</td>\n",
       "      <td>52.0</td>\n",
       "      <td>5.0</td>\n",
       "      <td>1.9</td>\n",
       "      <td>virginica</td>\n",
       "    </tr>\n",
       "    <tr>\n",
       "      <th>147</th>\n",
       "      <td>6.5</td>\n",
       "      <td>3.0</td>\n",
       "      <td>50.0</td>\n",
       "      <td>5.2</td>\n",
       "      <td>2.0</td>\n",
       "      <td>virginica</td>\n",
       "    </tr>\n",
       "    <tr>\n",
       "      <th>148</th>\n",
       "      <td>6.2</td>\n",
       "      <td>3.4</td>\n",
       "      <td>52.0</td>\n",
       "      <td>5.4</td>\n",
       "      <td>2.3</td>\n",
       "      <td>virginica</td>\n",
       "    </tr>\n",
       "    <tr>\n",
       "      <th>149</th>\n",
       "      <td>5.9</td>\n",
       "      <td>3.0</td>\n",
       "      <td>54.0</td>\n",
       "      <td>5.1</td>\n",
       "      <td>1.8</td>\n",
       "      <td>virginica</td>\n",
       "    </tr>\n",
       "  </tbody>\n",
       "</table>\n",
       "<p>150 rows × 6 columns</p>\n",
       "</div>"
      ],
      "text/plain": [
       "     Sepal_Length  Sepal_Width  new_col2  Petal_Length  Petal_Width    Species\n",
       "0             5.1          3.5      14.0           1.4          0.2     setosa\n",
       "1             4.9          3.0      11.0           1.4          0.2     setosa\n",
       "2             4.7          3.2      13.0           1.3          0.2     setosa\n",
       "3             4.6          3.1      15.0           1.5          0.2     setosa\n",
       "4             5.0          3.6      14.0           1.4          0.2     setosa\n",
       "..            ...          ...       ...           ...          ...        ...\n",
       "145           6.7          3.0      57.0           5.2          2.3  virginica\n",
       "146           6.3          2.5      52.0           5.0          1.9  virginica\n",
       "147           6.5          3.0      50.0           5.2          2.0  virginica\n",
       "148           6.2          3.4      52.0           5.4          2.3  virginica\n",
       "149           5.9          3.0      54.0           5.1          1.8  virginica\n",
       "\n",
       "[150 rows x 6 columns]"
      ]
     },
     "execution_count": 63,
     "metadata": {},
     "output_type": "execute_result"
    }
   ],
   "source": [
    "# 데이터프레임 객체에 있는 값의 수정\n",
    "df3 = df.copy()  # df를 df3로 복사\n",
    "df3.iloc[1, 2] = 5.5  # 1행 2열의 값 수정\n",
    "\n",
    "df3.loc[1, 'Petal_Length'] = 1.1\n",
    "df3.loc[df.Petal_Length > 6.5, 'Petal_Length'] *= 100\n",
    "\n",
    "# 코드 4-7에 이어서 실행 #######################################################\n",
    "\n",
    "# 데이터프레임 객체에 대한 행과 컬럼의 추가\n",
    "\n",
    "# 뒷부분에 새로운 행 추가\n",
    "new_idx = df3.shape[0]  # 추가할 행 번호 결정\n",
    "df3.loc[new_idx] = [1.1, 4.5, 3.4, 2.2, 'setosa']\n",
    "df3.tail()\n",
    "\n",
    "# 중간에 새로운 행 추가\n",
    "new_row = pd.DataFrame([[1.1, 2.2, 3.3, 4.4, 'virginica']],\n",
    "                       columns=df3.columns)\n",
    "new_row\n",
    "df3 = pd.concat([df3.iloc[:10], new_row, df3.iloc[10:]], ignore_index=True)\n",
    "df3.iloc[8:13, :]  # 입력 결과 확인\n",
    "\n",
    "# 여러 행 추가\n",
    "ext = pd.DataFrame([[1.2, 3.5, 4.3, 3.1, 'setosa'],\n",
    "                    [2.1, 3.2, 2.3, 5.2, 'versicolor']],\n",
    "                   columns=df3.columns)\n",
    "ext\n",
    "df3 = df3._append(ext, ignore_index=True)\n",
    "df3\n",
    "\n",
    "# 뒤쪽에 컬럼 추가\n",
    "new_col = df3.Petal_Length * 10\n",
    "df3['new_col'] = new_col\n",
    "df3\n",
    "\n",
    "# 중간에 컬럼 추가\n",
    "df4 = df.copy()\n",
    "df4.insert(loc=2, column='new_col2', value=new_col)  # 컬럼 인덱스 2 위치에 추가\n",
    "df4"
   ]
  },
  {
   "cell_type": "code",
   "execution_count": 64,
   "id": "a43134de-0927-4a08-b50f-ca795d782eb2",
   "metadata": {},
   "outputs": [
    {
     "data": {
      "text/html": [
       "<div>\n",
       "<style scoped>\n",
       "    .dataframe tbody tr th:only-of-type {\n",
       "        vertical-align: middle;\n",
       "    }\n",
       "\n",
       "    .dataframe tbody tr th {\n",
       "        vertical-align: top;\n",
       "    }\n",
       "\n",
       "    .dataframe thead th {\n",
       "        text-align: right;\n",
       "    }\n",
       "</style>\n",
       "<table border=\"1\" class=\"dataframe\">\n",
       "  <thead>\n",
       "    <tr style=\"text-align: right;\">\n",
       "      <th></th>\n",
       "      <th>index</th>\n",
       "      <th>Sepal_Length</th>\n",
       "      <th>Sepal_Width</th>\n",
       "      <th>Petal_Width</th>\n",
       "      <th>Species</th>\n",
       "    </tr>\n",
       "  </thead>\n",
       "  <tbody>\n",
       "    <tr>\n",
       "      <th>0</th>\n",
       "      <td>0</td>\n",
       "      <td>5.1</td>\n",
       "      <td>3.5</td>\n",
       "      <td>0.2</td>\n",
       "      <td>setosa</td>\n",
       "    </tr>\n",
       "    <tr>\n",
       "      <th>1</th>\n",
       "      <td>2</td>\n",
       "      <td>4.7</td>\n",
       "      <td>3.2</td>\n",
       "      <td>0.2</td>\n",
       "      <td>setosa</td>\n",
       "    </tr>\n",
       "    <tr>\n",
       "      <th>2</th>\n",
       "      <td>4</td>\n",
       "      <td>5.0</td>\n",
       "      <td>3.6</td>\n",
       "      <td>0.2</td>\n",
       "      <td>setosa</td>\n",
       "    </tr>\n",
       "    <tr>\n",
       "      <th>3</th>\n",
       "      <td>5</td>\n",
       "      <td>5.4</td>\n",
       "      <td>3.9</td>\n",
       "      <td>0.4</td>\n",
       "      <td>setosa</td>\n",
       "    </tr>\n",
       "    <tr>\n",
       "      <th>4</th>\n",
       "      <td>6</td>\n",
       "      <td>4.6</td>\n",
       "      <td>3.4</td>\n",
       "      <td>0.3</td>\n",
       "      <td>setosa</td>\n",
       "    </tr>\n",
       "    <tr>\n",
       "      <th>...</th>\n",
       "      <td>...</td>\n",
       "      <td>...</td>\n",
       "      <td>...</td>\n",
       "      <td>...</td>\n",
       "      <td>...</td>\n",
       "    </tr>\n",
       "    <tr>\n",
       "      <th>143</th>\n",
       "      <td>145</td>\n",
       "      <td>6.7</td>\n",
       "      <td>3.0</td>\n",
       "      <td>2.3</td>\n",
       "      <td>virginica</td>\n",
       "    </tr>\n",
       "    <tr>\n",
       "      <th>144</th>\n",
       "      <td>146</td>\n",
       "      <td>6.3</td>\n",
       "      <td>2.5</td>\n",
       "      <td>1.9</td>\n",
       "      <td>virginica</td>\n",
       "    </tr>\n",
       "    <tr>\n",
       "      <th>145</th>\n",
       "      <td>147</td>\n",
       "      <td>6.5</td>\n",
       "      <td>3.0</td>\n",
       "      <td>2.0</td>\n",
       "      <td>virginica</td>\n",
       "    </tr>\n",
       "    <tr>\n",
       "      <th>146</th>\n",
       "      <td>148</td>\n",
       "      <td>6.2</td>\n",
       "      <td>3.4</td>\n",
       "      <td>2.3</td>\n",
       "      <td>virginica</td>\n",
       "    </tr>\n",
       "    <tr>\n",
       "      <th>147</th>\n",
       "      <td>149</td>\n",
       "      <td>5.9</td>\n",
       "      <td>3.0</td>\n",
       "      <td>1.8</td>\n",
       "      <td>virginica</td>\n",
       "    </tr>\n",
       "  </tbody>\n",
       "</table>\n",
       "<p>148 rows × 5 columns</p>\n",
       "</div>"
      ],
      "text/plain": [
       "     index  Sepal_Length  Sepal_Width  Petal_Width    Species\n",
       "0        0           5.1          3.5          0.2     setosa\n",
       "1        2           4.7          3.2          0.2     setosa\n",
       "2        4           5.0          3.6          0.2     setosa\n",
       "3        5           5.4          3.9          0.4     setosa\n",
       "4        6           4.6          3.4          0.3     setosa\n",
       "..     ...           ...          ...          ...        ...\n",
       "143    145           6.7          3.0          2.3  virginica\n",
       "144    146           6.3          2.5          1.9  virginica\n",
       "145    147           6.5          3.0          2.0  virginica\n",
       "146    148           6.2          3.4          2.3  virginica\n",
       "147    149           5.9          3.0          1.8  virginica\n",
       "\n",
       "[148 rows x 5 columns]"
      ]
     },
     "execution_count": 64,
     "metadata": {},
     "output_type": "execute_result"
    }
   ],
   "source": [
    "df5 = df.copy()\n",
    "\n",
    "# 행의 삭제\n",
    "df5 = df5.drop(index=[1, 3])\n",
    "df5\n",
    "df5 = df5.reset_index()\n",
    "df5\n",
    "\n",
    "# 컬럼의 삭제\n",
    "df5 = df5.drop(columns='Petal_Length')\n",
    "df5"
   ]
  },
  {
   "cell_type": "markdown",
   "id": "a4643a44-32d1-4de7-aa6f-7e13f735f5d4",
   "metadata": {},
   "source": [
    "### Chapter 5 : 단일 변수 데이터 탐색(시각화)"
   ]
  },
  {
   "cell_type": "code",
   "execution_count": 65,
   "id": "c9f45317-75a1-402e-9093-2ccee0fa8f7c",
   "metadata": {},
   "outputs": [
    {
     "data": {
      "text/plain": [
       "2"
      ]
     },
     "execution_count": 65,
     "metadata": {},
     "output_type": "execute_result"
    }
   ],
   "source": [
    "# 도수분포표 작성\n",
    "favorite = pd.Series(['WINTER', 'SUMMER', 'SPRING', 'SUMMER', 'SUMMER',\n",
    "                      'FALL', 'FALL', 'SUMMER', 'SPRING', 'SPRING'])\n",
    "\n",
    "favorite  # favorite의 내용 출력\n",
    "favorite.value_counts()  # 도수분포 계산\n",
    "favorite.value_counts()/favorite.size  # 비율 계산\n",
    "\n",
    "fd = favorite.value_counts()  # 도수분포를 fd에 저장\n",
    "type(fd)  # fd의 자료구조 확인\n",
    "fd['SUMMER']  # SUMMER의 빈도 확인\n",
    "fd.iloc[2]  # 인덱스 2의 빈도 확인"
   ]
  },
  {
   "cell_type": "code",
   "execution_count": 68,
   "id": "8efa309c-4095-4248-8025-d7e69ca6394d",
   "metadata": {},
   "outputs": [
    {
     "data": {
      "image/png": "[encoded data removed]",
      "text/plain": [
       "<Figure size 640x480 with 1 Axes>"
      ]
     },
     "metadata": {},
     "output_type": "display_data"
    },
    {
     "data": {
      "image/png": "[encoded data removed]",
      "text/plain": [
       "<Figure size 640x480 with 1 Axes>"
      ]
     },
     "metadata": {},
     "output_type": "display_data"
    }
   ],
   "source": [
    "import matplotlib.pyplot as plt\n",
    "\n",
    "# 막대 그래프의 세로 출력\n",
    "fd.plot.bar(xlabel='Season',  # x축 레이블\n",
    "            ylabel='Frequency',  # y축 레이블\n",
    "            rot=0,  # x축 값의 회전 각도\n",
    "            title='Favorite Season')  # 그래프 제목\n",
    "plt.show()\n",
    "\n",
    "# 막대그래프의 가로 출력\n",
    "fd.plot.barh(xlabel='Frequency',  # x축 레이블\n",
    "             ylabel='Season',  # y축 레이블\n",
    "             rot=0,  # x축 값의 회전 각도\n",
    "             title='Favorite Season')  # 그래프 제목\n",
    "plt.subplots_adjust(left=0.2)  # 그래프 왼쪽 여백 조정\n",
    "plt.show()"
   ]
  },
  {
   "cell_type": "code",
   "execution_count": 69,
   "id": "21bd1d43-6577-4184-a1c3-cccc773c69fe",
   "metadata": {},
   "outputs": [
    {
     "data": {
      "image/png": "[encoded data removed]",
      "text/plain": [
       "<Figure size 640x480 with 1 Axes>"
      ]
     },
     "metadata": {},
     "output_type": "display_data"
    }
   ],
   "source": [
    "# 원그래프 작성\n",
    "fd.plot.pie(ylabel='',  # y축 레이블\n",
    "            autopct='%1.0f%%',  # 백분율 출력 지정\n",
    "            title='Favorite Season')  # 그래프 제목\n",
    "plt.show()"
   ]
  },
  {
   "cell_type": "code",
   "execution_count": 70,
   "id": "a0d87030-aa07-451d-8137-647e3e1858f0",
   "metadata": {},
   "outputs": [
    {
     "data": {
      "image/png": "[encoded data removed]",
      "text/plain": [
       "<Figure size 640x480 with 1 Axes>"
      ]
     },
     "metadata": {},
     "output_type": "display_data"
    },
    {
     "data": {
      "image/png": "[encoded data removed]",
      "text/plain": [
       "<Figure size 640x480 with 1 Axes>"
      ]
     },
     "metadata": {},
     "output_type": "display_data"
    }
   ],
   "source": [
    "# 숫자로 표현된 범주형 데이터의 시각화\n",
    "colors = pd.Series([2, 3, 2, 1, 1, 2, 2, 1, 3, 2, 1, 3, 2, 1, 2])\n",
    "\n",
    "fd = colors.value_counts()  # 도수분포를 fd에 저장\n",
    "fd\n",
    "fd.index  # fd의 인덱스 출력\n",
    "fd.index = ['red', 'green', 'blue']  # 숫자 인덱스를 문자 인덱스로 변경\n",
    "fd\n",
    "\n",
    "# 막대그래프 출력\n",
    "fd.plot.bar(xlabel='Color', ylabel='Frequency', rot=0, title='Favorite Color')\n",
    "plt.show()\n",
    "\n",
    "# 원그래프 출력\n",
    "fd.plot.pie(ylabel='', autopct='%1.0f%%', title='Favorite Color')\n",
    "plt.show()\n"
   ]
  },
  {
   "cell_type": "code",
   "execution_count": 72,
   "id": "87d727fe-8981-4e5e-afdc-c35691c3661e",
   "metadata": {},
   "outputs": [],
   "source": [
    "from scipy import stats"
   ]
  },
  {
   "cell_type": "code",
   "execution_count": 73,
   "id": "5d5bbf44-faab-4676-9568-1fff383cde66",
   "metadata": {},
   "outputs": [
    {
     "data": {
      "text/plain": [
       "65.6"
      ]
     },
     "execution_count": 73,
     "metadata": {},
     "output_type": "execute_result"
    }
   ],
   "source": [
    "# 평균 계산 방식\n",
    "ds = [60, 62, 64, 65, 68, 69]\n",
    "weight = pd.Series(ds)\n",
    "ds.append(120)  # ds에 120 추가\n",
    "weight_heavy = pd.Series(ds)\n",
    "weight\n",
    "weight_heavy\n",
    "\n",
    "weight.mean()  # 평균\n",
    "weight_heavy.mean()  # 평균\n",
    "\n",
    "weight.median()  # 중앙값\n",
    "weight_heavy.median()  # 중앙값\n",
    "\n",
    "stats.trim_mean(weight, 0.2)  # 절사평균(상하위 20% 제외)\n",
    "stats.trim_mean(weight_heavy, 0.2)  # 절사평균(상하위 20% 제외)"
   ]
  },
  {
   "cell_type": "code",
   "execution_count": 74,
   "id": "4e4c0da9-7fcf-4f04-8645-465bdf9796c4",
   "metadata": {},
   "outputs": [
    {
     "data": {
      "text/plain": [
       "count      7.000000\n",
       "mean      72.571429\n",
       "std       21.149130\n",
       "min       60.000000\n",
       "25%       63.000000\n",
       "50%       65.000000\n",
       "75%       68.500000\n",
       "max      120.000000\n",
       "dtype: float64"
      ]
     },
     "execution_count": 74,
     "metadata": {},
     "output_type": "execute_result"
    }
   ],
   "source": [
    "# 사분위수 계산\n",
    "mydata = [60, 62, 64, 65, 68, 69, 120]\n",
    "mydata = pd.Series(mydata)\n",
    "mydata.quantile(0.25)  # Q1\n",
    "mydata.quantile(0.5)  # Q2\n",
    "mydata.quantile(0.75)  # Q3\n",
    "mydata.quantile([0.25, 0.5, 0.75])\n",
    "\n",
    "mydata.quantile(np.arange(0, 1, 0.1))  # 10% 단위로 구간을 나누어 계산\n",
    "mydata.describe()  # 사분위수를 포함한 요약 정보\n"
   ]
  },
  {
   "cell_type": "code",
   "execution_count": 75,
   "id": "26fef3ec-1e3e-475b-b0a6-840f6bd978a4",
   "metadata": {},
   "outputs": [
    {
     "data": {
      "text/plain": [
       "4.191828786034631"
      ]
     },
     "execution_count": 75,
     "metadata": {},
     "output_type": "execute_result"
    }
   ],
   "source": [
    "# 산포 계산\n",
    "mydata = pd.Series([60, 62, 64, 65, 68, 69, 72])\n",
    "\n",
    "mydata.var()  # 분산\n",
    "mydata.std()  # 표준편차"
   ]
  },
  {
   "cell_type": "code",
   "execution_count": 76,
   "id": "7d72079f-ee85-4354-b016-25b1d3845488",
   "metadata": {},
   "outputs": [
    {
     "data": {
      "image/png": "[encoded data removed]",
      "text/plain": [
       "<Figure size 640x480 with 1 Axes>"
      ]
     },
     "metadata": {},
     "output_type": "display_data"
    },
    {
     "data": {
      "image/png": "[encoded data removed]",
      "text/plain": [
       "<Figure size 640x480 with 1 Axes>"
      ]
     },
     "metadata": {},
     "output_type": "display_data"
    },
    {
     "data": {
      "image/png": "[encoded data removed]",
      "text/plain": [
       "<Figure size 640x480 with 1 Axes>"
      ]
     },
     "metadata": {},
     "output_type": "display_data"
    }
   ],
   "source": [
    "# 데이터 준비\n",
    "df = pd.read_csv('./cars.csv')\n",
    "dist = df['dist']  # 제동거리\n",
    "dist\n",
    "\n",
    "# 구간 개수를 지정하여 히스토그램 그리기\n",
    "dist.plot.hist()  # 기본 그래프\n",
    "plt.show()\n",
    "\n",
    "dist.plot.hist(bins=6)  # 막대 개수 지정\n",
    "plt.show()\n",
    "\n",
    "# 구간별 빈도수 계산\n",
    "dist.value_counts(bins=6, sort=False)\n",
    "\n",
    "dist.plot.hist(bins=6,  # 막대 개수 지정\n",
    "               title='Braking distance',  # 그래프 제목\n",
    "               xlabel='distance',  # x축 레이블\n",
    "               ylabel='frequency',  # y축 레이블\n",
    "               color='g')  # 막대 색\n",
    "plt.show()"
   ]
  },
  {
   "cell_type": "code",
   "execution_count": 79,
   "id": "e2ee2e83-0319-4d0d-99f2-cb5a25860711",
   "metadata": {},
   "outputs": [
    {
     "data": {
      "text/html": [
       "<div>\n",
       "<style scoped>\n",
       "    .dataframe tbody tr th:only-of-type {\n",
       "        vertical-align: middle;\n",
       "    }\n",
       "\n",
       "    .dataframe tbody tr th {\n",
       "        vertical-align: top;\n",
       "    }\n",
       "\n",
       "    .dataframe thead th {\n",
       "        text-align: right;\n",
       "    }\n",
       "</style>\n",
       "<table border=\"1\" class=\"dataframe\">\n",
       "  <thead>\n",
       "    <tr style=\"text-align: right;\">\n",
       "      <th></th>\n",
       "      <th>speed</th>\n",
       "      <th>dist</th>\n",
       "    </tr>\n",
       "  </thead>\n",
       "  <tbody>\n",
       "    <tr>\n",
       "      <th>0</th>\n",
       "      <td>4</td>\n",
       "      <td>2</td>\n",
       "    </tr>\n",
       "    <tr>\n",
       "      <th>1</th>\n",
       "      <td>4</td>\n",
       "      <td>10</td>\n",
       "    </tr>\n",
       "    <tr>\n",
       "      <th>2</th>\n",
       "      <td>7</td>\n",
       "      <td>4</td>\n",
       "    </tr>\n",
       "    <tr>\n",
       "      <th>3</th>\n",
       "      <td>7</td>\n",
       "      <td>22</td>\n",
       "    </tr>\n",
       "    <tr>\n",
       "      <th>4</th>\n",
       "      <td>8</td>\n",
       "      <td>16</td>\n",
       "    </tr>\n",
       "  </tbody>\n",
       "</table>\n",
       "</div>"
      ],
      "text/plain": [
       "   speed  dist\n",
       "0      4     2\n",
       "1      4    10\n",
       "2      7     4\n",
       "3      7    22\n",
       "4      8    16"
      ]
     },
     "execution_count": 79,
     "metadata": {},
     "output_type": "execute_result"
    }
   ],
   "source": [
    "df.head()"
   ]
  },
  {
   "cell_type": "code",
   "execution_count": 77,
   "id": "a851c265-f1c9-4bd5-b1ac-cf01b3b8e8cc",
   "metadata": {},
   "outputs": [
    {
     "data": {
      "image/png": "[encoded data removed]",
      "text/plain": [
       "<Figure size 640x480 with 1 Axes>"
      ]
     },
     "metadata": {},
     "output_type": "display_data"
    }
   ],
   "source": [
    "# 상자그림 그리기\n",
    "dist.plot.box(title='Breaking distance')\n",
    "plt.show()\n"
   ]
  },
  {
   "cell_type": "code",
   "execution_count": 80,
   "id": "641c75ac-5429-43ff-b9f0-1a7b71d09628",
   "metadata": {},
   "outputs": [
    {
     "data": {
      "image/png": "[encoded data removed]",
      "text/plain": [
       "<Figure size 600x400 with 1 Axes>"
      ]
     },
     "metadata": {},
     "output_type": "display_data"
    }
   ],
   "source": [
    "favorite = pd.Series(['WINTER', 'SUMMER', 'SPRING', 'SUMMER', 'SUMMER',\n",
    "                      'FALL', 'FALL', 'SUMMER', 'SPRING', 'SPRING'])\n",
    "\n",
    "fd = favorite.value_counts()  # 도수분포를 fd에 저장\n",
    "\n",
    "fd.plot.bar(xlabel='Season',  # x축 레이블\n",
    "            ylabel='Frequency',  # y축 레이블\n",
    "            rot=30,  # x축 값의 회전 각도\n",
    "            title='Favorite Season',  # 그래프 제목\n",
    "            color='b',  # 막대의 색\n",
    "            grid=True,  # 격자 표시\n",
    "            figsize=(6, 4)  # 그래프의 크기(inch)\n",
    "            )\n",
    "\n",
    "plt.subplots_adjust(bottom=0.2)  # 그래프 아래쪽 여백\n",
    "plt.show()\n"
   ]
  },
  {
   "cell_type": "code",
   "execution_count": 81,
   "id": "2e684a49-ce45-4946-8b53-e83e9fcc9f34",
   "metadata": {},
   "outputs": [
    {
     "data": {
      "image/png": "[encoded data removed]",
      "text/plain": [
       "<Figure size 640x480 with 1 Axes>"
      ]
     },
     "metadata": {},
     "output_type": "display_data"
    }
   ],
   "source": [
    "plt.rcParams['font.family'] = 'Malgun Gothic'  # 한글 폰트 설정\n",
    "plt.rcParams['axes.unicode_minus'] = False  # 마이너스 부호 깨짐 방지\n",
    "\n",
    "ser = pd.Series([1, 2, 3, 3])\n",
    "ser.plot.hist(title='그래프 예제 - 히스토그램')\n",
    "plt.show()"
   ]
  },
  {
   "cell_type": "code",
   "execution_count": null,
   "id": "beb0a9cc-f7d9-4312-9422-49efa55e58ec",
   "metadata": {},
   "outputs": [],
   "source": []
  },
  {
   "cell_type": "code",
   "execution_count": null,
   "id": "3bed7ff8-fea1-4113-b0bd-bed338b680e7",
   "metadata": {},
   "outputs": [],
   "source": []
  }
 ],
 "metadata": {
  "kernelspec": {
   "display_name": "Python 3 (ipykernel)",
   "language": "python",
   "name": "python3"
  },
  "language_info": {
   "codemirror_mode": {
    "name": "ipython",
    "version": 3
   },
   "file_extension": ".py",
   "mimetype": "text/x-python",
   "name": "python",
   "nbconvert_exporter": "python",
   "pygments_lexer": "ipython3",
   "version": "3.11.7"
  }
 },
 "nbformat": 4,
 "nbformat_minor": 5
}
